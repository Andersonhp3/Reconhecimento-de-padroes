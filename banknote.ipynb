{
  "nbformat": 4,
  "nbformat_minor": 0,
  "metadata": {
    "colab": {
      "name": "banknote.ipynb",
      "provenance": [],
      "authorship_tag": "ABX9TyPiCAyMB3h8ZkVpHu7CaKHS",
      "include_colab_link": true
    },
    "kernelspec": {
      "name": "python3",
      "display_name": "Python 3"
    },
    "language_info": {
      "name": "python"
    }
  },
  "cells": [
    {
      "cell_type": "markdown",
      "metadata": {
        "id": "view-in-github",
        "colab_type": "text"
      },
      "source": [
        "<a href=\"https://colab.research.google.com/github/Andersonhp3/Reconhecimento-de-padroes/blob/main/banknote.ipynb\" target=\"_parent\"><img src=\"https://colab.research.google.com/assets/colab-badge.svg\" alt=\"Open In Colab\"/></a>"
      ]
    },
    {
      "cell_type": "code",
      "metadata": {
        "id": "Z5DzRalaZQxl"
      },
      "source": [
        "import pandas as pd\n",
        "import numpy as np\n",
        "import matplotlib.pyplot as plt\n",
        "from scipy.stats import friedmanchisquare\n",
        "from scipy.stats import wilcoxon"
      ],
      "execution_count": null,
      "outputs": []
    },
    {
      "cell_type": "markdown",
      "metadata": {
        "id": "K0ySJfPEcx5_"
      },
      "source": [
        "# **Importando base de dados**"
      ]
    },
    {
      "cell_type": "code",
      "metadata": {
        "colab": {
          "base_uri": "https://localhost:8080/",
          "height": 419
        },
        "id": "4lhBSOcdZYoX",
        "outputId": "f505d022-4ea8-4c2c-f671-c726ad27d591"
      },
      "source": [
        "banknote = pd.read_csv('data_banknote_authentication.csv')\n",
        "banknote"
      ],
      "execution_count": null,
      "outputs": [
        {
          "output_type": "execute_result",
          "data": {
            "text/html": [
              "<div>\n",
              "<style scoped>\n",
              "    .dataframe tbody tr th:only-of-type {\n",
              "        vertical-align: middle;\n",
              "    }\n",
              "\n",
              "    .dataframe tbody tr th {\n",
              "        vertical-align: top;\n",
              "    }\n",
              "\n",
              "    .dataframe thead th {\n",
              "        text-align: right;\n",
              "    }\n",
              "</style>\n",
              "<table border=\"1\" class=\"dataframe\">\n",
              "  <thead>\n",
              "    <tr style=\"text-align: right;\">\n",
              "      <th></th>\n",
              "      <th>variancia</th>\n",
              "      <th>assimentria</th>\n",
              "      <th>curtose</th>\n",
              "      <th>entropia</th>\n",
              "      <th>classe</th>\n",
              "    </tr>\n",
              "  </thead>\n",
              "  <tbody>\n",
              "    <tr>\n",
              "      <th>0</th>\n",
              "      <td>3.62160</td>\n",
              "      <td>8.66610</td>\n",
              "      <td>-2.8073</td>\n",
              "      <td>-0.44699</td>\n",
              "      <td>0</td>\n",
              "    </tr>\n",
              "    <tr>\n",
              "      <th>1</th>\n",
              "      <td>4.54590</td>\n",
              "      <td>8.16740</td>\n",
              "      <td>-2.4586</td>\n",
              "      <td>-1.46210</td>\n",
              "      <td>0</td>\n",
              "    </tr>\n",
              "    <tr>\n",
              "      <th>2</th>\n",
              "      <td>3.86600</td>\n",
              "      <td>-2.63830</td>\n",
              "      <td>1.9242</td>\n",
              "      <td>0.10645</td>\n",
              "      <td>0</td>\n",
              "    </tr>\n",
              "    <tr>\n",
              "      <th>3</th>\n",
              "      <td>3.45660</td>\n",
              "      <td>9.52280</td>\n",
              "      <td>-4.0112</td>\n",
              "      <td>-3.59440</td>\n",
              "      <td>0</td>\n",
              "    </tr>\n",
              "    <tr>\n",
              "      <th>4</th>\n",
              "      <td>0.32924</td>\n",
              "      <td>-4.45520</td>\n",
              "      <td>4.5718</td>\n",
              "      <td>-0.98880</td>\n",
              "      <td>0</td>\n",
              "    </tr>\n",
              "    <tr>\n",
              "      <th>...</th>\n",
              "      <td>...</td>\n",
              "      <td>...</td>\n",
              "      <td>...</td>\n",
              "      <td>...</td>\n",
              "      <td>...</td>\n",
              "    </tr>\n",
              "    <tr>\n",
              "      <th>1367</th>\n",
              "      <td>0.40614</td>\n",
              "      <td>1.34920</td>\n",
              "      <td>-1.4501</td>\n",
              "      <td>-0.55949</td>\n",
              "      <td>1</td>\n",
              "    </tr>\n",
              "    <tr>\n",
              "      <th>1368</th>\n",
              "      <td>-1.38870</td>\n",
              "      <td>-4.87730</td>\n",
              "      <td>6.4774</td>\n",
              "      <td>0.34179</td>\n",
              "      <td>1</td>\n",
              "    </tr>\n",
              "    <tr>\n",
              "      <th>1369</th>\n",
              "      <td>-3.75030</td>\n",
              "      <td>-13.45860</td>\n",
              "      <td>17.5932</td>\n",
              "      <td>-2.77710</td>\n",
              "      <td>1</td>\n",
              "    </tr>\n",
              "    <tr>\n",
              "      <th>1370</th>\n",
              "      <td>-3.56370</td>\n",
              "      <td>-8.38270</td>\n",
              "      <td>12.3930</td>\n",
              "      <td>-1.28230</td>\n",
              "      <td>1</td>\n",
              "    </tr>\n",
              "    <tr>\n",
              "      <th>1371</th>\n",
              "      <td>-2.54190</td>\n",
              "      <td>-0.65804</td>\n",
              "      <td>2.6842</td>\n",
              "      <td>1.19520</td>\n",
              "      <td>1</td>\n",
              "    </tr>\n",
              "  </tbody>\n",
              "</table>\n",
              "<p>1372 rows × 5 columns</p>\n",
              "</div>"
            ],
            "text/plain": [
              "      variancia  assimentria  curtose  entropia  classe\n",
              "0       3.62160      8.66610  -2.8073  -0.44699       0\n",
              "1       4.54590      8.16740  -2.4586  -1.46210       0\n",
              "2       3.86600     -2.63830   1.9242   0.10645       0\n",
              "3       3.45660      9.52280  -4.0112  -3.59440       0\n",
              "4       0.32924     -4.45520   4.5718  -0.98880       0\n",
              "...         ...          ...      ...       ...     ...\n",
              "1367    0.40614      1.34920  -1.4501  -0.55949       1\n",
              "1368   -1.38870     -4.87730   6.4774   0.34179       1\n",
              "1369   -3.75030    -13.45860  17.5932  -2.77710       1\n",
              "1370   -3.56370     -8.38270  12.3930  -1.28230       1\n",
              "1371   -2.54190     -0.65804   2.6842   1.19520       1\n",
              "\n",
              "[1372 rows x 5 columns]"
            ]
          },
          "metadata": {
            "tags": []
          },
          "execution_count": 2
        }
      ]
    },
    {
      "cell_type": "code",
      "metadata": {
        "id": "LAZAmn7iZhmt",
        "colab": {
          "base_uri": "https://localhost:8080/",
          "height": 297
        },
        "outputId": "44f652fc-213f-4f17-fcc0-c351d040ad30"
      },
      "source": [
        "banknote.describe(include='all')"
      ],
      "execution_count": null,
      "outputs": [
        {
          "output_type": "execute_result",
          "data": {
            "text/html": [
              "<div>\n",
              "<style scoped>\n",
              "    .dataframe tbody tr th:only-of-type {\n",
              "        vertical-align: middle;\n",
              "    }\n",
              "\n",
              "    .dataframe tbody tr th {\n",
              "        vertical-align: top;\n",
              "    }\n",
              "\n",
              "    .dataframe thead th {\n",
              "        text-align: right;\n",
              "    }\n",
              "</style>\n",
              "<table border=\"1\" class=\"dataframe\">\n",
              "  <thead>\n",
              "    <tr style=\"text-align: right;\">\n",
              "      <th></th>\n",
              "      <th>variancia</th>\n",
              "      <th>assimentria</th>\n",
              "      <th>curtose</th>\n",
              "      <th>entropia</th>\n",
              "      <th>classe</th>\n",
              "    </tr>\n",
              "  </thead>\n",
              "  <tbody>\n",
              "    <tr>\n",
              "      <th>count</th>\n",
              "      <td>1372.000000</td>\n",
              "      <td>1372.000000</td>\n",
              "      <td>1372.000000</td>\n",
              "      <td>1372.000000</td>\n",
              "      <td>1372.000000</td>\n",
              "    </tr>\n",
              "    <tr>\n",
              "      <th>mean</th>\n",
              "      <td>0.433735</td>\n",
              "      <td>1.922353</td>\n",
              "      <td>1.397627</td>\n",
              "      <td>-1.191657</td>\n",
              "      <td>0.444606</td>\n",
              "    </tr>\n",
              "    <tr>\n",
              "      <th>std</th>\n",
              "      <td>2.842763</td>\n",
              "      <td>5.869047</td>\n",
              "      <td>4.310030</td>\n",
              "      <td>2.101013</td>\n",
              "      <td>0.497103</td>\n",
              "    </tr>\n",
              "    <tr>\n",
              "      <th>min</th>\n",
              "      <td>-7.042100</td>\n",
              "      <td>-13.773100</td>\n",
              "      <td>-5.286100</td>\n",
              "      <td>-8.548200</td>\n",
              "      <td>0.000000</td>\n",
              "    </tr>\n",
              "    <tr>\n",
              "      <th>25%</th>\n",
              "      <td>-1.773000</td>\n",
              "      <td>-1.708200</td>\n",
              "      <td>-1.574975</td>\n",
              "      <td>-2.413450</td>\n",
              "      <td>0.000000</td>\n",
              "    </tr>\n",
              "    <tr>\n",
              "      <th>50%</th>\n",
              "      <td>0.496180</td>\n",
              "      <td>2.319650</td>\n",
              "      <td>0.616630</td>\n",
              "      <td>-0.586650</td>\n",
              "      <td>0.000000</td>\n",
              "    </tr>\n",
              "    <tr>\n",
              "      <th>75%</th>\n",
              "      <td>2.821475</td>\n",
              "      <td>6.814625</td>\n",
              "      <td>3.179250</td>\n",
              "      <td>0.394810</td>\n",
              "      <td>1.000000</td>\n",
              "    </tr>\n",
              "    <tr>\n",
              "      <th>max</th>\n",
              "      <td>6.824800</td>\n",
              "      <td>12.951600</td>\n",
              "      <td>17.927400</td>\n",
              "      <td>2.449500</td>\n",
              "      <td>1.000000</td>\n",
              "    </tr>\n",
              "  </tbody>\n",
              "</table>\n",
              "</div>"
            ],
            "text/plain": [
              "         variancia  assimentria      curtose     entropia       classe\n",
              "count  1372.000000  1372.000000  1372.000000  1372.000000  1372.000000\n",
              "mean      0.433735     1.922353     1.397627    -1.191657     0.444606\n",
              "std       2.842763     5.869047     4.310030     2.101013     0.497103\n",
              "min      -7.042100   -13.773100    -5.286100    -8.548200     0.000000\n",
              "25%      -1.773000    -1.708200    -1.574975    -2.413450     0.000000\n",
              "50%       0.496180     2.319650     0.616630    -0.586650     0.000000\n",
              "75%       2.821475     6.814625     3.179250     0.394810     1.000000\n",
              "max       6.824800    12.951600    17.927400     2.449500     1.000000"
            ]
          },
          "metadata": {
            "tags": []
          },
          "execution_count": 3
        }
      ]
    },
    {
      "cell_type": "code",
      "metadata": {
        "id": "SlLorey3Zmp8",
        "colab": {
          "base_uri": "https://localhost:8080/"
        },
        "outputId": "86b83742-9d5a-40e8-98a6-5282365d9b67"
      },
      "source": [
        "X  = banknote.iloc[:,0:4]\n",
        "Y = banknote.iloc[:,4]\n",
        "Y"
      ],
      "execution_count": null,
      "outputs": [
        {
          "output_type": "execute_result",
          "data": {
            "text/plain": [
              "0       0\n",
              "1       0\n",
              "2       0\n",
              "3       0\n",
              "4       0\n",
              "       ..\n",
              "1367    1\n",
              "1368    1\n",
              "1369    1\n",
              "1370    1\n",
              "1371    1\n",
              "Name: classe, Length: 1372, dtype: int64"
            ]
          },
          "metadata": {
            "tags": []
          },
          "execution_count": 4
        }
      ]
    },
    {
      "cell_type": "markdown",
      "metadata": {
        "id": "Lua2ZyHpdFIY"
      },
      "source": [
        "# **Utilizando StandardScaler**"
      ]
    },
    {
      "cell_type": "code",
      "metadata": {
        "colab": {
          "base_uri": "https://localhost:8080/",
          "height": 419
        },
        "id": "EzH0m6X1bC4Y",
        "outputId": "5d44487e-f5dd-40ef-f08c-5d4e486bbe1f"
      },
      "source": [
        "from sklearn.preprocessing import StandardScaler\n",
        "X = StandardScaler().fit_transform(X)\n",
        "X = pd.DataFrame(X)\n",
        "X"
      ],
      "execution_count": null,
      "outputs": [
        {
          "output_type": "execute_result",
          "data": {
            "text/html": [
              "<div>\n",
              "<style scoped>\n",
              "    .dataframe tbody tr th:only-of-type {\n",
              "        vertical-align: middle;\n",
              "    }\n",
              "\n",
              "    .dataframe tbody tr th {\n",
              "        vertical-align: top;\n",
              "    }\n",
              "\n",
              "    .dataframe thead th {\n",
              "        text-align: right;\n",
              "    }\n",
              "</style>\n",
              "<table border=\"1\" class=\"dataframe\">\n",
              "  <thead>\n",
              "    <tr style=\"text-align: right;\">\n",
              "      <th></th>\n",
              "      <th>0</th>\n",
              "      <th>1</th>\n",
              "      <th>2</th>\n",
              "      <th>3</th>\n",
              "    </tr>\n",
              "  </thead>\n",
              "  <tbody>\n",
              "    <tr>\n",
              "      <th>0</th>\n",
              "      <td>1.121806</td>\n",
              "      <td>1.149455</td>\n",
              "      <td>-0.975970</td>\n",
              "      <td>0.354561</td>\n",
              "    </tr>\n",
              "    <tr>\n",
              "      <th>1</th>\n",
              "      <td>1.447066</td>\n",
              "      <td>1.064453</td>\n",
              "      <td>-0.895036</td>\n",
              "      <td>-0.128767</td>\n",
              "    </tr>\n",
              "    <tr>\n",
              "      <th>2</th>\n",
              "      <td>1.207810</td>\n",
              "      <td>-0.777352</td>\n",
              "      <td>0.122218</td>\n",
              "      <td>0.618073</td>\n",
              "    </tr>\n",
              "    <tr>\n",
              "      <th>3</th>\n",
              "      <td>1.063742</td>\n",
              "      <td>1.295478</td>\n",
              "      <td>-1.255397</td>\n",
              "      <td>-1.144029</td>\n",
              "    </tr>\n",
              "    <tr>\n",
              "      <th>4</th>\n",
              "      <td>-0.036772</td>\n",
              "      <td>-1.087038</td>\n",
              "      <td>0.736730</td>\n",
              "      <td>0.096587</td>\n",
              "    </tr>\n",
              "    <tr>\n",
              "      <th>...</th>\n",
              "      <td>...</td>\n",
              "      <td>...</td>\n",
              "      <td>...</td>\n",
              "      <td>...</td>\n",
              "    </tr>\n",
              "    <tr>\n",
              "      <th>1367</th>\n",
              "      <td>-0.009711</td>\n",
              "      <td>-0.097693</td>\n",
              "      <td>-0.660962</td>\n",
              "      <td>0.300996</td>\n",
              "    </tr>\n",
              "    <tr>\n",
              "      <th>1368</th>\n",
              "      <td>-0.641313</td>\n",
              "      <td>-1.158984</td>\n",
              "      <td>1.179023</td>\n",
              "      <td>0.730127</td>\n",
              "    </tr>\n",
              "    <tr>\n",
              "      <th>1369</th>\n",
              "      <td>-1.472357</td>\n",
              "      <td>-2.621646</td>\n",
              "      <td>3.759017</td>\n",
              "      <td>-0.754884</td>\n",
              "    </tr>\n",
              "    <tr>\n",
              "      <th>1370</th>\n",
              "      <td>-1.406693</td>\n",
              "      <td>-1.756471</td>\n",
              "      <td>2.552043</td>\n",
              "      <td>-0.043158</td>\n",
              "    </tr>\n",
              "    <tr>\n",
              "      <th>1371</th>\n",
              "      <td>-1.047122</td>\n",
              "      <td>-0.439822</td>\n",
              "      <td>0.298616</td>\n",
              "      <td>1.136464</td>\n",
              "    </tr>\n",
              "  </tbody>\n",
              "</table>\n",
              "<p>1372 rows × 4 columns</p>\n",
              "</div>"
            ],
            "text/plain": [
              "             0         1         2         3\n",
              "0     1.121806  1.149455 -0.975970  0.354561\n",
              "1     1.447066  1.064453 -0.895036 -0.128767\n",
              "2     1.207810 -0.777352  0.122218  0.618073\n",
              "3     1.063742  1.295478 -1.255397 -1.144029\n",
              "4    -0.036772 -1.087038  0.736730  0.096587\n",
              "...        ...       ...       ...       ...\n",
              "1367 -0.009711 -0.097693 -0.660962  0.300996\n",
              "1368 -0.641313 -1.158984  1.179023  0.730127\n",
              "1369 -1.472357 -2.621646  3.759017 -0.754884\n",
              "1370 -1.406693 -1.756471  2.552043 -0.043158\n",
              "1371 -1.047122 -0.439822  0.298616  1.136464\n",
              "\n",
              "[1372 rows x 4 columns]"
            ]
          },
          "metadata": {
            "tags": []
          },
          "execution_count": 5
        }
      ]
    },
    {
      "cell_type": "code",
      "metadata": {
        "colab": {
          "base_uri": "https://localhost:8080/",
          "height": 297
        },
        "id": "ii2c3s52dWvw",
        "outputId": "f9f8f212-1b7b-4d56-b243-45a849dc42c3"
      },
      "source": [
        "X.describe()"
      ],
      "execution_count": null,
      "outputs": [
        {
          "output_type": "execute_result",
          "data": {
            "text/html": [
              "<div>\n",
              "<style scoped>\n",
              "    .dataframe tbody tr th:only-of-type {\n",
              "        vertical-align: middle;\n",
              "    }\n",
              "\n",
              "    .dataframe tbody tr th {\n",
              "        vertical-align: top;\n",
              "    }\n",
              "\n",
              "    .dataframe thead th {\n",
              "        text-align: right;\n",
              "    }\n",
              "</style>\n",
              "<table border=\"1\" class=\"dataframe\">\n",
              "  <thead>\n",
              "    <tr style=\"text-align: right;\">\n",
              "      <th></th>\n",
              "      <th>0</th>\n",
              "      <th>1</th>\n",
              "      <th>2</th>\n",
              "      <th>3</th>\n",
              "    </tr>\n",
              "  </thead>\n",
              "  <tbody>\n",
              "    <tr>\n",
              "      <th>count</th>\n",
              "      <td>1.372000e+03</td>\n",
              "      <td>1.372000e+03</td>\n",
              "      <td>1.372000e+03</td>\n",
              "      <td>1.372000e+03</td>\n",
              "    </tr>\n",
              "    <tr>\n",
              "      <th>mean</th>\n",
              "      <td>4.633482e-16</td>\n",
              "      <td>-5.385229e-17</td>\n",
              "      <td>8.577525e-18</td>\n",
              "      <td>-1.359457e-17</td>\n",
              "    </tr>\n",
              "    <tr>\n",
              "      <th>std</th>\n",
              "      <td>1.000365e+00</td>\n",
              "      <td>1.000365e+00</td>\n",
              "      <td>1.000365e+00</td>\n",
              "      <td>1.000365e+00</td>\n",
              "    </tr>\n",
              "    <tr>\n",
              "      <th>min</th>\n",
              "      <td>-2.630737e+00</td>\n",
              "      <td>-2.675252e+00</td>\n",
              "      <td>-1.551303e+00</td>\n",
              "      <td>-3.502703e+00</td>\n",
              "    </tr>\n",
              "    <tr>\n",
              "      <th>25%</th>\n",
              "      <td>-7.765474e-01</td>\n",
              "      <td>-6.188189e-01</td>\n",
              "      <td>-6.899455e-01</td>\n",
              "      <td>-5.817379e-01</td>\n",
              "    </tr>\n",
              "    <tr>\n",
              "      <th>50%</th>\n",
              "      <td>2.197423e-02</td>\n",
              "      <td>6.771828e-02</td>\n",
              "      <td>-1.812706e-01</td>\n",
              "      <td>2.880644e-01</td>\n",
              "    </tr>\n",
              "    <tr>\n",
              "      <th>75%</th>\n",
              "      <td>8.402427e-01</td>\n",
              "      <td>8.338757e-01</td>\n",
              "      <td>4.135174e-01</td>\n",
              "      <td>7.553713e-01</td>\n",
              "    </tr>\n",
              "    <tr>\n",
              "      <th>max</th>\n",
              "      <td>2.249008e+00</td>\n",
              "      <td>1.879908e+00</td>\n",
              "      <td>3.836586e+00</td>\n",
              "      <td>1.733680e+00</td>\n",
              "    </tr>\n",
              "  </tbody>\n",
              "</table>\n",
              "</div>"
            ],
            "text/plain": [
              "                  0             1             2             3\n",
              "count  1.372000e+03  1.372000e+03  1.372000e+03  1.372000e+03\n",
              "mean   4.633482e-16 -5.385229e-17  8.577525e-18 -1.359457e-17\n",
              "std    1.000365e+00  1.000365e+00  1.000365e+00  1.000365e+00\n",
              "min   -2.630737e+00 -2.675252e+00 -1.551303e+00 -3.502703e+00\n",
              "25%   -7.765474e-01 -6.188189e-01 -6.899455e-01 -5.817379e-01\n",
              "50%    2.197423e-02  6.771828e-02 -1.812706e-01  2.880644e-01\n",
              "75%    8.402427e-01  8.338757e-01  4.135174e-01  7.553713e-01\n",
              "max    2.249008e+00  1.879908e+00  3.836586e+00  1.733680e+00"
            ]
          },
          "metadata": {
            "tags": []
          },
          "execution_count": 6
        }
      ]
    },
    {
      "cell_type": "markdown",
      "metadata": {
        "id": "AleiFru1hun4"
      },
      "source": [
        "# **Processamento com K-NN**"
      ]
    },
    {
      "cell_type": "code",
      "metadata": {
        "colab": {
          "base_uri": "https://localhost:8080/"
        },
        "id": "wVanHpEnd59n",
        "outputId": "9da717ed-d705-4181-afea-83367866f1b2"
      },
      "source": [
        "banknote2 = pd.read_csv('data_banknote_authentication.csv')\n",
        "X  = banknote2.iloc[:,0:4]\n",
        "y = banknote2.iloc[:,4]\n",
        "X_teste = X.iloc[1371]\n",
        "X = X.drop(1371)\n",
        "y_teste = y.iloc[1371]\n",
        "y = y.drop(1371)\n",
        "X_teste"
      ],
      "execution_count": null,
      "outputs": [
        {
          "output_type": "execute_result",
          "data": {
            "text/plain": [
              "variancia     -2.54190\n",
              "assimentria   -0.65804\n",
              "curtose        2.68420\n",
              "entropia       1.19520\n",
              "Name: 1371, dtype: float64"
            ]
          },
          "metadata": {
            "tags": []
          },
          "execution_count": 7
        }
      ]
    },
    {
      "cell_type": "code",
      "metadata": {
        "id": "b7e90da2",
        "colab": {
          "base_uri": "https://localhost:8080/"
        },
        "outputId": "aa1f4f3b-1b66-4a3a-ef87-76efa18fd3c9"
      },
      "source": [
        "from sklearn.neighbors import KNeighborsClassifier\n",
        "knn = KNeighborsClassifier(n_neighbors=3)\n",
        "\n",
        "knn.fit(X, y)\n",
        "knn.predict(np.array(X_teste).reshape(1,-1))"
      ],
      "execution_count": null,
      "outputs": [
        {
          "output_type": "execute_result",
          "data": {
            "text/plain": [
              "array([1])"
            ]
          },
          "metadata": {
            "tags": []
          },
          "execution_count": 8
        }
      ]
    },
    {
      "cell_type": "code",
      "metadata": {
        "colab": {
          "base_uri": "https://localhost:8080/"
        },
        "id": "cvR1UP1opTHJ",
        "outputId": "e1e127b8-b114-4bee-d1c3-f3a6b7fea23a"
      },
      "source": [
        "dist, vizinhos = knn.kneighbors(np.array(X_teste).reshape(1,-1))\n",
        "classes = []\n",
        "for v in vizinhos:\n",
        "    classes.append(banknote2.iloc[:,4][v])\n",
        "classes"
      ],
      "execution_count": null,
      "outputs": [
        {
          "output_type": "execute_result",
          "data": {
            "text/plain": [
              "[1005    1\n",
              " 1036    1\n",
              " 1188    1\n",
              " Name: classe, dtype: int64]"
            ]
          },
          "metadata": {
            "tags": []
          },
          "execution_count": 9
        }
      ]
    },
    {
      "cell_type": "code",
      "metadata": {
        "colab": {
          "base_uri": "https://localhost:8080/"
        },
        "id": "ASUfMdaFxnBj",
        "outputId": "d9c3441f-e7b1-4450-ef88-6206242aedfb"
      },
      "source": [
        "y_teste"
      ],
      "execution_count": null,
      "outputs": [
        {
          "output_type": "execute_result",
          "data": {
            "text/plain": [
              "1"
            ]
          },
          "metadata": {
            "tags": []
          },
          "execution_count": 10
        }
      ]
    },
    {
      "cell_type": "markdown",
      "metadata": {
        "id": "gbEwY61oqMP5"
      },
      "source": [
        "# **Processamento com Naive Bayes**"
      ]
    },
    {
      "cell_type": "code",
      "metadata": {
        "colab": {
          "base_uri": "https://localhost:8080/",
          "height": 419
        },
        "id": "3eiU515QqgEC",
        "outputId": "bf3d6182-8bdb-42d6-f022-70b09d3c2081"
      },
      "source": [
        "banknote2 = pd.read_csv('data_banknote_authentication.csv')\n",
        "\n",
        "X  = banknote2.iloc[:,0:4]\n",
        "y = banknote2.iloc[:,4]\n",
        "X = StandardScaler().fit_transform(X)\n",
        "X = pd.DataFrame(X)\n",
        "X_teste = X.iloc[1371]\n",
        "X = X.drop(1371)\n",
        "y_teste = y.iloc[1371]\n",
        "y = y.drop(1371)\n",
        "\n",
        "y_teste\n",
        "X"
      ],
      "execution_count": null,
      "outputs": [
        {
          "output_type": "execute_result",
          "data": {
            "text/html": [
              "<div>\n",
              "<style scoped>\n",
              "    .dataframe tbody tr th:only-of-type {\n",
              "        vertical-align: middle;\n",
              "    }\n",
              "\n",
              "    .dataframe tbody tr th {\n",
              "        vertical-align: top;\n",
              "    }\n",
              "\n",
              "    .dataframe thead th {\n",
              "        text-align: right;\n",
              "    }\n",
              "</style>\n",
              "<table border=\"1\" class=\"dataframe\">\n",
              "  <thead>\n",
              "    <tr style=\"text-align: right;\">\n",
              "      <th></th>\n",
              "      <th>0</th>\n",
              "      <th>1</th>\n",
              "      <th>2</th>\n",
              "      <th>3</th>\n",
              "    </tr>\n",
              "  </thead>\n",
              "  <tbody>\n",
              "    <tr>\n",
              "      <th>0</th>\n",
              "      <td>1.121806</td>\n",
              "      <td>1.149455</td>\n",
              "      <td>-0.975970</td>\n",
              "      <td>0.354561</td>\n",
              "    </tr>\n",
              "    <tr>\n",
              "      <th>1</th>\n",
              "      <td>1.447066</td>\n",
              "      <td>1.064453</td>\n",
              "      <td>-0.895036</td>\n",
              "      <td>-0.128767</td>\n",
              "    </tr>\n",
              "    <tr>\n",
              "      <th>2</th>\n",
              "      <td>1.207810</td>\n",
              "      <td>-0.777352</td>\n",
              "      <td>0.122218</td>\n",
              "      <td>0.618073</td>\n",
              "    </tr>\n",
              "    <tr>\n",
              "      <th>3</th>\n",
              "      <td>1.063742</td>\n",
              "      <td>1.295478</td>\n",
              "      <td>-1.255397</td>\n",
              "      <td>-1.144029</td>\n",
              "    </tr>\n",
              "    <tr>\n",
              "      <th>4</th>\n",
              "      <td>-0.036772</td>\n",
              "      <td>-1.087038</td>\n",
              "      <td>0.736730</td>\n",
              "      <td>0.096587</td>\n",
              "    </tr>\n",
              "    <tr>\n",
              "      <th>...</th>\n",
              "      <td>...</td>\n",
              "      <td>...</td>\n",
              "      <td>...</td>\n",
              "      <td>...</td>\n",
              "    </tr>\n",
              "    <tr>\n",
              "      <th>1366</th>\n",
              "      <td>-1.000707</td>\n",
              "      <td>0.310376</td>\n",
              "      <td>-0.417731</td>\n",
              "      <td>-0.049348</td>\n",
              "    </tr>\n",
              "    <tr>\n",
              "      <th>1367</th>\n",
              "      <td>-0.009711</td>\n",
              "      <td>-0.097693</td>\n",
              "      <td>-0.660962</td>\n",
              "      <td>0.300996</td>\n",
              "    </tr>\n",
              "    <tr>\n",
              "      <th>1368</th>\n",
              "      <td>-0.641313</td>\n",
              "      <td>-1.158984</td>\n",
              "      <td>1.179023</td>\n",
              "      <td>0.730127</td>\n",
              "    </tr>\n",
              "    <tr>\n",
              "      <th>1369</th>\n",
              "      <td>-1.472357</td>\n",
              "      <td>-2.621646</td>\n",
              "      <td>3.759017</td>\n",
              "      <td>-0.754884</td>\n",
              "    </tr>\n",
              "    <tr>\n",
              "      <th>1370</th>\n",
              "      <td>-1.406693</td>\n",
              "      <td>-1.756471</td>\n",
              "      <td>2.552043</td>\n",
              "      <td>-0.043158</td>\n",
              "    </tr>\n",
              "  </tbody>\n",
              "</table>\n",
              "<p>1371 rows × 4 columns</p>\n",
              "</div>"
            ],
            "text/plain": [
              "             0         1         2         3\n",
              "0     1.121806  1.149455 -0.975970  0.354561\n",
              "1     1.447066  1.064453 -0.895036 -0.128767\n",
              "2     1.207810 -0.777352  0.122218  0.618073\n",
              "3     1.063742  1.295478 -1.255397 -1.144029\n",
              "4    -0.036772 -1.087038  0.736730  0.096587\n",
              "...        ...       ...       ...       ...\n",
              "1366 -1.000707  0.310376 -0.417731 -0.049348\n",
              "1367 -0.009711 -0.097693 -0.660962  0.300996\n",
              "1368 -0.641313 -1.158984  1.179023  0.730127\n",
              "1369 -1.472357 -2.621646  3.759017 -0.754884\n",
              "1370 -1.406693 -1.756471  2.552043 -0.043158\n",
              "\n",
              "[1371 rows x 4 columns]"
            ]
          },
          "metadata": {
            "tags": []
          },
          "execution_count": 11
        }
      ]
    },
    {
      "cell_type": "code",
      "metadata": {
        "colab": {
          "base_uri": "https://localhost:8080/"
        },
        "id": "jdbB-YP_zUAE",
        "outputId": "7d818a53-e458-4b4f-83f4-8311b52e50a4"
      },
      "source": [
        "from sklearn.naive_bayes import GaussianNB\n",
        "\n",
        "gnb = GaussianNB()\n",
        "gnb.fit(X, y)\n",
        "gnb.predict(np.array(X_teste).reshape(1,-1))"
      ],
      "execution_count": null,
      "outputs": [
        {
          "output_type": "execute_result",
          "data": {
            "text/plain": [
              "array([1])"
            ]
          },
          "metadata": {
            "tags": []
          },
          "execution_count": 12
        }
      ]
    },
    {
      "cell_type": "markdown",
      "metadata": {
        "id": "UybUzHi1xckp"
      },
      "source": [
        "# **Processando com SVN**"
      ]
    },
    {
      "cell_type": "code",
      "metadata": {
        "colab": {
          "base_uri": "https://localhost:8080/"
        },
        "id": "d0b0FXIOyowx",
        "outputId": "cdb36098-855d-4110-ef1a-3a05740c9cbb"
      },
      "source": [
        "from sklearn.svm import SVC\n",
        "svc = SVC(kernel='rbf')\n",
        "svc.fit(X, y)\n",
        "svc.predict(np.array(X_teste).reshape(1,-1))"
      ],
      "execution_count": null,
      "outputs": [
        {
          "output_type": "execute_result",
          "data": {
            "text/plain": [
              "array([1])"
            ]
          },
          "metadata": {
            "tags": []
          },
          "execution_count": 13
        }
      ]
    },
    {
      "cell_type": "code",
      "metadata": {
        "colab": {
          "base_uri": "https://localhost:8080/"
        },
        "id": "LbXaUaWW3ns7",
        "outputId": "37715afe-b8a1-43d8-c350-bcd19e34b346"
      },
      "source": [
        "svc = SVC(kernel='linear')\n",
        "svc.fit(X, y)\n",
        "svc.predict(np.array(X_teste).reshape(1,-1))"
      ],
      "execution_count": null,
      "outputs": [
        {
          "output_type": "execute_result",
          "data": {
            "text/plain": [
              "array([1])"
            ]
          },
          "metadata": {
            "tags": []
          },
          "execution_count": 14
        }
      ]
    },
    {
      "cell_type": "code",
      "metadata": {
        "colab": {
          "base_uri": "https://localhost:8080/"
        },
        "id": "9e5zn2N-3sXC",
        "outputId": "fcbd0df0-3435-46a2-d0d7-ec164daa8696"
      },
      "source": [
        "svc = SVC(kernel='poly')\n",
        "svc.fit(X, y)\n",
        "svc.predict(np.array(X_teste).reshape(1,-1))"
      ],
      "execution_count": null,
      "outputs": [
        {
          "output_type": "execute_result",
          "data": {
            "text/plain": [
              "array([1])"
            ]
          },
          "metadata": {
            "tags": []
          },
          "execution_count": 15
        }
      ]
    },
    {
      "cell_type": "code",
      "metadata": {
        "colab": {
          "base_uri": "https://localhost:8080/"
        },
        "id": "6yRBLPdq3vJy",
        "outputId": "6b94b1d6-e18e-4eef-f5a3-94ca0d78ebf7"
      },
      "source": [
        "svc = SVC(kernel='sigmoid')\n",
        "svc.fit(X, y)\n",
        "svc.predict(np.array(X_teste).reshape(1,-1))"
      ],
      "execution_count": null,
      "outputs": [
        {
          "output_type": "execute_result",
          "data": {
            "text/plain": [
              "array([1])"
            ]
          },
          "metadata": {
            "tags": []
          },
          "execution_count": 16
        }
      ]
    },
    {
      "cell_type": "markdown",
      "metadata": {
        "id": "wNkiJpWo5EXz"
      },
      "source": [
        "# **Processando com arvore de decisão**"
      ]
    },
    {
      "cell_type": "code",
      "metadata": {
        "colab": {
          "base_uri": "https://localhost:8080/"
        },
        "id": "gauoZ5me5KUh",
        "outputId": "fc263628-1635-434b-8b4e-1baa276c687f"
      },
      "source": [
        "from sklearn.tree import DecisionTreeClassifier\n",
        "arvore = DecisionTreeClassifier(criterion=\"entropy\")\n",
        "arvore.fit(X, y)\n",
        "arvore.predict(np.array(X_teste).reshape(1,-1))"
      ],
      "execution_count": null,
      "outputs": [
        {
          "output_type": "execute_result",
          "data": {
            "text/plain": [
              "array([1])"
            ]
          },
          "metadata": {
            "tags": []
          },
          "execution_count": 17
        }
      ]
    },
    {
      "cell_type": "code",
      "metadata": {
        "colab": {
          "base_uri": "https://localhost:8080/"
        },
        "id": "91fWD_-65trq",
        "outputId": "cbeb3cb1-89fd-48d4-96c4-4306ac985ad2"
      },
      "source": [
        "from sklearn.tree import export_text\n",
        "tree_rules = export_text(arvore, feature_names=list(X.columns))\n",
        "print(tree_rules)"
      ],
      "execution_count": null,
      "outputs": [
        {
          "output_type": "stream",
          "text": [
            "|--- 0 <= -0.04\n",
            "|   |--- 1 <= 0.67\n",
            "|   |   |--- 2 <= 1.12\n",
            "|   |   |   |--- 0 <= -0.28\n",
            "|   |   |   |   |--- class: 1\n",
            "|   |   |   |--- 0 >  -0.28\n",
            "|   |   |   |   |--- 2 <= 0.28\n",
            "|   |   |   |   |   |--- class: 1\n",
            "|   |   |   |   |--- 2 >  0.28\n",
            "|   |   |   |   |   |--- class: 0\n",
            "|   |   |--- 2 >  1.12\n",
            "|   |   |   |--- 1 <= -1.12\n",
            "|   |   |   |   |--- 0 <= -0.28\n",
            "|   |   |   |   |   |--- class: 1\n",
            "|   |   |   |   |--- 0 >  -0.28\n",
            "|   |   |   |   |   |--- class: 0\n",
            "|   |   |   |--- 1 >  -1.12\n",
            "|   |   |   |   |--- 2 <= 1.21\n",
            "|   |   |   |   |   |--- 3 <= 0.20\n",
            "|   |   |   |   |   |   |--- class: 0\n",
            "|   |   |   |   |   |--- 3 >  0.20\n",
            "|   |   |   |   |   |   |--- class: 1\n",
            "|   |   |   |   |--- 2 >  1.21\n",
            "|   |   |   |   |   |--- class: 0\n",
            "|   |--- 1 >  0.67\n",
            "|   |   |--- 0 <= -1.36\n",
            "|   |   |   |--- 2 <= 0.17\n",
            "|   |   |   |   |--- class: 1\n",
            "|   |   |   |--- 2 >  0.17\n",
            "|   |   |   |   |--- class: 0\n",
            "|   |   |--- 0 >  -1.36\n",
            "|   |   |   |--- class: 0\n",
            "|--- 0 >  -0.04\n",
            "|   |--- 0 <= 0.48\n",
            "|   |   |--- 2 <= -0.85\n",
            "|   |   |   |--- 1 <= 0.77\n",
            "|   |   |   |   |--- class: 1\n",
            "|   |   |   |--- 1 >  0.77\n",
            "|   |   |   |   |--- class: 0\n",
            "|   |   |--- 2 >  -0.85\n",
            "|   |   |   |--- 3 <= 0.61\n",
            "|   |   |   |   |--- 0 <= -0.00\n",
            "|   |   |   |   |   |--- 2 <= -0.63\n",
            "|   |   |   |   |   |   |--- class: 1\n",
            "|   |   |   |   |   |--- 2 >  -0.63\n",
            "|   |   |   |   |   |   |--- class: 0\n",
            "|   |   |   |   |--- 0 >  -0.00\n",
            "|   |   |   |   |   |--- class: 0\n",
            "|   |   |   |--- 3 >  0.61\n",
            "|   |   |   |   |--- 2 <= 0.11\n",
            "|   |   |   |   |   |--- 1 <= 0.28\n",
            "|   |   |   |   |   |   |--- class: 1\n",
            "|   |   |   |   |   |--- 1 >  0.28\n",
            "|   |   |   |   |   |   |--- class: 0\n",
            "|   |   |   |   |--- 2 >  0.11\n",
            "|   |   |   |   |   |--- class: 0\n",
            "|   |--- 0 >  0.48\n",
            "|   |   |--- 2 <= -1.44\n",
            "|   |   |   |--- 3 <= -1.06\n",
            "|   |   |   |   |--- class: 0\n",
            "|   |   |   |--- 3 >  -1.06\n",
            "|   |   |   |   |--- class: 1\n",
            "|   |   |--- 2 >  -1.44\n",
            "|   |   |   |--- 0 <= 0.56\n",
            "|   |   |   |   |--- 0 <= 0.56\n",
            "|   |   |   |   |   |--- class: 0\n",
            "|   |   |   |   |--- 0 >  0.56\n",
            "|   |   |   |   |   |--- 1 <= -0.10\n",
            "|   |   |   |   |   |   |--- class: 0\n",
            "|   |   |   |   |   |--- 1 >  -0.10\n",
            "|   |   |   |   |   |   |--- class: 1\n",
            "|   |   |   |--- 0 >  0.56\n",
            "|   |   |   |   |--- class: 0\n",
            "\n"
          ],
          "name": "stdout"
        }
      ]
    },
    {
      "cell_type": "markdown",
      "metadata": {
        "id": "zY3BZc5Q6U9a"
      },
      "source": [
        "# **Processando com redes neurais**"
      ]
    },
    {
      "cell_type": "code",
      "metadata": {
        "colab": {
          "base_uri": "https://localhost:8080/"
        },
        "id": "fyTOuaum6YuK",
        "outputId": "f0bb7695-a3d1-44e6-8521-6ecadc7b2cc6"
      },
      "source": [
        "from sklearn.neural_network import MLPClassifier\n",
        "mlp = MLPClassifier(activation=\"tanh\")\n",
        "mlp.fit(X, y)\n",
        "mlp.predict(np.array(X_teste).reshape(1,-1))"
      ],
      "execution_count": null,
      "outputs": [
        {
          "output_type": "stream",
          "text": [
            "/usr/local/lib/python3.7/dist-packages/sklearn/neural_network/_multilayer_perceptron.py:571: ConvergenceWarning: Stochastic Optimizer: Maximum iterations (200) reached and the optimization hasn't converged yet.\n",
            "  % self.max_iter, ConvergenceWarning)\n"
          ],
          "name": "stderr"
        },
        {
          "output_type": "execute_result",
          "data": {
            "text/plain": [
              "array([1])"
            ]
          },
          "metadata": {
            "tags": []
          },
          "execution_count": 19
        }
      ]
    },
    {
      "cell_type": "code",
      "metadata": {
        "colab": {
          "base_uri": "https://localhost:8080/"
        },
        "id": "BKMp8VW56lCK",
        "outputId": "5ec9595d-d6af-4a07-d8c7-7cfc8e7a0d62"
      },
      "source": [
        "mlp = MLPClassifier(activation=\"logistic\")\n",
        "mlp.fit(X, y)\n",
        "mlp.predict(np.array(X_teste).reshape(1,-1))"
      ],
      "execution_count": null,
      "outputs": [
        {
          "output_type": "stream",
          "text": [
            "/usr/local/lib/python3.7/dist-packages/sklearn/neural_network/_multilayer_perceptron.py:571: ConvergenceWarning: Stochastic Optimizer: Maximum iterations (200) reached and the optimization hasn't converged yet.\n",
            "  % self.max_iter, ConvergenceWarning)\n"
          ],
          "name": "stderr"
        },
        {
          "output_type": "execute_result",
          "data": {
            "text/plain": [
              "array([1])"
            ]
          },
          "metadata": {
            "tags": []
          },
          "execution_count": 20
        }
      ]
    },
    {
      "cell_type": "code",
      "metadata": {
        "colab": {
          "base_uri": "https://localhost:8080/"
        },
        "id": "zfgGnmk96o1D",
        "outputId": "71441fed-2a97-460a-b8c7-7e696b93d0ee"
      },
      "source": [
        "mlp = MLPClassifier(activation=\"relu\")\n",
        "mlp.fit(X, y)\n",
        "mlp.predict(np.array(X_teste).reshape(1,-1))"
      ],
      "execution_count": null,
      "outputs": [
        {
          "output_type": "execute_result",
          "data": {
            "text/plain": [
              "array([1])"
            ]
          },
          "metadata": {
            "tags": []
          },
          "execution_count": 21
        }
      ]
    },
    {
      "cell_type": "code",
      "metadata": {
        "colab": {
          "base_uri": "https://localhost:8080/"
        },
        "id": "W1gAvov06rob",
        "outputId": "6c11f0f6-7612-487d-8296-0a43c39048d6"
      },
      "source": [
        "mlp = MLPClassifier(activation=\"identity\", hidden_layer_sizes=(10,))\n",
        "mlp.fit(X, y)\n",
        "mlp.predict(np.array(X_teste).reshape(1,-1))"
      ],
      "execution_count": null,
      "outputs": [
        {
          "output_type": "stream",
          "text": [
            "/usr/local/lib/python3.7/dist-packages/sklearn/neural_network/_multilayer_perceptron.py:571: ConvergenceWarning: Stochastic Optimizer: Maximum iterations (200) reached and the optimization hasn't converged yet.\n",
            "  % self.max_iter, ConvergenceWarning)\n"
          ],
          "name": "stderr"
        },
        {
          "output_type": "execute_result",
          "data": {
            "text/plain": [
              "array([1])"
            ]
          },
          "metadata": {
            "tags": []
          },
          "execution_count": 22
        }
      ]
    },
    {
      "cell_type": "markdown",
      "metadata": {
        "id": "i-RvCvB77P-L"
      },
      "source": [
        "# **Avaliando com Holdout**"
      ]
    },
    {
      "cell_type": "code",
      "metadata": {
        "colab": {
          "base_uri": "https://localhost:8080/"
        },
        "id": "x-dhlB6Y7TcD",
        "outputId": "6c2c7151-da1f-4997-f446-c18dbfc8935a"
      },
      "source": [
        "from sklearn.model_selection import train_test_split\n",
        "X_treino, X_teste, y_treino, y_teste = train_test_split(X, y, test_size=0.3, random_state=42)\n",
        "X_treino"
      ],
      "execution_count": null,
      "outputs": [
        {
          "output_type": "execute_result",
          "data": {
            "text/html": [
              "<div>\n",
              "<style scoped>\n",
              "    .dataframe tbody tr th:only-of-type {\n",
              "        vertical-align: middle;\n",
              "    }\n",
              "\n",
              "    .dataframe tbody tr th {\n",
              "        vertical-align: top;\n",
              "    }\n",
              "\n",
              "    .dataframe thead th {\n",
              "        text-align: right;\n",
              "    }\n",
              "</style>\n",
              "<table border=\"1\" class=\"dataframe\">\n",
              "  <thead>\n",
              "    <tr style=\"text-align: right;\">\n",
              "      <th></th>\n",
              "      <th>0</th>\n",
              "      <th>1</th>\n",
              "      <th>2</th>\n",
              "      <th>3</th>\n",
              "    </tr>\n",
              "  </thead>\n",
              "  <tbody>\n",
              "    <tr>\n",
              "      <th>879</th>\n",
              "      <td>-0.352780</td>\n",
              "      <td>-0.086068</td>\n",
              "      <td>-0.655183</td>\n",
              "      <td>0.031928</td>\n",
              "    </tr>\n",
              "    <tr>\n",
              "      <th>783</th>\n",
              "      <td>0.014057</td>\n",
              "      <td>0.245129</td>\n",
              "      <td>-1.370334</td>\n",
              "      <td>-1.357670</td>\n",
              "    </tr>\n",
              "    <tr>\n",
              "      <th>605</th>\n",
              "      <td>0.222212</td>\n",
              "      <td>1.098679</td>\n",
              "      <td>-0.649426</td>\n",
              "      <td>-0.218662</td>\n",
              "    </tr>\n",
              "    <tr>\n",
              "      <th>1252</th>\n",
              "      <td>-1.105678</td>\n",
              "      <td>-1.491238</td>\n",
              "      <td>1.424238</td>\n",
              "      <td>0.848341</td>\n",
              "    </tr>\n",
              "    <tr>\n",
              "      <th>497</th>\n",
              "      <td>-0.169525</td>\n",
              "      <td>-0.601007</td>\n",
              "      <td>1.642808</td>\n",
              "      <td>0.927146</td>\n",
              "    </tr>\n",
              "    <tr>\n",
              "      <th>...</th>\n",
              "      <td>...</td>\n",
              "      <td>...</td>\n",
              "      <td>...</td>\n",
              "      <td>...</td>\n",
              "    </tr>\n",
              "    <tr>\n",
              "      <th>1095</th>\n",
              "      <td>0.256979</td>\n",
              "      <td>0.339301</td>\n",
              "      <td>-1.381475</td>\n",
              "      <td>-1.273918</td>\n",
              "    </tr>\n",
              "    <tr>\n",
              "      <th>1130</th>\n",
              "      <td>-0.959112</td>\n",
              "      <td>-1.564598</td>\n",
              "      <td>1.523067</td>\n",
              "      <td>1.005956</td>\n",
              "    </tr>\n",
              "    <tr>\n",
              "      <th>1294</th>\n",
              "      <td>-2.628731</td>\n",
              "      <td>1.256326</td>\n",
              "      <td>-0.285876</td>\n",
              "      <td>-1.594071</td>\n",
              "    </tr>\n",
              "    <tr>\n",
              "      <th>860</th>\n",
              "      <td>-1.370377</td>\n",
              "      <td>0.130861</td>\n",
              "      <td>-0.286872</td>\n",
              "      <td>0.080589</td>\n",
              "    </tr>\n",
              "    <tr>\n",
              "      <th>1126</th>\n",
              "      <td>-1.334377</td>\n",
              "      <td>-1.561769</td>\n",
              "      <td>2.331291</td>\n",
              "      <td>0.295454</td>\n",
              "    </tr>\n",
              "  </tbody>\n",
              "</table>\n",
              "<p>959 rows × 4 columns</p>\n",
              "</div>"
            ],
            "text/plain": [
              "             0         1         2         3\n",
              "879  -0.352780 -0.086068 -0.655183  0.031928\n",
              "783   0.014057  0.245129 -1.370334 -1.357670\n",
              "605   0.222212  1.098679 -0.649426 -0.218662\n",
              "1252 -1.105678 -1.491238  1.424238  0.848341\n",
              "497  -0.169525 -0.601007  1.642808  0.927146\n",
              "...        ...       ...       ...       ...\n",
              "1095  0.256979  0.339301 -1.381475 -1.273918\n",
              "1130 -0.959112 -1.564598  1.523067  1.005956\n",
              "1294 -2.628731  1.256326 -0.285876 -1.594071\n",
              "860  -1.370377  0.130861 -0.286872  0.080589\n",
              "1126 -1.334377 -1.561769  2.331291  0.295454\n",
              "\n",
              "[959 rows x 4 columns]"
            ]
          },
          "metadata": {
            "tags": []
          },
          "execution_count": 23
        }
      ]
    },
    {
      "cell_type": "code",
      "metadata": {
        "colab": {
          "base_uri": "https://localhost:8080/"
        },
        "id": "OWyQPc0G9LPD",
        "outputId": "f8640b80-e75f-4d5c-b862-691655f3c35a"
      },
      "source": [
        "mlp = MLPClassifier(activation=\"relu\", hidden_layer_sizes=(10,))\n",
        "mlp.fit(X_treino, y_treino)\n",
        "mlp.predict(X_teste)"
      ],
      "execution_count": null,
      "outputs": [
        {
          "output_type": "stream",
          "text": [
            "/usr/local/lib/python3.7/dist-packages/sklearn/neural_network/_multilayer_perceptron.py:571: ConvergenceWarning: Stochastic Optimizer: Maximum iterations (200) reached and the optimization hasn't converged yet.\n",
            "  % self.max_iter, ConvergenceWarning)\n"
          ],
          "name": "stderr"
        },
        {
          "output_type": "execute_result",
          "data": {
            "text/plain": [
              "array([0, 0, 0, 0, 0, 0, 0, 0, 0, 0, 1, 1, 0, 1, 0, 1, 1, 1, 1, 1, 0, 0,\n",
              "       1, 0, 1, 0, 0, 1, 0, 0, 1, 0, 0, 1, 1, 0, 1, 1, 1, 0, 0, 1, 1, 0,\n",
              "       1, 1, 1, 0, 0, 1, 0, 0, 0, 0, 0, 1, 0, 0, 0, 0, 1, 0, 1, 0, 0, 0,\n",
              "       0, 0, 0, 1, 1, 0, 1, 0, 1, 1, 0, 1, 1, 1, 1, 0, 1, 0, 0, 0, 0, 1,\n",
              "       1, 0, 0, 0, 1, 1, 0, 1, 1, 0, 0, 0, 1, 0, 0, 0, 1, 0, 0, 1, 1, 1,\n",
              "       1, 1, 0, 1, 1, 1, 0, 1, 1, 0, 1, 0, 1, 0, 1, 0, 1, 1, 0, 1, 1, 0,\n",
              "       0, 0, 0, 0, 1, 0, 0, 1, 0, 0, 1, 0, 1, 1, 1, 1, 1, 0, 1, 1, 1, 0,\n",
              "       1, 0, 1, 0, 0, 0, 1, 1, 1, 1, 1, 0, 1, 0, 0, 0, 0, 0, 0, 1, 0, 0,\n",
              "       1, 1, 0, 0, 0, 0, 1, 0, 1, 0, 1, 1, 0, 0, 1, 0, 0, 1, 1, 1, 1, 0,\n",
              "       0, 1, 1, 1, 0, 0, 1, 1, 1, 1, 0, 0, 1, 0, 0, 0, 0, 0, 1, 0, 1, 1,\n",
              "       1, 1, 1, 0, 1, 0, 0, 1, 1, 1, 1, 0, 1, 0, 1, 1, 1, 1, 0, 0, 0, 1,\n",
              "       0, 1, 1, 1, 0, 0, 0, 0, 0, 0, 1, 0, 0, 0, 0, 0, 1, 1, 0, 0, 0, 1,\n",
              "       1, 0, 1, 0, 1, 1, 1, 1, 0, 0, 0, 0, 0, 1, 0, 0, 1, 0, 1, 0, 0, 1,\n",
              "       0, 0, 0, 0, 0, 1, 1, 0, 1, 0, 1, 1, 0, 1, 0, 0, 0, 0, 0, 1, 1, 1,\n",
              "       0, 0, 1, 1, 0, 0, 0, 0, 0, 0, 1, 0, 1, 1, 1, 0, 0, 0, 0, 1, 0, 0,\n",
              "       0, 0, 0, 0, 0, 1, 0, 1, 1, 1, 1, 0, 1, 1, 0, 1, 1, 0, 0, 1, 0, 0,\n",
              "       1, 0, 1, 0, 1, 1, 0, 0, 1, 0, 0, 0, 0, 0, 0, 1, 0, 0, 1, 1, 0, 0,\n",
              "       0, 1, 1, 0, 1, 0, 1, 1, 1, 0, 1, 1, 0, 1, 1, 0, 1, 0, 0, 0, 1, 1,\n",
              "       1, 0, 0, 0, 0, 1, 0, 0, 1, 1, 1, 1, 0, 1, 0, 0])"
            ]
          },
          "metadata": {
            "tags": []
          },
          "execution_count": 24
        }
      ]
    },
    {
      "cell_type": "markdown",
      "metadata": {
        "id": "ldtYWuMc-AHb"
      },
      "source": [
        "# **Avaliando com Kfold**"
      ]
    },
    {
      "cell_type": "code",
      "metadata": {
        "colab": {
          "base_uri": "https://localhost:8080/"
        },
        "id": "2PqsP5A69_xi",
        "outputId": "d442ed51-0918-4fa2-c52d-0c629d7c0cc3"
      },
      "source": [
        "from sklearn.model_selection import KFold\n",
        "resultados = []\n",
        "kf = KFold(n_splits=10, shuffle=True)\n",
        "for index_treino, index_teste in kf.split(X):\n",
        "    #X_treino, X_teste = X[index_treino], X[index_teste]\n",
        "    #y_treino, y_teste = y[index_treino], y[index_teste]\n",
        "    X_treino, X_teste = X.iloc[index_treino], X.iloc[index_teste]\n",
        "    y_treino, y_teste = y.iloc[index_treino], y.iloc[index_teste]\n",
        "    mlp.fit(X_treino, y_treino)\n",
        "    resultados.append(mlp.predict(X_teste))\n",
        "resultados"
      ],
      "execution_count": null,
      "outputs": [
        {
          "output_type": "stream",
          "text": [
            "/usr/local/lib/python3.7/dist-packages/sklearn/neural_network/_multilayer_perceptron.py:571: ConvergenceWarning: Stochastic Optimizer: Maximum iterations (200) reached and the optimization hasn't converged yet.\n",
            "  % self.max_iter, ConvergenceWarning)\n",
            "/usr/local/lib/python3.7/dist-packages/sklearn/neural_network/_multilayer_perceptron.py:571: ConvergenceWarning: Stochastic Optimizer: Maximum iterations (200) reached and the optimization hasn't converged yet.\n",
            "  % self.max_iter, ConvergenceWarning)\n",
            "/usr/local/lib/python3.7/dist-packages/sklearn/neural_network/_multilayer_perceptron.py:571: ConvergenceWarning: Stochastic Optimizer: Maximum iterations (200) reached and the optimization hasn't converged yet.\n",
            "  % self.max_iter, ConvergenceWarning)\n",
            "/usr/local/lib/python3.7/dist-packages/sklearn/neural_network/_multilayer_perceptron.py:571: ConvergenceWarning: Stochastic Optimizer: Maximum iterations (200) reached and the optimization hasn't converged yet.\n",
            "  % self.max_iter, ConvergenceWarning)\n",
            "/usr/local/lib/python3.7/dist-packages/sklearn/neural_network/_multilayer_perceptron.py:571: ConvergenceWarning: Stochastic Optimizer: Maximum iterations (200) reached and the optimization hasn't converged yet.\n",
            "  % self.max_iter, ConvergenceWarning)\n",
            "/usr/local/lib/python3.7/dist-packages/sklearn/neural_network/_multilayer_perceptron.py:571: ConvergenceWarning: Stochastic Optimizer: Maximum iterations (200) reached and the optimization hasn't converged yet.\n",
            "  % self.max_iter, ConvergenceWarning)\n",
            "/usr/local/lib/python3.7/dist-packages/sklearn/neural_network/_multilayer_perceptron.py:571: ConvergenceWarning: Stochastic Optimizer: Maximum iterations (200) reached and the optimization hasn't converged yet.\n",
            "  % self.max_iter, ConvergenceWarning)\n",
            "/usr/local/lib/python3.7/dist-packages/sklearn/neural_network/_multilayer_perceptron.py:571: ConvergenceWarning: Stochastic Optimizer: Maximum iterations (200) reached and the optimization hasn't converged yet.\n",
            "  % self.max_iter, ConvergenceWarning)\n",
            "/usr/local/lib/python3.7/dist-packages/sklearn/neural_network/_multilayer_perceptron.py:571: ConvergenceWarning: Stochastic Optimizer: Maximum iterations (200) reached and the optimization hasn't converged yet.\n",
            "  % self.max_iter, ConvergenceWarning)\n",
            "/usr/local/lib/python3.7/dist-packages/sklearn/neural_network/_multilayer_perceptron.py:571: ConvergenceWarning: Stochastic Optimizer: Maximum iterations (200) reached and the optimization hasn't converged yet.\n",
            "  % self.max_iter, ConvergenceWarning)\n"
          ],
          "name": "stderr"
        },
        {
          "output_type": "execute_result",
          "data": {
            "text/plain": [
              "[array([0, 0, 0, 0, 0, 0, 0, 0, 0, 0, 0, 1, 0, 0, 0, 0, 0, 0, 0, 0, 0, 0,\n",
              "        0, 0, 0, 1, 0, 0, 0, 0, 0, 1, 1, 0, 0, 0, 0, 0, 0, 0, 0, 0, 0, 0,\n",
              "        0, 0, 0, 0, 0, 0, 0, 0, 0, 0, 0, 0, 0, 0, 0, 0, 0, 0, 0, 0, 0, 0,\n",
              "        0, 0, 0, 0, 1, 1, 1, 1, 1, 1, 1, 1, 1, 1, 1, 1, 1, 1, 1, 1, 1, 1,\n",
              "        1, 1, 1, 1, 1, 1, 1, 1, 1, 1, 1, 1, 1, 1, 1, 1, 1, 1, 1, 1, 1, 1,\n",
              "        1, 1, 1, 1, 1, 1, 1, 1, 1, 1, 1, 1, 1, 1, 1, 1, 1, 1, 1, 1, 1, 1,\n",
              "        1, 1, 1, 1, 1, 1]),\n",
              " array([0, 0, 0, 0, 0, 0, 0, 0, 0, 0, 1, 0, 0, 0, 0, 0, 0, 0, 0, 0, 0, 0,\n",
              "        0, 0, 0, 0, 0, 0, 0, 0, 0, 0, 0, 0, 0, 0, 0, 0, 0, 1, 0, 0, 0, 0,\n",
              "        0, 0, 0, 0, 0, 0, 0, 0, 0, 0, 0, 0, 0, 0, 0, 0, 0, 0, 0, 0, 0, 0,\n",
              "        0, 0, 0, 0, 0, 0, 0, 0, 1, 0, 0, 0, 0, 0, 1, 1, 1, 1, 1, 1, 1, 1,\n",
              "        1, 1, 1, 1, 1, 1, 1, 1, 1, 1, 1, 1, 1, 1, 1, 1, 1, 1, 1, 1, 1, 1,\n",
              "        1, 1, 1, 1, 1, 1, 1, 1, 1, 1, 1, 1, 1, 1, 1, 1, 1, 1, 1, 1, 1, 1,\n",
              "        1, 1, 1, 1, 1]),\n",
              " array([0, 1, 0, 0, 0, 0, 0, 0, 0, 0, 0, 0, 0, 0, 0, 1, 0, 0, 0, 0, 0, 0,\n",
              "        0, 0, 0, 0, 0, 0, 0, 0, 0, 0, 0, 0, 0, 0, 0, 0, 0, 0, 0, 0, 0, 0,\n",
              "        0, 0, 0, 0, 0, 0, 0, 0, 0, 0, 0, 0, 0, 0, 0, 0, 0, 0, 0, 0, 0, 0,\n",
              "        0, 0, 0, 0, 0, 1, 0, 0, 0, 0, 0, 1, 0, 1, 1, 1, 1, 1, 1, 1, 1, 1,\n",
              "        1, 1, 1, 1, 1, 1, 1, 1, 1, 1, 1, 1, 1, 1, 1, 1, 1, 1, 1, 1, 1, 1,\n",
              "        1, 1, 1, 1, 1, 1, 1, 1, 1, 1, 1, 1, 1, 1, 1, 1, 1, 1, 1, 1, 1, 1,\n",
              "        1, 1, 1, 1, 1]),\n",
              " array([0, 0, 0, 0, 0, 0, 0, 0, 0, 0, 0, 0, 0, 0, 0, 0, 0, 0, 0, 0, 0, 0,\n",
              "        0, 0, 0, 0, 0, 0, 0, 0, 0, 0, 0, 0, 0, 0, 0, 0, 0, 0, 0, 0, 0, 0,\n",
              "        0, 0, 0, 0, 0, 0, 0, 0, 0, 0, 0, 0, 0, 0, 0, 0, 0, 0, 0, 0, 0, 0,\n",
              "        0, 0, 0, 0, 0, 0, 1, 1, 1, 1, 1, 1, 1, 1, 1, 1, 1, 1, 1, 1, 1, 1,\n",
              "        1, 1, 1, 1, 1, 1, 1, 1, 1, 1, 1, 1, 1, 1, 1, 1, 1, 1, 1, 1, 1, 1,\n",
              "        1, 1, 1, 1, 1, 1, 1, 1, 1, 1, 1, 1, 1, 1, 1, 1, 1, 1, 1, 1, 1, 1,\n",
              "        1, 1, 1, 1, 1]),\n",
              " array([0, 0, 0, 0, 0, 0, 0, 0, 0, 0, 0, 0, 0, 0, 0, 0, 0, 0, 0, 0, 0, 0,\n",
              "        0, 0, 0, 0, 0, 0, 0, 0, 0, 0, 0, 0, 0, 0, 0, 0, 0, 0, 0, 0, 0, 0,\n",
              "        0, 0, 0, 0, 0, 0, 0, 0, 0, 0, 0, 0, 0, 0, 0, 0, 0, 0, 0, 0, 0, 0,\n",
              "        0, 0, 0, 0, 0, 0, 0, 0, 0, 0, 0, 0, 0, 0, 0, 0, 1, 1, 1, 1, 1, 1,\n",
              "        1, 1, 1, 1, 1, 1, 1, 1, 1, 1, 1, 1, 1, 1, 1, 1, 1, 1, 1, 1, 1, 1,\n",
              "        1, 1, 1, 1, 1, 1, 1, 1, 1, 1, 1, 1, 1, 1, 1, 1, 1, 1, 1, 1, 1, 1,\n",
              "        1, 1, 1, 1, 1]),\n",
              " array([0, 0, 0, 0, 0, 0, 0, 0, 0, 0, 0, 0, 0, 0, 0, 0, 0, 0, 0, 0, 0, 0,\n",
              "        0, 0, 0, 0, 0, 0, 0, 0, 0, 0, 0, 0, 0, 0, 0, 0, 0, 0, 0, 0, 0, 0,\n",
              "        0, 0, 0, 0, 0, 0, 0, 0, 0, 0, 0, 0, 0, 0, 0, 0, 0, 0, 0, 1, 0, 0,\n",
              "        0, 0, 0, 0, 0, 0, 0, 0, 0, 1, 1, 1, 1, 1, 1, 1, 1, 1, 1, 1, 1, 1,\n",
              "        1, 1, 1, 1, 1, 1, 1, 1, 1, 1, 1, 1, 1, 1, 1, 1, 1, 1, 1, 1, 1, 1,\n",
              "        1, 1, 1, 1, 1, 1, 1, 1, 1, 1, 1, 1, 1, 1, 1, 1, 1, 1, 1, 1, 1, 1,\n",
              "        1, 1, 1, 1, 1]),\n",
              " array([0, 0, 0, 0, 0, 0, 0, 0, 0, 0, 0, 0, 0, 0, 0, 0, 0, 1, 0, 0, 0, 0,\n",
              "        0, 0, 0, 0, 0, 0, 1, 0, 0, 0, 0, 0, 0, 0, 0, 0, 0, 0, 0, 0, 0, 1,\n",
              "        0, 0, 0, 0, 0, 0, 0, 0, 0, 0, 0, 0, 0, 0, 0, 0, 0, 0, 0, 0, 0, 0,\n",
              "        0, 0, 0, 0, 0, 0, 0, 0, 0, 0, 0, 0, 0, 0, 0, 0, 0, 0, 1, 1, 1, 1,\n",
              "        1, 1, 1, 1, 1, 1, 1, 1, 1, 1, 1, 1, 1, 1, 1, 1, 1, 1, 1, 1, 1, 1,\n",
              "        1, 1, 1, 1, 1, 1, 1, 1, 1, 1, 1, 1, 1, 1, 1, 1, 1, 1, 1, 1, 1, 1,\n",
              "        1, 1, 1, 1, 1]),\n",
              " array([0, 0, 0, 0, 0, 0, 0, 0, 0, 0, 0, 0, 0, 0, 0, 0, 0, 0, 0, 0, 0, 0,\n",
              "        0, 0, 0, 0, 0, 0, 0, 0, 0, 0, 0, 0, 0, 0, 0, 0, 0, 0, 0, 0, 0, 0,\n",
              "        0, 0, 0, 0, 0, 0, 0, 0, 0, 0, 0, 0, 0, 0, 1, 0, 0, 0, 0, 0, 0, 0,\n",
              "        0, 0, 0, 0, 0, 0, 0, 0, 0, 0, 0, 0, 0, 1, 1, 1, 1, 1, 1, 1, 1, 1,\n",
              "        1, 1, 1, 1, 1, 1, 1, 1, 1, 1, 1, 1, 1, 1, 1, 1, 1, 1, 1, 1, 1, 1,\n",
              "        1, 1, 1, 1, 1, 1, 1, 1, 1, 1, 1, 1, 1, 1, 1, 1, 1, 1, 1, 1, 1, 1,\n",
              "        1, 1, 1, 1, 1]),\n",
              " array([0, 0, 0, 0, 0, 0, 0, 0, 0, 0, 0, 0, 0, 0, 0, 0, 0, 0, 0, 0, 0, 0,\n",
              "        0, 0, 0, 0, 1, 0, 0, 0, 0, 0, 0, 0, 0, 0, 0, 0, 0, 0, 0, 0, 0, 0,\n",
              "        0, 0, 0, 0, 0, 0, 0, 0, 0, 0, 0, 0, 0, 0, 0, 0, 0, 0, 0, 0, 0, 0,\n",
              "        0, 0, 0, 1, 1, 1, 1, 1, 1, 1, 1, 1, 1, 1, 1, 1, 1, 1, 1, 1, 1, 1,\n",
              "        1, 1, 1, 1, 1, 1, 1, 1, 1, 1, 1, 1, 1, 1, 1, 1, 1, 1, 1, 1, 1, 1,\n",
              "        1, 1, 1, 1, 1, 1, 1, 1, 1, 1, 1, 1, 1, 1, 1, 1, 1, 1, 1, 1, 1, 1,\n",
              "        1, 1, 1, 1, 1]),\n",
              " array([0, 0, 0, 0, 0, 0, 0, 0, 0, 0, 0, 0, 0, 0, 0, 0, 0, 0, 0, 0, 0, 0,\n",
              "        0, 0, 0, 0, 0, 0, 0, 0, 0, 0, 0, 0, 0, 0, 0, 0, 0, 0, 0, 0, 0, 0,\n",
              "        0, 0, 0, 0, 0, 0, 0, 0, 0, 0, 0, 0, 0, 0, 0, 0, 0, 0, 0, 0, 0, 0,\n",
              "        0, 0, 0, 0, 0, 0, 1, 1, 1, 1, 1, 1, 1, 1, 1, 1, 1, 1, 1, 1, 1, 1,\n",
              "        1, 1, 1, 1, 1, 1, 1, 1, 1, 1, 1, 1, 1, 1, 1, 1, 1, 1, 1, 1, 1, 1,\n",
              "        1, 1, 1, 1, 1, 1, 1, 1, 1, 1, 1, 1, 1, 1, 1, 1, 1, 1, 1, 1, 1, 1,\n",
              "        1, 1, 1, 1, 1])]"
            ]
          },
          "metadata": {
            "tags": []
          },
          "execution_count": 25
        }
      ]
    },
    {
      "cell_type": "markdown",
      "metadata": {
        "id": "EYe1TBsl-uTD"
      },
      "source": [
        "# **Metricas**"
      ]
    },
    {
      "cell_type": "code",
      "metadata": {
        "colab": {
          "base_uri": "https://localhost:8080/"
        },
        "id": "YsZ1meJl-wN7",
        "outputId": "c53b2762-6db5-4bbd-fbfe-6dc0479a17a5"
      },
      "source": [
        "mlp = MLPClassifier(activation=\"relu\", hidden_layer_sizes=(10,))\n",
        "mlp.fit(X_treino, y_treino)\n",
        "mlp.score(X_teste, y_teste)"
      ],
      "execution_count": null,
      "outputs": [
        {
          "output_type": "stream",
          "text": [
            "/usr/local/lib/python3.7/dist-packages/sklearn/neural_network/_multilayer_perceptron.py:571: ConvergenceWarning: Stochastic Optimizer: Maximum iterations (200) reached and the optimization hasn't converged yet.\n",
            "  % self.max_iter, ConvergenceWarning)\n"
          ],
          "name": "stderr"
        },
        {
          "output_type": "execute_result",
          "data": {
            "text/plain": [
              "1.0"
            ]
          },
          "metadata": {
            "tags": []
          },
          "execution_count": 26
        }
      ]
    },
    {
      "cell_type": "code",
      "metadata": {
        "colab": {
          "base_uri": "https://localhost:8080/"
        },
        "id": "WjN9q0tN-1gj",
        "outputId": "a07312c9-da4b-4ab1-c201-5d80c57edb34"
      },
      "source": [
        "from sklearn.metrics import precision_score, recall_score, f1_score\n",
        "y_pred = mlp.predict(X_teste)\n",
        "\n",
        "precision_score(y_teste, y_pred, average='macro')"
      ],
      "execution_count": null,
      "outputs": [
        {
          "output_type": "execute_result",
          "data": {
            "text/plain": [
              "1.0"
            ]
          },
          "metadata": {
            "tags": []
          },
          "execution_count": 27
        }
      ]
    },
    {
      "cell_type": "code",
      "metadata": {
        "colab": {
          "base_uri": "https://localhost:8080/"
        },
        "id": "dH_Vr35r_BRK",
        "outputId": "e042b8b8-9a86-455f-c3c7-e19556e544bf"
      },
      "source": [
        "recall_score(y_teste, y_pred, average='macro')"
      ],
      "execution_count": null,
      "outputs": [
        {
          "output_type": "execute_result",
          "data": {
            "text/plain": [
              "1.0"
            ]
          },
          "metadata": {
            "tags": []
          },
          "execution_count": 28
        }
      ]
    },
    {
      "cell_type": "code",
      "metadata": {
        "colab": {
          "base_uri": "https://localhost:8080/"
        },
        "id": "69Eq9uIa_Dnz",
        "outputId": "abc74731-9a71-4375-8254-34fa661ba3c3"
      },
      "source": [
        "f1_score(y_teste, y_pred, average='macro')"
      ],
      "execution_count": null,
      "outputs": [
        {
          "output_type": "execute_result",
          "data": {
            "text/plain": [
              "1.0"
            ]
          },
          "metadata": {
            "tags": []
          },
          "execution_count": 29
        }
      ]
    },
    {
      "cell_type": "markdown",
      "metadata": {
        "id": "n1lOxZmu_ULi"
      },
      "source": [
        "# **Pratica do projeto**"
      ]
    },
    {
      "cell_type": "markdown",
      "metadata": {
        "id": "gv8V1LgdoCLj"
      },
      "source": [
        "**KNN**"
      ]
    },
    {
      "cell_type": "code",
      "metadata": {
        "colab": {
          "base_uri": "https://localhost:8080/"
        },
        "id": "BcMsI9PR_XQL",
        "outputId": "2ab741f5-457a-4645-f3e9-145503a85132"
      },
      "source": [
        "X_treino, X_teste, y_treino, y_teste = train_test_split(X, y, test_size=0.3, random_state=42)\n",
        "\n",
        "valores_k = [1, 2, 3, 4, 5, 6, 7, 8, 9, 10, 11, 12, 13, 14, 15]\n",
        "resultados_knn = []\n",
        "\n",
        "for k in valores_k:\n",
        "    resultados_k = []\n",
        "    knn = KNeighborsClassifier(n_neighbors=k)\n",
        "    kf = KFold(n_splits=10, shuffle=True)\n",
        "    for index_train, index_valid in kf.split(X_treino):\n",
        "        X_train, X_validacao = X_treino.iloc[index_train], X_treino.iloc[index_valid]\n",
        "        y_train, y_validacao = y_treino.iloc[index_train], y_treino.iloc[index_valid]\n",
        "        knn.fit(X_train, y_train)\n",
        "        resultados_k.append(knn.score(X_validacao, y_validacao))\n",
        "    resultados_knn.append(sum(resultados_k)/len(resultados_k))\n",
        "resultados_knn"
      ],
      "execution_count": null,
      "outputs": [
        {
          "output_type": "execute_result",
          "data": {
            "text/plain": [
              "[0.9979166666666668,\n",
              " 0.9979057017543861,\n",
              " 0.9979166666666666,\n",
              " 0.9979166666666666,\n",
              " 0.9979166666666668,\n",
              " 0.9989583333333332,\n",
              " 0.9979057017543859,\n",
              " 0.9979166666666668,\n",
              " 0.9968640350877195,\n",
              " 0.9979166666666668,\n",
              " 0.9927083333333334,\n",
              " 0.9979166666666668,\n",
              " 0.9927083333333334,\n",
              " 0.9916557017543861,\n",
              " 0.9906030701754387]"
            ]
          },
          "metadata": {
            "tags": []
          },
          "execution_count": 30
        }
      ]
    },
    {
      "cell_type": "code",
      "metadata": {
        "colab": {
          "base_uri": "https://localhost:8080/"
        },
        "id": "XG4uLWNs_h80",
        "outputId": "c8d515a3-1f9c-45c4-9880-9792e8f9b4ce"
      },
      "source": [
        "knn = KNeighborsClassifier(n_neighbors=1)\n",
        "knn.fit(X_treino, y_treino)\n",
        "knn.score(X_teste, y_teste)"
      ],
      "execution_count": null,
      "outputs": [
        {
          "output_type": "execute_result",
          "data": {
            "text/plain": [
              "1.0"
            ]
          },
          "metadata": {
            "tags": []
          },
          "execution_count": 31
        }
      ]
    },
    {
      "cell_type": "code",
      "metadata": {
        "colab": {
          "base_uri": "https://localhost:8080/"
        },
        "id": "iOPnRGi5cMg5",
        "outputId": "23f94609-8fb6-4449-fff5-08efd5c2be21"
      },
      "source": [
        "y_pred = svc.predict(X_teste)\n",
        "\n",
        "precision_score(y_teste, y_pred, average='macro')"
      ],
      "execution_count": null,
      "outputs": [
        {
          "output_type": "execute_result",
          "data": {
            "text/plain": [
              "1.0"
            ]
          },
          "metadata": {
            "tags": []
          },
          "execution_count": 57
        }
      ]
    },
    {
      "cell_type": "code",
      "metadata": {
        "colab": {
          "base_uri": "https://localhost:8080/"
        },
        "id": "8Z2Muxr1cdMY",
        "outputId": "7060b9fa-901c-490e-ce89-f96e2930ade7"
      },
      "source": [
        "recall_score(y_teste, y_pred, average='macro')"
      ],
      "execution_count": null,
      "outputs": [
        {
          "output_type": "execute_result",
          "data": {
            "text/plain": [
              "0.9890710382513661"
            ]
          },
          "metadata": {
            "tags": []
          },
          "execution_count": 56
        }
      ]
    },
    {
      "cell_type": "code",
      "metadata": {
        "colab": {
          "base_uri": "https://localhost:8080/"
        },
        "id": "-Gu2h6u3FBsy",
        "outputId": "bfc23b0c-3900-42c2-e59c-6afcc438087b"
      },
      "source": [
        "f1_score(y_teste, y_pred, average='macro')"
      ],
      "execution_count": null,
      "outputs": [
        {
          "output_type": "execute_result",
          "data": {
            "text/plain": [
              "1.0"
            ]
          },
          "metadata": {
            "tags": []
          },
          "execution_count": 58
        }
      ]
    },
    {
      "cell_type": "markdown",
      "metadata": {
        "id": "-QesSga4nfia"
      },
      "source": [
        "**SVM**"
      ]
    },
    {
      "cell_type": "code",
      "metadata": {
        "colab": {
          "base_uri": "https://localhost:8080/"
        },
        "id": "D8kaKJfj_s37",
        "outputId": "09de056b-3e25-44d7-a63e-0945fe42ff36"
      },
      "source": [
        "valores_kernel = [\"linear\", \"poly\", \"rbf\", \"sigmoid\"]\n",
        "resultados_svm = []\n",
        "\n",
        "for kernel in valores_kernel:\n",
        "    resultados_kernel = []\n",
        "    svc = SVC(kernel=kernel)\n",
        "    kf = KFold(n_splits=10, shuffle=True)\n",
        "    for index_train, index_valid in kf.split(X_treino):\n",
        "        X_train, X_validacao = X_treino.iloc[index_train], X_treino.iloc[index_valid]\n",
        "        y_train, y_validacao = y_treino.iloc[index_train], y_treino.iloc[index_valid]\n",
        "        svc.fit(X_train, y_train)\n",
        "        resultados_kernel.append(svc.score(X_validacao, y_validacao))\n",
        "    resultados_svm.append(sum(resultados_kernel)/len(resultados_kernel))\n",
        "resultados_svm"
      ],
      "execution_count": null,
      "outputs": [
        {
          "output_type": "execute_result",
          "data": {
            "text/plain": [
              "[0.9832894736842105, 0.9854057017543859, 1.0, 0.7705921052631579]"
            ]
          },
          "metadata": {
            "tags": []
          },
          "execution_count": 37
        }
      ]
    },
    {
      "cell_type": "code",
      "metadata": {
        "colab": {
          "base_uri": "https://localhost:8080/"
        },
        "id": "uwRO_K27_yOj",
        "outputId": "642892cd-8c13-499c-a957-721af15514db"
      },
      "source": [
        "svc = SVC(kernel=\"rbf\")\n",
        "svc.fit(X_treino, y_treino)\n",
        "svc.score(X_teste, y_teste)"
      ],
      "execution_count": null,
      "outputs": [
        {
          "output_type": "execute_result",
          "data": {
            "text/plain": [
              "1.0"
            ]
          },
          "metadata": {
            "tags": []
          },
          "execution_count": 38
        }
      ]
    },
    {
      "cell_type": "code",
      "metadata": {
        "colab": {
          "base_uri": "https://localhost:8080/"
        },
        "id": "Xc4RF7SAw2y2",
        "outputId": "bf403b4a-92b1-4300-f50d-468acabf669d"
      },
      "source": [
        "y_pred = svc.predict(X_teste)\n",
        "\n",
        "precision_score(y_teste, y_pred, average='macro')"
      ],
      "execution_count": null,
      "outputs": [
        {
          "output_type": "execute_result",
          "data": {
            "text/plain": [
              "1.0"
            ]
          },
          "metadata": {
            "tags": []
          },
          "execution_count": 39
        }
      ]
    },
    {
      "cell_type": "code",
      "metadata": {
        "colab": {
          "base_uri": "https://localhost:8080/"
        },
        "id": "R7UOEy2Ew2y2",
        "outputId": "b08b205e-4057-4692-af72-511b11f9300d"
      },
      "source": [
        "recall_score(y_teste, y_pred, average='macro')"
      ],
      "execution_count": null,
      "outputs": [
        {
          "output_type": "execute_result",
          "data": {
            "text/plain": [
              "1.0"
            ]
          },
          "metadata": {
            "tags": []
          },
          "execution_count": 40
        }
      ]
    },
    {
      "cell_type": "code",
      "metadata": {
        "colab": {
          "base_uri": "https://localhost:8080/"
        },
        "id": "2TJFWFfow2y2",
        "outputId": "e7f1e94b-6063-45af-b63d-8fe9e5e1a058"
      },
      "source": [
        "f1_score(y_teste, y_pred, average='macro')"
      ],
      "execution_count": null,
      "outputs": [
        {
          "output_type": "execute_result",
          "data": {
            "text/plain": [
              "1.0"
            ]
          },
          "metadata": {
            "tags": []
          },
          "execution_count": 41
        }
      ]
    },
    {
      "cell_type": "markdown",
      "metadata": {
        "id": "gmB36U_oqyKr"
      },
      "source": [
        "**MLP**"
      ]
    },
    {
      "cell_type": "code",
      "metadata": {
        "colab": {
          "base_uri": "https://localhost:8080/"
        },
        "id": "dRHIxszoqz-t",
        "outputId": "1732372b-43f7-444c-c028-f391f17fd858"
      },
      "source": [
        "valores_ativacao = [\"identity\", \"logistic\", \"tanh\", \"relu\"]\n",
        "resultados_mlp = []\n",
        "\n",
        "for ativacao in valores_ativacao:\n",
        "    resultados_ativacao = []\n",
        "    mlp = MLPClassifier(activation=ativacao)\n",
        "    kf = KFold(n_splits=10, shuffle=True)\n",
        "    for index_train, index_valid in kf.split(X_treino):\n",
        "        X_train, X_validacao = X_treino.iloc[index_train], X_treino.iloc[index_valid]\n",
        "        y_train, y_validacao = y_treino.iloc[index_train], y_treino.iloc[index_valid]\n",
        "        mlp.fit(X_train, y_train)\n",
        "        resultados_ativacao.append(svc.score(X_validacao, y_validacao))\n",
        "    resultados_mlp.append(sum(resultados_ativacao)/len(resultados_ativacao))\n",
        "resultados_mlp"
      ],
      "execution_count": null,
      "outputs": [
        {
          "output_type": "stream",
          "text": [
            "/usr/local/lib/python3.7/dist-packages/sklearn/neural_network/_multilayer_perceptron.py:571: ConvergenceWarning: Stochastic Optimizer: Maximum iterations (200) reached and the optimization hasn't converged yet.\n",
            "  % self.max_iter, ConvergenceWarning)\n",
            "/usr/local/lib/python3.7/dist-packages/sklearn/neural_network/_multilayer_perceptron.py:571: ConvergenceWarning: Stochastic Optimizer: Maximum iterations (200) reached and the optimization hasn't converged yet.\n",
            "  % self.max_iter, ConvergenceWarning)\n",
            "/usr/local/lib/python3.7/dist-packages/sklearn/neural_network/_multilayer_perceptron.py:571: ConvergenceWarning: Stochastic Optimizer: Maximum iterations (200) reached and the optimization hasn't converged yet.\n",
            "  % self.max_iter, ConvergenceWarning)\n",
            "/usr/local/lib/python3.7/dist-packages/sklearn/neural_network/_multilayer_perceptron.py:571: ConvergenceWarning: Stochastic Optimizer: Maximum iterations (200) reached and the optimization hasn't converged yet.\n",
            "  % self.max_iter, ConvergenceWarning)\n",
            "/usr/local/lib/python3.7/dist-packages/sklearn/neural_network/_multilayer_perceptron.py:571: ConvergenceWarning: Stochastic Optimizer: Maximum iterations (200) reached and the optimization hasn't converged yet.\n",
            "  % self.max_iter, ConvergenceWarning)\n",
            "/usr/local/lib/python3.7/dist-packages/sklearn/neural_network/_multilayer_perceptron.py:571: ConvergenceWarning: Stochastic Optimizer: Maximum iterations (200) reached and the optimization hasn't converged yet.\n",
            "  % self.max_iter, ConvergenceWarning)\n",
            "/usr/local/lib/python3.7/dist-packages/sklearn/neural_network/_multilayer_perceptron.py:571: ConvergenceWarning: Stochastic Optimizer: Maximum iterations (200) reached and the optimization hasn't converged yet.\n",
            "  % self.max_iter, ConvergenceWarning)\n",
            "/usr/local/lib/python3.7/dist-packages/sklearn/neural_network/_multilayer_perceptron.py:571: ConvergenceWarning: Stochastic Optimizer: Maximum iterations (200) reached and the optimization hasn't converged yet.\n",
            "  % self.max_iter, ConvergenceWarning)\n",
            "/usr/local/lib/python3.7/dist-packages/sklearn/neural_network/_multilayer_perceptron.py:571: ConvergenceWarning: Stochastic Optimizer: Maximum iterations (200) reached and the optimization hasn't converged yet.\n",
            "  % self.max_iter, ConvergenceWarning)\n",
            "/usr/local/lib/python3.7/dist-packages/sklearn/neural_network/_multilayer_perceptron.py:571: ConvergenceWarning: Stochastic Optimizer: Maximum iterations (200) reached and the optimization hasn't converged yet.\n",
            "  % self.max_iter, ConvergenceWarning)\n",
            "/usr/local/lib/python3.7/dist-packages/sklearn/neural_network/_multilayer_perceptron.py:571: ConvergenceWarning: Stochastic Optimizer: Maximum iterations (200) reached and the optimization hasn't converged yet.\n",
            "  % self.max_iter, ConvergenceWarning)\n",
            "/usr/local/lib/python3.7/dist-packages/sklearn/neural_network/_multilayer_perceptron.py:571: ConvergenceWarning: Stochastic Optimizer: Maximum iterations (200) reached and the optimization hasn't converged yet.\n",
            "  % self.max_iter, ConvergenceWarning)\n",
            "/usr/local/lib/python3.7/dist-packages/sklearn/neural_network/_multilayer_perceptron.py:571: ConvergenceWarning: Stochastic Optimizer: Maximum iterations (200) reached and the optimization hasn't converged yet.\n",
            "  % self.max_iter, ConvergenceWarning)\n",
            "/usr/local/lib/python3.7/dist-packages/sklearn/neural_network/_multilayer_perceptron.py:571: ConvergenceWarning: Stochastic Optimizer: Maximum iterations (200) reached and the optimization hasn't converged yet.\n",
            "  % self.max_iter, ConvergenceWarning)\n",
            "/usr/local/lib/python3.7/dist-packages/sklearn/neural_network/_multilayer_perceptron.py:571: ConvergenceWarning: Stochastic Optimizer: Maximum iterations (200) reached and the optimization hasn't converged yet.\n",
            "  % self.max_iter, ConvergenceWarning)\n",
            "/usr/local/lib/python3.7/dist-packages/sklearn/neural_network/_multilayer_perceptron.py:571: ConvergenceWarning: Stochastic Optimizer: Maximum iterations (200) reached and the optimization hasn't converged yet.\n",
            "  % self.max_iter, ConvergenceWarning)\n",
            "/usr/local/lib/python3.7/dist-packages/sklearn/neural_network/_multilayer_perceptron.py:571: ConvergenceWarning: Stochastic Optimizer: Maximum iterations (200) reached and the optimization hasn't converged yet.\n",
            "  % self.max_iter, ConvergenceWarning)\n",
            "/usr/local/lib/python3.7/dist-packages/sklearn/neural_network/_multilayer_perceptron.py:571: ConvergenceWarning: Stochastic Optimizer: Maximum iterations (200) reached and the optimization hasn't converged yet.\n",
            "  % self.max_iter, ConvergenceWarning)\n",
            "/usr/local/lib/python3.7/dist-packages/sklearn/neural_network/_multilayer_perceptron.py:571: ConvergenceWarning: Stochastic Optimizer: Maximum iterations (200) reached and the optimization hasn't converged yet.\n",
            "  % self.max_iter, ConvergenceWarning)\n",
            "/usr/local/lib/python3.7/dist-packages/sklearn/neural_network/_multilayer_perceptron.py:571: ConvergenceWarning: Stochastic Optimizer: Maximum iterations (200) reached and the optimization hasn't converged yet.\n",
            "  % self.max_iter, ConvergenceWarning)\n",
            "/usr/local/lib/python3.7/dist-packages/sklearn/neural_network/_multilayer_perceptron.py:571: ConvergenceWarning: Stochastic Optimizer: Maximum iterations (200) reached and the optimization hasn't converged yet.\n",
            "  % self.max_iter, ConvergenceWarning)\n",
            "/usr/local/lib/python3.7/dist-packages/sklearn/neural_network/_multilayer_perceptron.py:571: ConvergenceWarning: Stochastic Optimizer: Maximum iterations (200) reached and the optimization hasn't converged yet.\n",
            "  % self.max_iter, ConvergenceWarning)\n",
            "/usr/local/lib/python3.7/dist-packages/sklearn/neural_network/_multilayer_perceptron.py:571: ConvergenceWarning: Stochastic Optimizer: Maximum iterations (200) reached and the optimization hasn't converged yet.\n",
            "  % self.max_iter, ConvergenceWarning)\n",
            "/usr/local/lib/python3.7/dist-packages/sklearn/neural_network/_multilayer_perceptron.py:571: ConvergenceWarning: Stochastic Optimizer: Maximum iterations (200) reached and the optimization hasn't converged yet.\n",
            "  % self.max_iter, ConvergenceWarning)\n",
            "/usr/local/lib/python3.7/dist-packages/sklearn/neural_network/_multilayer_perceptron.py:571: ConvergenceWarning: Stochastic Optimizer: Maximum iterations (200) reached and the optimization hasn't converged yet.\n",
            "  % self.max_iter, ConvergenceWarning)\n",
            "/usr/local/lib/python3.7/dist-packages/sklearn/neural_network/_multilayer_perceptron.py:571: ConvergenceWarning: Stochastic Optimizer: Maximum iterations (200) reached and the optimization hasn't converged yet.\n",
            "  % self.max_iter, ConvergenceWarning)\n",
            "/usr/local/lib/python3.7/dist-packages/sklearn/neural_network/_multilayer_perceptron.py:571: ConvergenceWarning: Stochastic Optimizer: Maximum iterations (200) reached and the optimization hasn't converged yet.\n",
            "  % self.max_iter, ConvergenceWarning)\n",
            "/usr/local/lib/python3.7/dist-packages/sklearn/neural_network/_multilayer_perceptron.py:571: ConvergenceWarning: Stochastic Optimizer: Maximum iterations (200) reached and the optimization hasn't converged yet.\n",
            "  % self.max_iter, ConvergenceWarning)\n",
            "/usr/local/lib/python3.7/dist-packages/sklearn/neural_network/_multilayer_perceptron.py:571: ConvergenceWarning: Stochastic Optimizer: Maximum iterations (200) reached and the optimization hasn't converged yet.\n",
            "  % self.max_iter, ConvergenceWarning)\n",
            "/usr/local/lib/python3.7/dist-packages/sklearn/neural_network/_multilayer_perceptron.py:571: ConvergenceWarning: Stochastic Optimizer: Maximum iterations (200) reached and the optimization hasn't converged yet.\n",
            "  % self.max_iter, ConvergenceWarning)\n",
            "/usr/local/lib/python3.7/dist-packages/sklearn/neural_network/_multilayer_perceptron.py:571: ConvergenceWarning: Stochastic Optimizer: Maximum iterations (200) reached and the optimization hasn't converged yet.\n",
            "  % self.max_iter, ConvergenceWarning)\n",
            "/usr/local/lib/python3.7/dist-packages/sklearn/neural_network/_multilayer_perceptron.py:571: ConvergenceWarning: Stochastic Optimizer: Maximum iterations (200) reached and the optimization hasn't converged yet.\n",
            "  % self.max_iter, ConvergenceWarning)\n",
            "/usr/local/lib/python3.7/dist-packages/sklearn/neural_network/_multilayer_perceptron.py:571: ConvergenceWarning: Stochastic Optimizer: Maximum iterations (200) reached and the optimization hasn't converged yet.\n",
            "  % self.max_iter, ConvergenceWarning)\n",
            "/usr/local/lib/python3.7/dist-packages/sklearn/neural_network/_multilayer_perceptron.py:571: ConvergenceWarning: Stochastic Optimizer: Maximum iterations (200) reached and the optimization hasn't converged yet.\n",
            "  % self.max_iter, ConvergenceWarning)\n",
            "/usr/local/lib/python3.7/dist-packages/sklearn/neural_network/_multilayer_perceptron.py:571: ConvergenceWarning: Stochastic Optimizer: Maximum iterations (200) reached and the optimization hasn't converged yet.\n",
            "  % self.max_iter, ConvergenceWarning)\n",
            "/usr/local/lib/python3.7/dist-packages/sklearn/neural_network/_multilayer_perceptron.py:571: ConvergenceWarning: Stochastic Optimizer: Maximum iterations (200) reached and the optimization hasn't converged yet.\n",
            "  % self.max_iter, ConvergenceWarning)\n",
            "/usr/local/lib/python3.7/dist-packages/sklearn/neural_network/_multilayer_perceptron.py:571: ConvergenceWarning: Stochastic Optimizer: Maximum iterations (200) reached and the optimization hasn't converged yet.\n",
            "  % self.max_iter, ConvergenceWarning)\n",
            "/usr/local/lib/python3.7/dist-packages/sklearn/neural_network/_multilayer_perceptron.py:571: ConvergenceWarning: Stochastic Optimizer: Maximum iterations (200) reached and the optimization hasn't converged yet.\n",
            "  % self.max_iter, ConvergenceWarning)\n",
            "/usr/local/lib/python3.7/dist-packages/sklearn/neural_network/_multilayer_perceptron.py:571: ConvergenceWarning: Stochastic Optimizer: Maximum iterations (200) reached and the optimization hasn't converged yet.\n",
            "  % self.max_iter, ConvergenceWarning)\n"
          ],
          "name": "stderr"
        },
        {
          "output_type": "execute_result",
          "data": {
            "text/plain": [
              "[1.0, 1.0, 1.0, 1.0]"
            ]
          },
          "metadata": {
            "tags": []
          },
          "execution_count": 42
        }
      ]
    },
    {
      "cell_type": "code",
      "metadata": {
        "id": "791b6662",
        "colab": {
          "base_uri": "https://localhost:8080/"
        },
        "outputId": "87f52ba8-dd44-43ce-adc1-39070a19ccf4"
      },
      "source": [
        "#como os valores foram iguais/empataram escolhir um deles.para obter a curacia de..\n",
        "mlp = MLPClassifier(activation=\"logistic\")\n",
        "mlp.fit(X_treino, y_treino)\n",
        "mlp.score(X_teste, y_teste)\n"
      ],
      "execution_count": null,
      "outputs": [
        {
          "output_type": "stream",
          "text": [
            "/usr/local/lib/python3.7/dist-packages/sklearn/neural_network/_multilayer_perceptron.py:571: ConvergenceWarning: Stochastic Optimizer: Maximum iterations (200) reached and the optimization hasn't converged yet.\n",
            "  % self.max_iter, ConvergenceWarning)\n"
          ],
          "name": "stderr"
        },
        {
          "output_type": "execute_result",
          "data": {
            "text/plain": [
              "0.9805825242718447"
            ]
          },
          "metadata": {
            "tags": []
          },
          "execution_count": 43
        }
      ]
    },
    {
      "cell_type": "code",
      "metadata": {
        "colab": {
          "base_uri": "https://localhost:8080/"
        },
        "id": "D5SXLPF2rvAM",
        "outputId": "c3adc793-8b57-4bd5-be85-fbe461b1daa4"
      },
      "source": [
        "y_pred = mlp.predict(X_teste)\n",
        "\n",
        "precision_score(y_teste, y_pred, average='macro')"
      ],
      "execution_count": null,
      "outputs": [
        {
          "output_type": "execute_result",
          "data": {
            "text/plain": [
              "0.9795127748068925"
            ]
          },
          "metadata": {
            "tags": []
          },
          "execution_count": 44
        }
      ]
    },
    {
      "cell_type": "code",
      "metadata": {
        "colab": {
          "base_uri": "https://localhost:8080/"
        },
        "id": "Vs7VdEQzrzhz",
        "outputId": "2fa0c4c0-3f43-4ec7-def4-0086cd8b575f"
      },
      "source": [
        "recall_score(y_teste, y_pred, average='macro')"
      ],
      "execution_count": null,
      "outputs": [
        {
          "output_type": "execute_result",
          "data": {
            "text/plain": [
              "0.9814350824444604"
            ]
          },
          "metadata": {
            "tags": []
          },
          "execution_count": 45
        }
      ]
    },
    {
      "cell_type": "code",
      "metadata": {
        "colab": {
          "base_uri": "https://localhost:8080/"
        },
        "id": "HvyDkXXnr3G8",
        "outputId": "c97b0335-609f-476a-8bc6-3e1b3179e28e"
      },
      "source": [
        "f1_score(y_teste, y_pred, average='macro')"
      ],
      "execution_count": null,
      "outputs": [
        {
          "output_type": "execute_result",
          "data": {
            "text/plain": [
              "0.9803786165019646"
            ]
          },
          "metadata": {
            "tags": []
          },
          "execution_count": 46
        }
      ]
    },
    {
      "cell_type": "markdown",
      "metadata": {
        "id": "SvaiUMaQr8v0"
      },
      "source": [
        "**navebays**"
      ]
    },
    {
      "cell_type": "code",
      "metadata": {
        "colab": {
          "base_uri": "https://localhost:8080/"
        },
        "id": "M4EJE09or3F7",
        "outputId": "24dd34da-a009-48c5-d726-a2802bb46afc"
      },
      "source": [
        "gnb = GaussianNB()\n",
        "gnb.fit(X_treino, y_treino)\n",
        "gnb.score(X_teste, y_teste)"
      ],
      "execution_count": null,
      "outputs": [
        {
          "output_type": "execute_result",
          "data": {
            "text/plain": [
              "0.837378640776699"
            ]
          },
          "metadata": {
            "tags": []
          },
          "execution_count": 47
        }
      ]
    },
    {
      "cell_type": "code",
      "metadata": {
        "colab": {
          "base_uri": "https://localhost:8080/"
        },
        "id": "cis6ed7TsDQ1",
        "outputId": "14441a28-9966-41d9-eba1-a34197ed5524"
      },
      "source": [
        "y_pred = gnb.predict(X_teste)\n",
        "\n",
        "precision_score(y_teste, y_pred, average='macro')"
      ],
      "execution_count": null,
      "outputs": [
        {
          "output_type": "execute_result",
          "data": {
            "text/plain": [
              "0.8393329415221863"
            ]
          },
          "metadata": {
            "tags": []
          },
          "execution_count": 48
        }
      ]
    },
    {
      "cell_type": "code",
      "metadata": {
        "colab": {
          "base_uri": "https://localhost:8080/"
        },
        "id": "D-CMuViqsDPk",
        "outputId": "bc38c869-c0da-4347-88c2-885571124c6e"
      },
      "source": [
        "recall_score(y_teste, y_pred, average='macro')"
      ],
      "execution_count": null,
      "outputs": [
        {
          "output_type": "execute_result",
          "data": {
            "text/plain": [
              "0.8306607488009163"
            ]
          },
          "metadata": {
            "tags": []
          },
          "execution_count": 49
        }
      ]
    },
    {
      "cell_type": "code",
      "metadata": {
        "colab": {
          "base_uri": "https://localhost:8080/"
        },
        "id": "6B7AllgBsHKj",
        "outputId": "3f21c241-7dbc-41dd-afd9-38def405f4e3"
      },
      "source": [
        "f1_score(y_teste, y_pred, average='macro')"
      ],
      "execution_count": null,
      "outputs": [
        {
          "output_type": "execute_result",
          "data": {
            "text/plain": [
              "0.8334851455285779"
            ]
          },
          "metadata": {
            "tags": []
          },
          "execution_count": 50
        }
      ]
    },
    {
      "cell_type": "markdown",
      "metadata": {
        "id": "NI9jCelPvpfd"
      },
      "source": [
        "**Arvore**"
      ]
    },
    {
      "cell_type": "code",
      "metadata": {
        "id": "cf482d23",
        "colab": {
          "base_uri": "https://localhost:8080/"
        },
        "outputId": "9f50312b-e7a8-4d28-ab22-de1c6bf1cfcb"
      },
      "source": [
        "arvore = DecisionTreeClassifier(criterion=\"entropy\")\n",
        "arvore.fit(X_treino, y_treino)\n",
        "arvore.score(X_teste, y_teste)"
      ],
      "execution_count": null,
      "outputs": [
        {
          "output_type": "execute_result",
          "data": {
            "text/plain": [
              "0.9878640776699029"
            ]
          },
          "metadata": {
            "tags": []
          },
          "execution_count": 59
        }
      ]
    },
    {
      "cell_type": "code",
      "metadata": {
        "id": "e78540c5",
        "colab": {
          "base_uri": "https://localhost:8080/"
        },
        "outputId": "f40c5ccc-48c9-4f95-ee1e-dfc8d3348ad3"
      },
      "source": [
        "#precisão\n",
        "y_pred = arvore.predict(X_teste)\n",
        "\n",
        "precision_score(y_teste, y_pred, average='macro')"
      ],
      "execution_count": null,
      "outputs": [
        {
          "output_type": "execute_result",
          "data": {
            "text/plain": [
              "0.9886015325670499"
            ]
          },
          "metadata": {
            "tags": []
          },
          "execution_count": 60
        }
      ]
    },
    {
      "cell_type": "code",
      "metadata": {
        "id": "b4eeafcb",
        "colab": {
          "base_uri": "https://localhost:8080/"
        },
        "outputId": "c46463e8-21ac-4e98-ac0c-6722d899ff71"
      },
      "source": [
        "#recall\n",
        "recall_score(y_teste, y_pred, average='macro')"
      ],
      "execution_count": null,
      "outputs": [
        {
          "output_type": "execute_result",
          "data": {
            "text/plain": [
              "0.986887632137829"
            ]
          },
          "metadata": {
            "tags": []
          },
          "execution_count": 61
        }
      ]
    },
    {
      "cell_type": "code",
      "metadata": {
        "id": "f520f835",
        "colab": {
          "base_uri": "https://localhost:8080/"
        },
        "outputId": "9fb89835-2ffd-46de-c1ac-5a12080136fc"
      },
      "source": [
        "#f1-score\n",
        "f1_score(y_teste, y_pred, average='macro')"
      ],
      "execution_count": null,
      "outputs": [
        {
          "output_type": "execute_result",
          "data": {
            "text/plain": [
              "0.9876899541659944"
            ]
          },
          "metadata": {
            "tags": []
          },
          "execution_count": 62
        }
      ]
    }
  ]
}