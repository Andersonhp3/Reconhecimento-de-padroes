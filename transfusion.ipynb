{
  "nbformat": 4,
  "nbformat_minor": 0,
  "metadata": {
    "colab": {
      "name": "transfusion.ipynb",
      "provenance": [],
      "authorship_tag": "ABX9TyNuFMzxmL9QMXtR9UVsP59O",
      "include_colab_link": true
    },
    "kernelspec": {
      "name": "python3",
      "display_name": "Python 3"
    },
    "language_info": {
      "name": "python"
    }
  },
  "cells": [
    {
      "cell_type": "markdown",
      "metadata": {
        "id": "view-in-github",
        "colab_type": "text"
      },
      "source": [
        "<a href=\"https://colab.research.google.com/github/Andersonhp3/Reconhecimento-de-padroes/blob/main/transfusion.ipynb\" target=\"_parent\"><img src=\"https://colab.research.google.com/assets/colab-badge.svg\" alt=\"Open In Colab\"/></a>"
      ]
    },
    {
      "cell_type": "code",
      "metadata": {
        "id": "3fy-1ks29bzO"
      },
      "source": [
        "import pandas as pd\n",
        "import numpy as np\n",
        "import matplotlib.pyplot as plt\n",
        "from sklearn.metrics.cluster import v_measure_score\n",
        "from sklearn import metrics\n",
        "from sklearn.metrics.pairwise import pairwise_distances,cosine_similarity\n",
        "from sklearn.preprocessing import StandardScaler\n",
        "from sklearn.datasets import load_digits\n",
        "from sklearn.preprocessing import OrdinalEncoder\n",
        "from sklearn.neighbors import KNeighborsClassifier\n",
        "from sklearn.naive_bayes import GaussianNB\n",
        "from sklearn.svm import SVC\n",
        "from sklearn.tree import DecisionTreeClassifier\n",
        "from sklearn.tree import export_text\n",
        "from sklearn import tree\n",
        "from sklearn.neural_network import MLPClassifier\n",
        "from sklearn.model_selection import train_test_split\n",
        "from sklearn.model_selection import KFold\n",
        "from sklearn.metrics import precision_score, recall_score, f1_score"
      ],
      "execution_count": null,
      "outputs": []
    },
    {
      "cell_type": "markdown",
      "metadata": {
        "id": "p_-Q1iiq4jaW"
      },
      "source": [
        "# **Carregando Base**"
      ]
    },
    {
      "cell_type": "code",
      "metadata": {
        "colab": {
          "base_uri": "https://localhost:8080/",
          "height": 419
        },
        "id": "Vg2lavyz4nsW",
        "outputId": "11b8dbef-ab65-4c64-af2a-0454fd824fe6"
      },
      "source": [
        "transfusion = pd.read_csv('transfusion.csv')\n",
        "X = transfusion.iloc[:,0:4]\n",
        "y= transfusion.iloc[:,4]\n",
        "X"
      ],
      "execution_count": null,
      "outputs": [
        {
          "output_type": "execute_result",
          "data": {
            "text/html": [
              "<div>\n",
              "<style scoped>\n",
              "    .dataframe tbody tr th:only-of-type {\n",
              "        vertical-align: middle;\n",
              "    }\n",
              "\n",
              "    .dataframe tbody tr th {\n",
              "        vertical-align: top;\n",
              "    }\n",
              "\n",
              "    .dataframe thead th {\n",
              "        text-align: right;\n",
              "    }\n",
              "</style>\n",
              "<table border=\"1\" class=\"dataframe\">\n",
              "  <thead>\n",
              "    <tr style=\"text-align: right;\">\n",
              "      <th></th>\n",
              "      <th>Recency</th>\n",
              "      <th>Frequency</th>\n",
              "      <th>Monetary</th>\n",
              "      <th>Time</th>\n",
              "    </tr>\n",
              "  </thead>\n",
              "  <tbody>\n",
              "    <tr>\n",
              "      <th>0</th>\n",
              "      <td>2</td>\n",
              "      <td>50</td>\n",
              "      <td>12500</td>\n",
              "      <td>98</td>\n",
              "    </tr>\n",
              "    <tr>\n",
              "      <th>1</th>\n",
              "      <td>0</td>\n",
              "      <td>13</td>\n",
              "      <td>3250</td>\n",
              "      <td>28</td>\n",
              "    </tr>\n",
              "    <tr>\n",
              "      <th>2</th>\n",
              "      <td>1</td>\n",
              "      <td>16</td>\n",
              "      <td>4000</td>\n",
              "      <td>35</td>\n",
              "    </tr>\n",
              "    <tr>\n",
              "      <th>3</th>\n",
              "      <td>2</td>\n",
              "      <td>20</td>\n",
              "      <td>5000</td>\n",
              "      <td>45</td>\n",
              "    </tr>\n",
              "    <tr>\n",
              "      <th>4</th>\n",
              "      <td>1</td>\n",
              "      <td>24</td>\n",
              "      <td>6000</td>\n",
              "      <td>77</td>\n",
              "    </tr>\n",
              "    <tr>\n",
              "      <th>...</th>\n",
              "      <td>...</td>\n",
              "      <td>...</td>\n",
              "      <td>...</td>\n",
              "      <td>...</td>\n",
              "    </tr>\n",
              "    <tr>\n",
              "      <th>743</th>\n",
              "      <td>23</td>\n",
              "      <td>2</td>\n",
              "      <td>500</td>\n",
              "      <td>38</td>\n",
              "    </tr>\n",
              "    <tr>\n",
              "      <th>744</th>\n",
              "      <td>21</td>\n",
              "      <td>2</td>\n",
              "      <td>500</td>\n",
              "      <td>52</td>\n",
              "    </tr>\n",
              "    <tr>\n",
              "      <th>745</th>\n",
              "      <td>23</td>\n",
              "      <td>3</td>\n",
              "      <td>750</td>\n",
              "      <td>62</td>\n",
              "    </tr>\n",
              "    <tr>\n",
              "      <th>746</th>\n",
              "      <td>39</td>\n",
              "      <td>1</td>\n",
              "      <td>250</td>\n",
              "      <td>39</td>\n",
              "    </tr>\n",
              "    <tr>\n",
              "      <th>747</th>\n",
              "      <td>72</td>\n",
              "      <td>1</td>\n",
              "      <td>250</td>\n",
              "      <td>72</td>\n",
              "    </tr>\n",
              "  </tbody>\n",
              "</table>\n",
              "<p>748 rows × 4 columns</p>\n",
              "</div>"
            ],
            "text/plain": [
              "     Recency  Frequency  Monetary  Time\n",
              "0          2         50     12500    98\n",
              "1          0         13      3250    28\n",
              "2          1         16      4000    35\n",
              "3          2         20      5000    45\n",
              "4          1         24      6000    77\n",
              "..       ...        ...       ...   ...\n",
              "743       23          2       500    38\n",
              "744       21          2       500    52\n",
              "745       23          3       750    62\n",
              "746       39          1       250    39\n",
              "747       72          1       250    72\n",
              "\n",
              "[748 rows x 4 columns]"
            ]
          },
          "metadata": {
            "tags": []
          },
          "execution_count": 3
        }
      ]
    },
    {
      "cell_type": "markdown",
      "metadata": {
        "id": "jTxu_kzBdG9_"
      },
      "source": [
        "# **Utilizando StandardScale**"
      ]
    },
    {
      "cell_type": "code",
      "metadata": {
        "colab": {
          "base_uri": "https://localhost:8080/",
          "height": 419
        },
        "id": "ocCGnbBBRCQ7",
        "outputId": "d2ade85b-ef94-4d62-f07f-9de8ee5de62b"
      },
      "source": [
        "from sklearn.preprocessing import StandardScaler\n",
        "X = StandardScaler().fit_transform(X)\n",
        "X = pd.DataFrame(X)\n",
        "X"
      ],
      "execution_count": null,
      "outputs": [
        {
          "output_type": "execute_result",
          "data": {
            "text/html": [
              "<div>\n",
              "<style scoped>\n",
              "    .dataframe tbody tr th:only-of-type {\n",
              "        vertical-align: middle;\n",
              "    }\n",
              "\n",
              "    .dataframe tbody tr th {\n",
              "        vertical-align: top;\n",
              "    }\n",
              "\n",
              "    .dataframe thead th {\n",
              "        text-align: right;\n",
              "    }\n",
              "</style>\n",
              "<table border=\"1\" class=\"dataframe\">\n",
              "  <thead>\n",
              "    <tr style=\"text-align: right;\">\n",
              "      <th></th>\n",
              "      <th>0</th>\n",
              "      <th>1</th>\n",
              "      <th>2</th>\n",
              "      <th>3</th>\n",
              "    </tr>\n",
              "  </thead>\n",
              "  <tbody>\n",
              "    <tr>\n",
              "      <th>0</th>\n",
              "      <td>-0.927899</td>\n",
              "      <td>7.623346</td>\n",
              "      <td>7.623346</td>\n",
              "      <td>2.615633</td>\n",
              "    </tr>\n",
              "    <tr>\n",
              "      <th>1</th>\n",
              "      <td>-1.175118</td>\n",
              "      <td>1.282738</td>\n",
              "      <td>1.282738</td>\n",
              "      <td>-0.257881</td>\n",
              "    </tr>\n",
              "    <tr>\n",
              "      <th>2</th>\n",
              "      <td>-1.051508</td>\n",
              "      <td>1.796842</td>\n",
              "      <td>1.796842</td>\n",
              "      <td>0.029471</td>\n",
              "    </tr>\n",
              "    <tr>\n",
              "      <th>3</th>\n",
              "      <td>-0.927899</td>\n",
              "      <td>2.482313</td>\n",
              "      <td>2.482313</td>\n",
              "      <td>0.439973</td>\n",
              "    </tr>\n",
              "    <tr>\n",
              "      <th>4</th>\n",
              "      <td>-1.051508</td>\n",
              "      <td>3.167784</td>\n",
              "      <td>3.167784</td>\n",
              "      <td>1.753579</td>\n",
              "    </tr>\n",
              "    <tr>\n",
              "      <th>...</th>\n",
              "      <td>...</td>\n",
              "      <td>...</td>\n",
              "      <td>...</td>\n",
              "      <td>...</td>\n",
              "    </tr>\n",
              "    <tr>\n",
              "      <th>743</th>\n",
              "      <td>1.667904</td>\n",
              "      <td>-0.602307</td>\n",
              "      <td>-0.602307</td>\n",
              "      <td>0.152621</td>\n",
              "    </tr>\n",
              "    <tr>\n",
              "      <th>744</th>\n",
              "      <td>1.420685</td>\n",
              "      <td>-0.602307</td>\n",
              "      <td>-0.602307</td>\n",
              "      <td>0.727324</td>\n",
              "    </tr>\n",
              "    <tr>\n",
              "      <th>745</th>\n",
              "      <td>1.667904</td>\n",
              "      <td>-0.430940</td>\n",
              "      <td>-0.430940</td>\n",
              "      <td>1.137826</td>\n",
              "    </tr>\n",
              "    <tr>\n",
              "      <th>746</th>\n",
              "      <td>3.645659</td>\n",
              "      <td>-0.773675</td>\n",
              "      <td>-0.773675</td>\n",
              "      <td>0.193671</td>\n",
              "    </tr>\n",
              "    <tr>\n",
              "      <th>747</th>\n",
              "      <td>7.724778</td>\n",
              "      <td>-0.773675</td>\n",
              "      <td>-0.773675</td>\n",
              "      <td>1.548328</td>\n",
              "    </tr>\n",
              "  </tbody>\n",
              "</table>\n",
              "<p>748 rows × 4 columns</p>\n",
              "</div>"
            ],
            "text/plain": [
              "            0         1         2         3\n",
              "0   -0.927899  7.623346  7.623346  2.615633\n",
              "1   -1.175118  1.282738  1.282738 -0.257881\n",
              "2   -1.051508  1.796842  1.796842  0.029471\n",
              "3   -0.927899  2.482313  2.482313  0.439973\n",
              "4   -1.051508  3.167784  3.167784  1.753579\n",
              "..        ...       ...       ...       ...\n",
              "743  1.667904 -0.602307 -0.602307  0.152621\n",
              "744  1.420685 -0.602307 -0.602307  0.727324\n",
              "745  1.667904 -0.430940 -0.430940  1.137826\n",
              "746  3.645659 -0.773675 -0.773675  0.193671\n",
              "747  7.724778 -0.773675 -0.773675  1.548328\n",
              "\n",
              "[748 rows x 4 columns]"
            ]
          },
          "metadata": {
            "tags": []
          },
          "execution_count": 4
        }
      ]
    },
    {
      "cell_type": "code",
      "metadata": {
        "id": "jjmGPiG_ALuw"
      },
      "source": [
        ""
      ],
      "execution_count": null,
      "outputs": []
    },
    {
      "cell_type": "markdown",
      "metadata": {
        "id": "i-RvCvB77P-L"
      },
      "source": [
        "# **Avaliando com Holdout**"
      ]
    },
    {
      "cell_type": "code",
      "metadata": {
        "colab": {
          "base_uri": "https://localhost:8080/",
          "height": 419
        },
        "id": "x-dhlB6Y7TcD",
        "outputId": "47eb2702-8226-41ae-986b-4fe84e4a94b5"
      },
      "source": [
        "from sklearn.model_selection import train_test_split\n",
        "X_treino, X_teste, y_treino, y_teste = train_test_split(X, y, test_size=0.3, random_state=42)\n",
        "X_treino"
      ],
      "execution_count": null,
      "outputs": [
        {
          "output_type": "execute_result",
          "data": {
            "text/html": [
              "<div>\n",
              "<style scoped>\n",
              "    .dataframe tbody tr th:only-of-type {\n",
              "        vertical-align: middle;\n",
              "    }\n",
              "\n",
              "    .dataframe tbody tr th {\n",
              "        vertical-align: top;\n",
              "    }\n",
              "\n",
              "    .dataframe thead th {\n",
              "        text-align: right;\n",
              "    }\n",
              "</style>\n",
              "<table border=\"1\" class=\"dataframe\">\n",
              "  <thead>\n",
              "    <tr style=\"text-align: right;\">\n",
              "      <th></th>\n",
              "      <th>0</th>\n",
              "      <th>1</th>\n",
              "      <th>2</th>\n",
              "      <th>3</th>\n",
              "    </tr>\n",
              "  </thead>\n",
              "  <tbody>\n",
              "    <tr>\n",
              "      <th>369</th>\n",
              "      <td>0.802637</td>\n",
              "      <td>-0.088204</td>\n",
              "      <td>-0.088204</td>\n",
              "      <td>0.234722</td>\n",
              "    </tr>\n",
              "    <tr>\n",
              "      <th>628</th>\n",
              "      <td>-0.927899</td>\n",
              "      <td>-0.088204</td>\n",
              "      <td>-0.088204</td>\n",
              "      <td>1.178876</td>\n",
              "    </tr>\n",
              "    <tr>\n",
              "      <th>235</th>\n",
              "      <td>-0.186241</td>\n",
              "      <td>0.768635</td>\n",
              "      <td>0.768635</td>\n",
              "      <td>1.178876</td>\n",
              "    </tr>\n",
              "    <tr>\n",
              "      <th>585</th>\n",
              "      <td>-0.927899</td>\n",
              "      <td>-0.773675</td>\n",
              "      <td>-0.773675</td>\n",
              "      <td>-1.325186</td>\n",
              "    </tr>\n",
              "    <tr>\n",
              "      <th>209</th>\n",
              "      <td>0.184588</td>\n",
              "      <td>-0.430940</td>\n",
              "      <td>-0.430940</td>\n",
              "      <td>-0.832584</td>\n",
              "    </tr>\n",
              "    <tr>\n",
              "      <th>...</th>\n",
              "      <td>...</td>\n",
              "      <td>...</td>\n",
              "      <td>...</td>\n",
              "      <td>...</td>\n",
              "    </tr>\n",
              "    <tr>\n",
              "      <th>71</th>\n",
              "      <td>-0.927899</td>\n",
              "      <td>-0.259572</td>\n",
              "      <td>-0.259572</td>\n",
              "      <td>-0.750483</td>\n",
              "    </tr>\n",
              "    <tr>\n",
              "      <th>106</th>\n",
              "      <td>-1.175118</td>\n",
              "      <td>0.425899</td>\n",
              "      <td>0.425899</td>\n",
              "      <td>1.014675</td>\n",
              "    </tr>\n",
              "    <tr>\n",
              "      <th>270</th>\n",
              "      <td>0.802637</td>\n",
              "      <td>0.940003</td>\n",
              "      <td>0.940003</td>\n",
              "      <td>0.234722</td>\n",
              "    </tr>\n",
              "    <tr>\n",
              "      <th>435</th>\n",
              "      <td>0.802637</td>\n",
              "      <td>0.254532</td>\n",
              "      <td>0.254532</td>\n",
              "      <td>2.410382</td>\n",
              "    </tr>\n",
              "    <tr>\n",
              "      <th>102</th>\n",
              "      <td>-0.680679</td>\n",
              "      <td>0.597267</td>\n",
              "      <td>0.597267</td>\n",
              "      <td>0.234722</td>\n",
              "    </tr>\n",
              "  </tbody>\n",
              "</table>\n",
              "<p>523 rows × 4 columns</p>\n",
              "</div>"
            ],
            "text/plain": [
              "            0         1         2         3\n",
              "369  0.802637 -0.088204 -0.088204  0.234722\n",
              "628 -0.927899 -0.088204 -0.088204  1.178876\n",
              "235 -0.186241  0.768635  0.768635  1.178876\n",
              "585 -0.927899 -0.773675 -0.773675 -1.325186\n",
              "209  0.184588 -0.430940 -0.430940 -0.832584\n",
              "..        ...       ...       ...       ...\n",
              "71  -0.927899 -0.259572 -0.259572 -0.750483\n",
              "106 -1.175118  0.425899  0.425899  1.014675\n",
              "270  0.802637  0.940003  0.940003  0.234722\n",
              "435  0.802637  0.254532  0.254532  2.410382\n",
              "102 -0.680679  0.597267  0.597267  0.234722\n",
              "\n",
              "[523 rows x 4 columns]"
            ]
          },
          "metadata": {
            "tags": []
          },
          "execution_count": 5
        }
      ]
    },
    {
      "cell_type": "code",
      "metadata": {
        "colab": {
          "base_uri": "https://localhost:8080/"
        },
        "id": "OWyQPc0G9LPD",
        "outputId": "d5f4bb12-af67-4be5-bbe4-a3e24b38986b"
      },
      "source": [
        "mlp = MLPClassifier(activation=\"relu\", hidden_layer_sizes=(10,))\n",
        "mlp.fit(X_treino, y_treino)\n",
        "mlp.predict(X_teste)"
      ],
      "execution_count": null,
      "outputs": [
        {
          "output_type": "stream",
          "text": [
            "/usr/local/lib/python3.7/dist-packages/sklearn/neural_network/_multilayer_perceptron.py:571: ConvergenceWarning: Stochastic Optimizer: Maximum iterations (200) reached and the optimization hasn't converged yet.\n",
            "  % self.max_iter, ConvergenceWarning)\n"
          ],
          "name": "stderr"
        },
        {
          "output_type": "execute_result",
          "data": {
            "text/plain": [
              "array([0, 0, 0, 0, 0, 0, 0, 0, 0, 0, 0, 0, 0, 0, 0, 0, 1, 0, 0, 1, 0, 0,\n",
              "       1, 0, 0, 0, 0, 0, 0, 0, 0, 0, 0, 0, 0, 0, 0, 0, 0, 0, 0, 0, 1, 0,\n",
              "       0, 0, 0, 0, 0, 0, 1, 0, 0, 0, 0, 0, 1, 0, 0, 0, 0, 0, 0, 0, 0, 0,\n",
              "       0, 0, 0, 0, 0, 0, 0, 0, 0, 0, 0, 0, 0, 0, 0, 0, 0, 0, 0, 0, 0, 0,\n",
              "       0, 1, 0, 1, 0, 0, 0, 0, 0, 0, 0, 0, 0, 0, 1, 0, 0, 0, 0, 0, 0, 0,\n",
              "       0, 0, 0, 0, 0, 0, 0, 0, 0, 1, 0, 0, 0, 0, 0, 0, 1, 0, 0, 0, 0, 0,\n",
              "       0, 0, 0, 0, 0, 0, 1, 0, 0, 0, 0, 0, 0, 0, 0, 0, 0, 0, 0, 0, 0, 0,\n",
              "       0, 0, 0, 0, 0, 0, 0, 0, 0, 0, 0, 0, 1, 0, 0, 0, 0, 0, 0, 0, 0, 0,\n",
              "       0, 0, 1, 0, 0, 1, 0, 0, 0, 0, 0, 1, 0, 0, 0, 0, 0, 0, 0, 0, 1, 0,\n",
              "       1, 0, 0, 0, 0, 0, 0, 1, 0, 0, 0, 1, 0, 1, 0, 0, 1, 0, 0, 0, 0, 0,\n",
              "       0, 0, 0, 0, 0])"
            ]
          },
          "metadata": {
            "tags": []
          },
          "execution_count": 6
        }
      ]
    },
    {
      "cell_type": "markdown",
      "metadata": {
        "id": "ldtYWuMc-AHb"
      },
      "source": [
        "# **Processando com Kfold**"
      ]
    },
    {
      "cell_type": "code",
      "metadata": {
        "colab": {
          "base_uri": "https://localhost:8080/"
        },
        "id": "2PqsP5A69_xi",
        "outputId": "f4b12138-afef-4833-8b97-1cfa436565a1"
      },
      "source": [
        "from sklearn.model_selection import KFold\n",
        "resultados = []\n",
        "kf = KFold(n_splits=10, shuffle=True)\n",
        "for index_treino, index_teste in kf.split(X):\n",
        "    X_treino, X_teste = X.iloc[index_treino], X.iloc[index_teste]\n",
        "    y_treino, y_teste = y.iloc[index_treino], y.iloc[index_teste]\n",
        "    mlp.fit(X_treino, y_treino)\n",
        "    resultados.append(mlp.predict(X_teste))\n",
        "resultados"
      ],
      "execution_count": null,
      "outputs": [
        {
          "output_type": "stream",
          "text": [
            "/usr/local/lib/python3.7/dist-packages/sklearn/neural_network/_multilayer_perceptron.py:571: ConvergenceWarning: Stochastic Optimizer: Maximum iterations (200) reached and the optimization hasn't converged yet.\n",
            "  % self.max_iter, ConvergenceWarning)\n",
            "/usr/local/lib/python3.7/dist-packages/sklearn/neural_network/_multilayer_perceptron.py:571: ConvergenceWarning: Stochastic Optimizer: Maximum iterations (200) reached and the optimization hasn't converged yet.\n",
            "  % self.max_iter, ConvergenceWarning)\n",
            "/usr/local/lib/python3.7/dist-packages/sklearn/neural_network/_multilayer_perceptron.py:571: ConvergenceWarning: Stochastic Optimizer: Maximum iterations (200) reached and the optimization hasn't converged yet.\n",
            "  % self.max_iter, ConvergenceWarning)\n",
            "/usr/local/lib/python3.7/dist-packages/sklearn/neural_network/_multilayer_perceptron.py:571: ConvergenceWarning: Stochastic Optimizer: Maximum iterations (200) reached and the optimization hasn't converged yet.\n",
            "  % self.max_iter, ConvergenceWarning)\n",
            "/usr/local/lib/python3.7/dist-packages/sklearn/neural_network/_multilayer_perceptron.py:571: ConvergenceWarning: Stochastic Optimizer: Maximum iterations (200) reached and the optimization hasn't converged yet.\n",
            "  % self.max_iter, ConvergenceWarning)\n"
          ],
          "name": "stderr"
        },
        {
          "output_type": "execute_result",
          "data": {
            "text/plain": [
              "[array([1, 0, 0, 0, 1, 0, 0, 0, 0, 0, 0, 0, 0, 0, 0, 0, 0, 0, 0, 0, 0, 0,\n",
              "        0, 0, 0, 0, 0, 0, 0, 0, 0, 0, 0, 0, 0, 0, 0, 0, 0, 0, 0, 0, 0, 1,\n",
              "        1, 0, 0, 0, 0, 0, 0, 0, 0, 0, 0, 0, 0, 0, 0, 0, 0, 0, 0, 0, 0, 0,\n",
              "        0, 0, 0, 0, 0, 0, 0, 0, 0]),\n",
              " array([1, 1, 1, 1, 1, 1, 0, 0, 0, 1, 0, 0, 0, 0, 0, 0, 0, 0, 0, 0, 0, 0,\n",
              "        0, 0, 0, 0, 0, 0, 0, 0, 0, 0, 0, 0, 0, 0, 0, 0, 0, 0, 0, 0, 0, 0,\n",
              "        0, 0, 0, 0, 1, 1, 1, 1, 0, 0, 0, 0, 0, 0, 0, 0, 0, 0, 0, 0, 0, 0,\n",
              "        0, 0, 0, 0, 0, 0, 0, 0, 0]),\n",
              " array([1, 1, 1, 1, 0, 0, 0, 0, 0, 0, 0, 0, 0, 0, 0, 0, 0, 0, 0, 0, 0, 0,\n",
              "        0, 0, 0, 0, 0, 0, 0, 0, 0, 0, 0, 0, 0, 0, 0, 0, 0, 0, 0, 0, 0, 0,\n",
              "        0, 0, 0, 0, 0, 0, 0, 0, 1, 0, 0, 0, 0, 0, 0, 0, 0, 0, 0, 0, 0, 0,\n",
              "        0, 0, 0, 0, 0, 0, 0, 0, 0]),\n",
              " array([1, 1, 1, 0, 1, 1, 1, 0, 0, 0, 0, 1, 0, 0, 0, 0, 0, 0, 0, 0, 0, 0,\n",
              "        0, 0, 0, 0, 0, 0, 0, 0, 0, 0, 0, 0, 0, 0, 0, 0, 0, 0, 0, 0, 0, 0,\n",
              "        0, 0, 0, 0, 0, 0, 0, 0, 0, 0, 1, 1, 1, 0, 0, 0, 0, 0, 0, 0, 0, 0,\n",
              "        0, 0, 0, 0, 0, 0, 0, 0, 0]),\n",
              " array([1, 1, 0, 1, 1, 1, 0, 0, 1, 0, 0, 0, 0, 0, 0, 0, 0, 0, 0, 0, 0, 0,\n",
              "        0, 0, 0, 0, 0, 0, 0, 0, 0, 0, 0, 0, 0, 0, 0, 0, 0, 0, 0, 0, 0, 0,\n",
              "        0, 0, 0, 1, 0, 0, 0, 0, 0, 0, 0, 0, 0, 0, 0, 0, 0, 0, 0, 0, 0, 0,\n",
              "        0, 0, 0, 0, 0, 0, 0, 0, 0]),\n",
              " array([1, 1, 1, 1, 0, 0, 0, 0, 0, 0, 0, 0, 0, 0, 0, 0, 0, 0, 0, 0, 0, 0,\n",
              "        0, 0, 0, 0, 0, 0, 0, 0, 0, 0, 0, 0, 0, 0, 0, 0, 0, 0, 0, 0, 0, 0,\n",
              "        0, 0, 0, 0, 0, 0, 0, 0, 1, 1, 1, 0, 0, 0, 0, 0, 0, 0, 0, 0, 0, 0,\n",
              "        0, 0, 0, 0, 0, 0, 0, 0, 0]),\n",
              " array([1, 1, 0, 1, 1, 0, 0, 0, 0, 1, 0, 0, 0, 0, 0, 0, 0, 0, 0, 0, 0, 0,\n",
              "        0, 0, 0, 0, 0, 0, 0, 0, 0, 0, 0, 0, 0, 0, 0, 0, 0, 0, 0, 0, 0, 0,\n",
              "        0, 0, 0, 0, 0, 0, 0, 0, 0, 0, 0, 0, 0, 0, 0, 1, 1, 0, 0, 0, 0, 0,\n",
              "        0, 0, 0, 0, 0, 0, 0, 0, 0]),\n",
              " array([1, 0, 0, 1, 1, 1, 1, 1, 0, 1, 0, 0, 0, 0, 0, 0, 0, 0, 0, 0, 0, 0,\n",
              "        0, 0, 0, 0, 0, 0, 0, 0, 0, 0, 0, 0, 0, 0, 0, 0, 0, 0, 0, 0, 0, 0,\n",
              "        0, 0, 1, 1, 1, 1, 0, 1, 1, 0, 0, 0, 0, 0, 0, 0, 0, 0, 0, 0, 0, 0,\n",
              "        0, 0, 0, 0, 0, 0, 0, 0, 0]),\n",
              " array([0, 1, 1, 1, 0, 0, 0, 0, 0, 0, 0, 0, 0, 0, 0, 0, 0, 0, 0, 0, 0, 0,\n",
              "        0, 0, 0, 0, 0, 0, 0, 0, 0, 0, 0, 0, 0, 0, 0, 0, 0, 0, 0, 0, 0, 0,\n",
              "        0, 0, 0, 0, 0, 0, 0, 1, 0, 0, 0, 0, 0, 0, 0, 0, 0, 0, 0, 0, 0, 0,\n",
              "        0, 0, 0, 0, 0, 0, 0, 0]),\n",
              " array([1, 0, 1, 0, 1, 0, 0, 0, 0, 0, 0, 0, 0, 0, 0, 0, 0, 0, 0, 0, 0, 0,\n",
              "        0, 0, 0, 0, 0, 0, 0, 0, 0, 0, 0, 0, 0, 0, 0, 0, 0, 0, 0, 0, 0, 0,\n",
              "        0, 0, 0, 0, 0, 0, 0, 0, 1, 1, 1, 1, 0, 0, 0, 0, 0, 0, 0, 0, 0, 0,\n",
              "        0, 0, 0, 0, 0, 0, 0, 0])]"
            ]
          },
          "metadata": {
            "tags": []
          },
          "execution_count": 7
        }
      ]
    },
    {
      "cell_type": "code",
      "metadata": {
        "id": "GHKYEhOwAh-Q"
      },
      "source": [
        ""
      ],
      "execution_count": null,
      "outputs": []
    },
    {
      "cell_type": "markdown",
      "metadata": {
        "id": "n1lOxZmu_ULi"
      },
      "source": [
        "# **Pratica do projeto**"
      ]
    },
    {
      "cell_type": "markdown",
      "metadata": {
        "id": "sKMvGd7So5G0"
      },
      "source": [
        "**KNN**"
      ]
    },
    {
      "cell_type": "code",
      "metadata": {
        "colab": {
          "base_uri": "https://localhost:8080/"
        },
        "id": "BcMsI9PR_XQL",
        "outputId": "55417cde-25cf-4269-bc14-eaa61d12b52b"
      },
      "source": [
        "X_treino, X_teste, y_treino, y_teste = train_test_split(X, y, test_size=0.3, random_state=42)\n",
        "\n",
        "valores_k = [1, 2, 3, 4, 5, 6, 7, 8, 9, 10, 11, 12, 13, 14, 15]\n",
        "resultados_knn = []\n",
        "\n",
        "for k in valores_k:\n",
        "    resultados_k = []\n",
        "    knn = KNeighborsClassifier(n_neighbors=k)\n",
        "    kf = KFold(n_splits=10, shuffle=True)\n",
        "    for index_train, index_valid in kf.split(X_treino):\n",
        "        X_train, X_validacao = X_treino.iloc[index_train], X_treino.iloc[index_valid]\n",
        "        y_train, y_validacao = y_treino.iloc[index_train], y_treino.iloc[index_valid]\n",
        "        knn.fit(X_train, y_train)\n",
        "        resultados_k.append(knn.score(X_validacao, y_validacao))\n",
        "    resultados_knn.append(sum(resultados_k)/len(resultados_k))\n",
        "resultados_knn"
      ],
      "execution_count": null,
      "outputs": [
        {
          "output_type": "execute_result",
          "data": {
            "text/plain": [
              "[0.7017053701015966,\n",
              " 0.7628809869375907,\n",
              " 0.7647677793904208,\n",
              " 0.7837082728592162,\n",
              " 0.7821117561683598,\n",
              " 0.7992017416545718,\n",
              " 0.7895500725689405,\n",
              " 0.7895863570391872,\n",
              " 0.8033744557329461,\n",
              " 0.7855950653120464,\n",
              " 0.7915820029027577,\n",
              " 0.7802975326560231,\n",
              " 0.8050072568940493,\n",
              " 0.7933599419448475,\n",
              " 0.8009796806966618]"
            ]
          },
          "metadata": {
            "tags": []
          },
          "execution_count": 59
        }
      ]
    },
    {
      "cell_type": "code",
      "metadata": {
        "colab": {
          "base_uri": "https://localhost:8080/"
        },
        "id": "XG4uLWNs_h80",
        "outputId": "9f60ded5-689c-4528-a8ef-b00b5af60824"
      },
      "source": [
        "knn = KNeighborsClassifier(n_neighbors=13)\n",
        "knn.fit(X_treino, y_treino)\n",
        "knn.score(X_teste, y_teste)"
      ],
      "execution_count": null,
      "outputs": [
        {
          "output_type": "execute_result",
          "data": {
            "text/plain": [
              "0.7377777777777778"
            ]
          },
          "metadata": {
            "tags": []
          },
          "execution_count": 60
        }
      ]
    },
    {
      "cell_type": "code",
      "metadata": {
        "colab": {
          "base_uri": "https://localhost:8080/"
        },
        "id": "jYPq-rmh_km8",
        "outputId": "dd2b75bd-2349-4a40-b186-1c0bd3ec6d24"
      },
      "source": [
        "y_pred = knn.predict(X_teste)\n",
        "\n",
        "precision_score(y_teste, y_pred, average='macro')"
      ],
      "execution_count": null,
      "outputs": [
        {
          "output_type": "execute_result",
          "data": {
            "text/plain": [
              "0.6438247712878256"
            ]
          },
          "metadata": {
            "tags": []
          },
          "execution_count": 61
        }
      ]
    },
    {
      "cell_type": "code",
      "metadata": {
        "colab": {
          "base_uri": "https://localhost:8080/"
        },
        "id": "_FciqTGj_odz",
        "outputId": "81dfd284-17ba-407b-c770-b8e877b7681c"
      },
      "source": [
        "recall_score(y_teste, y_pred, average='macro')"
      ],
      "execution_count": null,
      "outputs": [
        {
          "output_type": "execute_result",
          "data": {
            "text/plain": [
              "0.5825757575757575"
            ]
          },
          "metadata": {
            "tags": []
          },
          "execution_count": 62
        }
      ]
    },
    {
      "cell_type": "code",
      "metadata": {
        "colab": {
          "base_uri": "https://localhost:8080/"
        },
        "id": "SB9dq_9G_qdN",
        "outputId": "e4c07d1a-a1f5-426c-ac40-c096484f6398"
      },
      "source": [
        "f1_score(y_teste, y_pred, average='macro')"
      ],
      "execution_count": null,
      "outputs": [
        {
          "output_type": "execute_result",
          "data": {
            "text/plain": [
              "0.5868218743191509"
            ]
          },
          "metadata": {
            "tags": []
          },
          "execution_count": 63
        }
      ]
    },
    {
      "cell_type": "markdown",
      "metadata": {
        "id": "EK2FmVqto8cL"
      },
      "source": [
        "**SVM**"
      ]
    },
    {
      "cell_type": "code",
      "metadata": {
        "colab": {
          "base_uri": "https://localhost:8080/"
        },
        "id": "D8kaKJfj_s37",
        "outputId": "a8d985d1-34ca-42f7-9610-2c52bb00861f"
      },
      "source": [
        "valores_kernel = [\"linear\", \"poly\", \"rbf\", \"sigmoid\"]\n",
        "resultados_svm = []\n",
        "\n",
        "for kernel in valores_kernel:\n",
        "    resultados_kernel = []\n",
        "    svc = SVC(kernel=kernel)\n",
        "    kf = KFold(n_splits=10, shuffle=True)\n",
        "    for index_train, index_valid in kf.split(X_treino):\n",
        "        X_train, X_validacao = X_treino.iloc[index_train], X_treino.iloc[index_valid]\n",
        "        y_train, y_validacao = y_treino.iloc[index_train], y_treino.iloc[index_valid]\n",
        "        svc.fit(X_train, y_train)\n",
        "        resultados_kernel.append(svc.score(X_validacao, y_validacao))\n",
        "    resultados_svm.append(sum(resultados_kernel)/len(resultados_kernel))\n",
        "resultados_svm"
      ],
      "execution_count": null,
      "outputs": [
        {
          "output_type": "execute_result",
          "data": {
            "text/plain": [
              "[0.7641571553994732, 0.7772827041264267, 0.7998463564530292, 0.731387181738367]"
            ]
          },
          "metadata": {
            "tags": []
          },
          "execution_count": 10
        }
      ]
    },
    {
      "cell_type": "code",
      "metadata": {
        "colab": {
          "base_uri": "https://localhost:8080/"
        },
        "id": "uwRO_K27_yOj",
        "outputId": "2f099ba9-a507-402a-d35c-ef7503c8e9b9"
      },
      "source": [
        "svc = SVC(kernel=\"rbf\")\n",
        "svc.fit(X_treino, y_treino)\n",
        "svc.score(X_teste, y_teste)"
      ],
      "execution_count": null,
      "outputs": [
        {
          "output_type": "execute_result",
          "data": {
            "text/plain": [
              "0.7297297297297297"
            ]
          },
          "metadata": {
            "tags": []
          },
          "execution_count": 11
        }
      ]
    },
    {
      "cell_type": "code",
      "metadata": {
        "colab": {
          "base_uri": "https://localhost:8080/"
        },
        "id": "iOPnRGi5cMg5",
        "outputId": "d1876865-2550-4898-898d-be887256f434"
      },
      "source": [
        "y_pred = svc.predict(X_teste)\n",
        "\n",
        "precision_score(y_teste, y_pred, average='macro')"
      ],
      "execution_count": null,
      "outputs": [
        {
          "output_type": "execute_result",
          "data": {
            "text/plain": [
              "0.6588486140724947"
            ]
          },
          "metadata": {
            "tags": []
          },
          "execution_count": 12
        }
      ]
    },
    {
      "cell_type": "code",
      "metadata": {
        "colab": {
          "base_uri": "https://localhost:8080/"
        },
        "id": "8Z2Muxr1cdMY",
        "outputId": "346c1f02-8a4d-4eff-f9e7-3fa025c17954"
      },
      "source": [
        "recall_score(y_teste, y_pred, average='macro')"
      ],
      "execution_count": null,
      "outputs": [
        {
          "output_type": "execute_result",
          "data": {
            "text/plain": [
              "0.5669362084456424"
            ]
          },
          "metadata": {
            "tags": []
          },
          "execution_count": 13
        }
      ]
    },
    {
      "cell_type": "code",
      "metadata": {
        "colab": {
          "base_uri": "https://localhost:8080/"
        },
        "id": "VVsOttSHcio5",
        "outputId": "4c8b744b-fa35-4716-c863-d2c7f13c0e96"
      },
      "source": [
        "f1_score(y_teste, y_pred, average='macro')"
      ],
      "execution_count": null,
      "outputs": [
        {
          "output_type": "execute_result",
          "data": {
            "text/plain": [
              "0.5595238095238095"
            ]
          },
          "metadata": {
            "tags": []
          },
          "execution_count": 14
        }
      ]
    },
    {
      "cell_type": "markdown",
      "metadata": {
        "id": "gmB36U_oqyKr"
      },
      "source": [
        "**MLP**"
      ]
    },
    {
      "cell_type": "code",
      "metadata": {
        "colab": {
          "base_uri": "https://localhost:8080/"
        },
        "id": "dRHIxszoqz-t",
        "outputId": "eeaa645c-4973-4333-ef01-21e5caf46b9e"
      },
      "source": [
        "valores_ativacao = [\"identity\", \"logistic\", \"tanh\", \"relu\"]\n",
        "resultados_mlp = []\n",
        "\n",
        "for ativacao in valores_ativacao:\n",
        "    resultados_ativacao = []\n",
        "    mlp = MLPClassifier(activation=ativacao)\n",
        "    kf = KFold(n_splits=10, shuffle=True)\n",
        "    for index_train, index_valid in kf.split(X_treino):\n",
        "        X_train, X_validacao = X_treino.iloc[index_train], X_treino.iloc[index_valid]\n",
        "        y_train, y_validacao = y_treino.iloc[index_train], y_treino.iloc[index_valid]\n",
        "        mlp.fit(X_train, y_train)\n",
        "        resultados_ativacao.append(svc.score(X_validacao, y_validacao))\n",
        "    resultados_mlp.append(sum(resultados_ativacao)/len(resultados_ativacao))\n",
        "resultados_mlp"
      ],
      "execution_count": null,
      "outputs": [
        {
          "output_type": "stream",
          "text": [
            "/usr/local/lib/python3.7/dist-packages/sklearn/neural_network/_multilayer_perceptron.py:571: ConvergenceWarning: Stochastic Optimizer: Maximum iterations (200) reached and the optimization hasn't converged yet.\n",
            "  % self.max_iter, ConvergenceWarning)\n"
          ],
          "name": "stderr"
        },
        {
          "output_type": "execute_result",
          "data": {
            "text/plain": [
              "[0.8024582967515365,\n",
              " 0.8027655838454786,\n",
              " 0.8027875329236174,\n",
              " 0.8025241439859527]"
            ]
          },
          "metadata": {
            "tags": []
          },
          "execution_count": 15
        }
      ]
    },
    {
      "cell_type": "code",
      "metadata": {
        "id": "791b6662",
        "colab": {
          "base_uri": "https://localhost:8080/"
        },
        "outputId": "79fdbaa2-f6f2-4e08-dae3-b41d3e2f1a5a"
      },
      "source": [
        "#como os valores foram iguais/empataram escolhir um deles.para obter a curacia de..\n",
        "mlp = MLPClassifier(activation=\"tanh\")\n",
        "mlp.fit(X_treino, y_treino)\n",
        "mlp.score(X_teste, y_teste)\n"
      ],
      "execution_count": null,
      "outputs": [
        {
          "output_type": "execute_result",
          "data": {
            "text/plain": [
              "0.7162162162162162"
            ]
          },
          "metadata": {
            "tags": []
          },
          "execution_count": 16
        }
      ]
    },
    {
      "cell_type": "code",
      "metadata": {
        "colab": {
          "base_uri": "https://localhost:8080/"
        },
        "id": "D5SXLPF2rvAM",
        "outputId": "0300ec87-29da-4b1b-91e9-ad0e7f8f5615"
      },
      "source": [
        "y_pred = mlp.predict(X_teste)\n",
        "\n",
        "precision_score(y_teste, y_pred, average='macro')"
      ],
      "execution_count": null,
      "outputs": [
        {
          "output_type": "execute_result",
          "data": {
            "text/plain": [
              "0.6142857142857143"
            ]
          },
          "metadata": {
            "tags": []
          },
          "execution_count": 17
        }
      ]
    },
    {
      "cell_type": "code",
      "metadata": {
        "colab": {
          "base_uri": "https://localhost:8080/"
        },
        "id": "Vs7VdEQzrzhz",
        "outputId": "4046dc5e-2b4e-4be1-db20-ae009ddb525e"
      },
      "source": [
        "recall_score(y_teste, y_pred, average='macro')"
      ],
      "execution_count": null,
      "outputs": [
        {
          "output_type": "execute_result",
          "data": {
            "text/plain": [
              "0.5287511230907458"
            ]
          },
          "metadata": {
            "tags": []
          },
          "execution_count": 18
        }
      ]
    },
    {
      "cell_type": "code",
      "metadata": {
        "colab": {
          "base_uri": "https://localhost:8080/"
        },
        "id": "HvyDkXXnr3G8",
        "outputId": "aab8f7f7-b8af-4388-df07-cac7d79236bf"
      },
      "source": [
        "f1_score(y_teste, y_pred, average='macro')"
      ],
      "execution_count": null,
      "outputs": [
        {
          "output_type": "execute_result",
          "data": {
            "text/plain": [
              "0.4946341463414634"
            ]
          },
          "metadata": {
            "tags": []
          },
          "execution_count": 20
        }
      ]
    },
    {
      "cell_type": "markdown",
      "metadata": {
        "id": "SvaiUMaQr8v0"
      },
      "source": [
        "**navebays**"
      ]
    },
    {
      "cell_type": "code",
      "metadata": {
        "colab": {
          "base_uri": "https://localhost:8080/"
        },
        "id": "M4EJE09or3F7",
        "outputId": "645c6df7-7588-4eb4-f000-3751d35da04e"
      },
      "source": [
        "gnb = GaussianNB()\n",
        "gnb.fit(X_treino, y_treino)\n",
        "gnb.score(X_teste, y_teste)"
      ],
      "execution_count": null,
      "outputs": [
        {
          "output_type": "execute_result",
          "data": {
            "text/plain": [
              "0.7466666666666667"
            ]
          },
          "metadata": {
            "tags": []
          },
          "execution_count": 74
        }
      ]
    },
    {
      "cell_type": "code",
      "metadata": {
        "colab": {
          "base_uri": "https://localhost:8080/"
        },
        "id": "cis6ed7TsDQ1",
        "outputId": "17357f86-792f-4c1b-92f1-70843bdd7fb7"
      },
      "source": [
        "y_pred = gnb.predict(X_teste)\n",
        "\n",
        "precision_score(y_teste, y_pred, average='macro')"
      ],
      "execution_count": null,
      "outputs": [
        {
          "output_type": "execute_result",
          "data": {
            "text/plain": [
              "0.6850507982583455"
            ]
          },
          "metadata": {
            "tags": []
          },
          "execution_count": 75
        }
      ]
    },
    {
      "cell_type": "code",
      "metadata": {
        "colab": {
          "base_uri": "https://localhost:8080/"
        },
        "id": "D-CMuViqsDPk",
        "outputId": "a70a09f3-7ecd-47d8-d5bb-aafd807de946"
      },
      "source": [
        "recall_score(y_teste, y_pred, average='macro')"
      ],
      "execution_count": null,
      "outputs": [
        {
          "output_type": "execute_result",
          "data": {
            "text/plain": [
              "0.5515151515151515"
            ]
          },
          "metadata": {
            "tags": []
          },
          "execution_count": 76
        }
      ]
    },
    {
      "cell_type": "code",
      "metadata": {
        "colab": {
          "base_uri": "https://localhost:8080/"
        },
        "id": "6B7AllgBsHKj",
        "outputId": "94a9e189-03f0-4c26-b3ee-e8f965529afc"
      },
      "source": [
        "f1_score(y_teste, y_pred, average='macro')"
      ],
      "execution_count": null,
      "outputs": [
        {
          "output_type": "execute_result",
          "data": {
            "text/plain": [
              "0.5339922241197631"
            ]
          },
          "metadata": {
            "tags": []
          },
          "execution_count": 77
        }
      ]
    },
    {
      "cell_type": "markdown",
      "metadata": {
        "id": "NI9jCelPvpfd"
      },
      "source": [
        "**Arvore**"
      ]
    },
    {
      "cell_type": "code",
      "metadata": {
        "id": "cf482d23",
        "colab": {
          "base_uri": "https://localhost:8080/"
        },
        "outputId": "9ad30a78-93b4-4637-fb32-695672bccbc9"
      },
      "source": [
        "arvore = DecisionTreeClassifier(criterion=\"entropy\")\n",
        "arvore.fit(X_treino, y_treino)\n",
        "arvore.score(X_teste, y_teste)"
      ],
      "execution_count": null,
      "outputs": [
        {
          "output_type": "execute_result",
          "data": {
            "text/plain": [
              "0.6888888888888889"
            ]
          },
          "metadata": {
            "tags": []
          },
          "execution_count": 78
        }
      ]
    },
    {
      "cell_type": "code",
      "metadata": {
        "id": "e78540c5",
        "colab": {
          "base_uri": "https://localhost:8080/"
        },
        "outputId": "9a4d393a-7a6f-4671-d4a7-5bdc14ad10a7"
      },
      "source": [
        "#precisão\n",
        "y_pred = arvore.predict(X_teste)\n",
        "\n",
        "precision_score(y_teste, y_pred, average='macro')"
      ],
      "execution_count": null,
      "outputs": [
        {
          "output_type": "execute_result",
          "data": {
            "text/plain": [
              "0.5857142857142857"
            ]
          },
          "metadata": {
            "tags": []
          },
          "execution_count": 79
        }
      ]
    },
    {
      "cell_type": "code",
      "metadata": {
        "id": "b4eeafcb",
        "colab": {
          "base_uri": "https://localhost:8080/"
        },
        "outputId": "e4b81d4d-29b8-4e1e-e765-1b01dfcaddd3"
      },
      "source": [
        "#recall\n",
        "recall_score(y_teste, y_pred, average='macro')"
      ],
      "execution_count": null,
      "outputs": [
        {
          "output_type": "execute_result",
          "data": {
            "text/plain": [
              "0.5757575757575758"
            ]
          },
          "metadata": {
            "tags": []
          },
          "execution_count": 80
        }
      ]
    },
    {
      "cell_type": "code",
      "metadata": {
        "id": "f520f835",
        "colab": {
          "base_uri": "https://localhost:8080/"
        },
        "outputId": "b34d9891-1aff-47d4-93f6-45e04edd78f3"
      },
      "source": [
        "#f1-score\n",
        "f1_score(y_teste, y_pred, average='macro')"
      ],
      "execution_count": null,
      "outputs": [
        {
          "output_type": "execute_result",
          "data": {
            "text/plain": [
              "0.5788770053475936"
            ]
          },
          "metadata": {
            "tags": []
          },
          "execution_count": 81
        }
      ]
    }
  ]
}