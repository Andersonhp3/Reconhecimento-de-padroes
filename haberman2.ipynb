{
  "nbformat": 4,
  "nbformat_minor": 0,
  "metadata": {
    "colab": {
      "name": "haberman2.ipynb",
      "provenance": [],
      "collapsed_sections": [],
      "authorship_tag": "ABX9TyPgXjctSMMHkLTqUN6GkpWw",
      "include_colab_link": true
    },
    "kernelspec": {
      "name": "python3",
      "display_name": "Python 3"
    },
    "language_info": {
      "name": "python"
    }
  },
  "cells": [
    {
      "cell_type": "markdown",
      "metadata": {
        "id": "view-in-github",
        "colab_type": "text"
      },
      "source": [
        "<a href=\"https://colab.research.google.com/github/Andersonhp3/Reconhecimento-de-padroes/blob/main/haberman2.ipynb\" target=\"_parent\"><img src=\"https://colab.research.google.com/assets/colab-badge.svg\" alt=\"Open In Colab\"/></a>"
      ]
    },
    {
      "cell_type": "code",
      "metadata": {
        "id": "L7Z0cKtbGP-v"
      },
      "source": [
        "import pandas as pd\n",
        "import numpy as np\n",
        "import Orange"
      ],
      "execution_count": null,
      "outputs": []
    },
    {
      "cell_type": "markdown",
      "metadata": {
        "id": "MPWTGBcNJvZd"
      },
      "source": [
        "## **Base com atributos numéricos**"
      ]
    },
    {
      "cell_type": "code",
      "metadata": {
        "colab": {
          "base_uri": "https://localhost:8080/",
          "height": 419
        },
        "id": "tPGJnQwOd9ZM",
        "outputId": "94c2ab7c-cf37-4a85-9bab-a6f388ddbaaf"
      },
      "source": [
        "haberman = pd.read_csv('haberman.csv')\n",
        "X = haberman.iloc[:,0:3] \n",
        "y= haberman.iloc[:,3]\n",
        "X"
      ],
      "execution_count": null,
      "outputs": [
        {
          "output_type": "execute_result",
          "data": {
            "text/html": [
              "<div>\n",
              "<style scoped>\n",
              "    .dataframe tbody tr th:only-of-type {\n",
              "        vertical-align: middle;\n",
              "    }\n",
              "\n",
              "    .dataframe tbody tr th {\n",
              "        vertical-align: top;\n",
              "    }\n",
              "\n",
              "    .dataframe thead th {\n",
              "        text-align: right;\n",
              "    }\n",
              "</style>\n",
              "<table border=\"1\" class=\"dataframe\">\n",
              "  <thead>\n",
              "    <tr style=\"text-align: right;\">\n",
              "      <th></th>\n",
              "      <th>age</th>\n",
              "      <th>year</th>\n",
              "      <th>nodes</th>\n",
              "    </tr>\n",
              "  </thead>\n",
              "  <tbody>\n",
              "    <tr>\n",
              "      <th>0</th>\n",
              "      <td>30</td>\n",
              "      <td>64</td>\n",
              "      <td>1</td>\n",
              "    </tr>\n",
              "    <tr>\n",
              "      <th>1</th>\n",
              "      <td>30</td>\n",
              "      <td>62</td>\n",
              "      <td>3</td>\n",
              "    </tr>\n",
              "    <tr>\n",
              "      <th>2</th>\n",
              "      <td>30</td>\n",
              "      <td>65</td>\n",
              "      <td>0</td>\n",
              "    </tr>\n",
              "    <tr>\n",
              "      <th>3</th>\n",
              "      <td>31</td>\n",
              "      <td>59</td>\n",
              "      <td>2</td>\n",
              "    </tr>\n",
              "    <tr>\n",
              "      <th>4</th>\n",
              "      <td>31</td>\n",
              "      <td>65</td>\n",
              "      <td>4</td>\n",
              "    </tr>\n",
              "    <tr>\n",
              "      <th>...</th>\n",
              "      <td>...</td>\n",
              "      <td>...</td>\n",
              "      <td>...</td>\n",
              "    </tr>\n",
              "    <tr>\n",
              "      <th>301</th>\n",
              "      <td>75</td>\n",
              "      <td>62</td>\n",
              "      <td>1</td>\n",
              "    </tr>\n",
              "    <tr>\n",
              "      <th>302</th>\n",
              "      <td>76</td>\n",
              "      <td>67</td>\n",
              "      <td>0</td>\n",
              "    </tr>\n",
              "    <tr>\n",
              "      <th>303</th>\n",
              "      <td>77</td>\n",
              "      <td>65</td>\n",
              "      <td>3</td>\n",
              "    </tr>\n",
              "    <tr>\n",
              "      <th>304</th>\n",
              "      <td>78</td>\n",
              "      <td>65</td>\n",
              "      <td>1</td>\n",
              "    </tr>\n",
              "    <tr>\n",
              "      <th>305</th>\n",
              "      <td>83</td>\n",
              "      <td>58</td>\n",
              "      <td>2</td>\n",
              "    </tr>\n",
              "  </tbody>\n",
              "</table>\n",
              "<p>306 rows × 3 columns</p>\n",
              "</div>"
            ],
            "text/plain": [
              "     age  year  nodes\n",
              "0     30    64      1\n",
              "1     30    62      3\n",
              "2     30    65      0\n",
              "3     31    59      2\n",
              "4     31    65      4\n",
              "..   ...   ...    ...\n",
              "301   75    62      1\n",
              "302   76    67      0\n",
              "303   77    65      3\n",
              "304   78    65      1\n",
              "305   83    58      2\n",
              "\n",
              "[306 rows x 3 columns]"
            ]
          },
          "metadata": {
            "tags": []
          },
          "execution_count": 12
        }
      ]
    },
    {
      "cell_type": "code",
      "metadata": {
        "colab": {
          "base_uri": "https://localhost:8080/",
          "height": 297
        },
        "id": "JAcuvo8MiMcS",
        "outputId": "6d5f6106-b882-4cba-d7bf-afcad4b14b71"
      },
      "source": [
        "haberman.describe()"
      ],
      "execution_count": null,
      "outputs": [
        {
          "output_type": "execute_result",
          "data": {
            "text/html": [
              "<div>\n",
              "<style scoped>\n",
              "    .dataframe tbody tr th:only-of-type {\n",
              "        vertical-align: middle;\n",
              "    }\n",
              "\n",
              "    .dataframe tbody tr th {\n",
              "        vertical-align: top;\n",
              "    }\n",
              "\n",
              "    .dataframe thead th {\n",
              "        text-align: right;\n",
              "    }\n",
              "</style>\n",
              "<table border=\"1\" class=\"dataframe\">\n",
              "  <thead>\n",
              "    <tr style=\"text-align: right;\">\n",
              "      <th></th>\n",
              "      <th>age</th>\n",
              "      <th>year</th>\n",
              "      <th>nodes</th>\n",
              "      <th>class</th>\n",
              "    </tr>\n",
              "  </thead>\n",
              "  <tbody>\n",
              "    <tr>\n",
              "      <th>count</th>\n",
              "      <td>306.000000</td>\n",
              "      <td>306.000000</td>\n",
              "      <td>306.000000</td>\n",
              "      <td>306.000000</td>\n",
              "    </tr>\n",
              "    <tr>\n",
              "      <th>mean</th>\n",
              "      <td>52.457516</td>\n",
              "      <td>62.852941</td>\n",
              "      <td>4.026144</td>\n",
              "      <td>1.264706</td>\n",
              "    </tr>\n",
              "    <tr>\n",
              "      <th>std</th>\n",
              "      <td>10.803452</td>\n",
              "      <td>3.249405</td>\n",
              "      <td>7.189654</td>\n",
              "      <td>0.441899</td>\n",
              "    </tr>\n",
              "    <tr>\n",
              "      <th>min</th>\n",
              "      <td>30.000000</td>\n",
              "      <td>58.000000</td>\n",
              "      <td>0.000000</td>\n",
              "      <td>1.000000</td>\n",
              "    </tr>\n",
              "    <tr>\n",
              "      <th>25%</th>\n",
              "      <td>44.000000</td>\n",
              "      <td>60.000000</td>\n",
              "      <td>0.000000</td>\n",
              "      <td>1.000000</td>\n",
              "    </tr>\n",
              "    <tr>\n",
              "      <th>50%</th>\n",
              "      <td>52.000000</td>\n",
              "      <td>63.000000</td>\n",
              "      <td>1.000000</td>\n",
              "      <td>1.000000</td>\n",
              "    </tr>\n",
              "    <tr>\n",
              "      <th>75%</th>\n",
              "      <td>60.750000</td>\n",
              "      <td>65.750000</td>\n",
              "      <td>4.000000</td>\n",
              "      <td>2.000000</td>\n",
              "    </tr>\n",
              "    <tr>\n",
              "      <th>max</th>\n",
              "      <td>83.000000</td>\n",
              "      <td>69.000000</td>\n",
              "      <td>52.000000</td>\n",
              "      <td>2.000000</td>\n",
              "    </tr>\n",
              "  </tbody>\n",
              "</table>\n",
              "</div>"
            ],
            "text/plain": [
              "              age        year       nodes       class\n",
              "count  306.000000  306.000000  306.000000  306.000000\n",
              "mean    52.457516   62.852941    4.026144    1.264706\n",
              "std     10.803452    3.249405    7.189654    0.441899\n",
              "min     30.000000   58.000000    0.000000    1.000000\n",
              "25%     44.000000   60.000000    0.000000    1.000000\n",
              "50%     52.000000   63.000000    1.000000    1.000000\n",
              "75%     60.750000   65.750000    4.000000    2.000000\n",
              "max     83.000000   69.000000   52.000000    2.000000"
            ]
          },
          "metadata": {
            "tags": []
          },
          "execution_count": 13
        }
      ]
    },
    {
      "cell_type": "code",
      "metadata": {
        "id": "6tswZT2Zw0Ii"
      },
      "source": [
        ""
      ],
      "execution_count": null,
      "outputs": []
    },
    {
      "cell_type": "markdown",
      "metadata": {
        "id": "jTxu_kzBdG9_"
      },
      "source": [
        "# **Utilizando StandardScale**"
      ]
    },
    {
      "cell_type": "code",
      "metadata": {
        "colab": {
          "base_uri": "https://localhost:8080/",
          "height": 419
        },
        "id": "ocCGnbBBRCQ7",
        "outputId": "7496affe-a293-4797-a268-68ebdca3ab72"
      },
      "source": [
        "from sklearn.preprocessing import StandardScaler\n",
        "X = StandardScaler().fit_transform(X)\n",
        "X = pd.DataFrame(X)\n",
        "X"
      ],
      "execution_count": null,
      "outputs": [
        {
          "output_type": "execute_result",
          "data": {
            "text/html": [
              "<div>\n",
              "<style scoped>\n",
              "    .dataframe tbody tr th:only-of-type {\n",
              "        vertical-align: middle;\n",
              "    }\n",
              "\n",
              "    .dataframe tbody tr th {\n",
              "        vertical-align: top;\n",
              "    }\n",
              "\n",
              "    .dataframe thead th {\n",
              "        text-align: right;\n",
              "    }\n",
              "</style>\n",
              "<table border=\"1\" class=\"dataframe\">\n",
              "  <thead>\n",
              "    <tr style=\"text-align: right;\">\n",
              "      <th></th>\n",
              "      <th>0</th>\n",
              "      <th>1</th>\n",
              "      <th>2</th>\n",
              "    </tr>\n",
              "  </thead>\n",
              "  <tbody>\n",
              "    <tr>\n",
              "      <th>0</th>\n",
              "      <td>-2.082140</td>\n",
              "      <td>0.353584</td>\n",
              "      <td>-0.421592</td>\n",
              "    </tr>\n",
              "    <tr>\n",
              "      <th>1</th>\n",
              "      <td>-2.082140</td>\n",
              "      <td>-0.262921</td>\n",
              "      <td>-0.142959</td>\n",
              "    </tr>\n",
              "    <tr>\n",
              "      <th>2</th>\n",
              "      <td>-2.082140</td>\n",
              "      <td>0.661837</td>\n",
              "      <td>-0.560909</td>\n",
              "    </tr>\n",
              "    <tr>\n",
              "      <th>3</th>\n",
              "      <td>-1.989426</td>\n",
              "      <td>-1.187680</td>\n",
              "      <td>-0.282275</td>\n",
              "    </tr>\n",
              "    <tr>\n",
              "      <th>4</th>\n",
              "      <td>-1.989426</td>\n",
              "      <td>0.661837</td>\n",
              "      <td>-0.003642</td>\n",
              "    </tr>\n",
              "    <tr>\n",
              "      <th>...</th>\n",
              "      <td>...</td>\n",
              "      <td>...</td>\n",
              "      <td>...</td>\n",
              "    </tr>\n",
              "    <tr>\n",
              "      <th>301</th>\n",
              "      <td>2.090018</td>\n",
              "      <td>-0.262921</td>\n",
              "      <td>-0.421592</td>\n",
              "    </tr>\n",
              "    <tr>\n",
              "      <th>302</th>\n",
              "      <td>2.182732</td>\n",
              "      <td>1.278342</td>\n",
              "      <td>-0.560909</td>\n",
              "    </tr>\n",
              "    <tr>\n",
              "      <th>303</th>\n",
              "      <td>2.275447</td>\n",
              "      <td>0.661837</td>\n",
              "      <td>-0.142959</td>\n",
              "    </tr>\n",
              "    <tr>\n",
              "      <th>304</th>\n",
              "      <td>2.368162</td>\n",
              "      <td>0.661837</td>\n",
              "      <td>-0.421592</td>\n",
              "    </tr>\n",
              "    <tr>\n",
              "      <th>305</th>\n",
              "      <td>2.831735</td>\n",
              "      <td>-1.495933</td>\n",
              "      <td>-0.282275</td>\n",
              "    </tr>\n",
              "  </tbody>\n",
              "</table>\n",
              "<p>306 rows × 3 columns</p>\n",
              "</div>"
            ],
            "text/plain": [
              "            0         1         2\n",
              "0   -2.082140  0.353584 -0.421592\n",
              "1   -2.082140 -0.262921 -0.142959\n",
              "2   -2.082140  0.661837 -0.560909\n",
              "3   -1.989426 -1.187680 -0.282275\n",
              "4   -1.989426  0.661837 -0.003642\n",
              "..        ...       ...       ...\n",
              "301  2.090018 -0.262921 -0.421592\n",
              "302  2.182732  1.278342 -0.560909\n",
              "303  2.275447  0.661837 -0.142959\n",
              "304  2.368162  0.661837 -0.421592\n",
              "305  2.831735 -1.495933 -0.282275\n",
              "\n",
              "[306 rows x 3 columns]"
            ]
          },
          "metadata": {
            "tags": []
          },
          "execution_count": 14
        }
      ]
    },
    {
      "cell_type": "markdown",
      "metadata": {
        "id": "AleiFru1hun4"
      },
      "source": [
        "# **Processamento com K-NN**"
      ]
    },
    {
      "cell_type": "code",
      "metadata": {
        "colab": {
          "base_uri": "https://localhost:8080/"
        },
        "id": "wVanHpEnd59n",
        "outputId": "1d49403f-2b61-4681-b869-8af0ec61c3d3"
      },
      "source": [
        "haberman2 = pd.read_csv('haberman.csv')\n",
        "X  = haberman2.iloc[:,0:3]\n",
        "y = haberman2.iloc[:,3]\n",
        "X_teste = X.iloc[305]\n",
        "X = X.drop(305)\n",
        "y_teste = y.iloc[305]\n",
        "y = y.drop(305)\n",
        "X_teste"
      ],
      "execution_count": null,
      "outputs": [
        {
          "output_type": "execute_result",
          "data": {
            "text/plain": [
              "age      83\n",
              "year     58\n",
              "nodes     2\n",
              "Name: 305, dtype: int64"
            ]
          },
          "metadata": {
            "tags": []
          },
          "execution_count": 15
        }
      ]
    },
    {
      "cell_type": "code",
      "metadata": {
        "id": "b7e90da2",
        "colab": {
          "base_uri": "https://localhost:8080/"
        },
        "outputId": "18b669db-46c9-4d28-d787-f00490186328"
      },
      "source": [
        "from sklearn.neighbors import KNeighborsClassifier\n",
        "knn = KNeighborsClassifier(n_neighbors=3)\n",
        "\n",
        "knn.fit(X, y)\n",
        "knn.predict(np.array(X_teste).reshape(1,-1))"
      ],
      "execution_count": null,
      "outputs": [
        {
          "output_type": "execute_result",
          "data": {
            "text/plain": [
              "array([1])"
            ]
          },
          "metadata": {
            "tags": []
          },
          "execution_count": 16
        }
      ]
    },
    {
      "cell_type": "code",
      "metadata": {
        "colab": {
          "base_uri": "https://localhost:8080/"
        },
        "id": "cvR1UP1opTHJ",
        "outputId": "78b1aa65-ec83-4eb5-cd6a-141a0607f500"
      },
      "source": [
        "dist, vizinhos = knn.kneighbors(np.array(X_teste).reshape(1,-1))\n",
        "classes = []\n",
        "for v in vizinhos:\n",
        "    classes.append(haberman2.iloc[:,3][v])\n",
        "classes"
      ],
      "execution_count": null,
      "outputs": [
        {
          "output_type": "execute_result",
          "data": {
            "text/plain": [
              "[304    2\n",
              " 301    1\n",
              " 303    1\n",
              " Name: class, dtype: int64]"
            ]
          },
          "metadata": {
            "tags": []
          },
          "execution_count": 17
        }
      ]
    },
    {
      "cell_type": "code",
      "metadata": {
        "colab": {
          "base_uri": "https://localhost:8080/"
        },
        "id": "ASUfMdaFxnBj",
        "outputId": "c4d64a15-e844-4f8e-dfa7-b0a82e99891b"
      },
      "source": [
        "y_teste"
      ],
      "execution_count": null,
      "outputs": [
        {
          "output_type": "execute_result",
          "data": {
            "text/plain": [
              "2"
            ]
          },
          "metadata": {
            "tags": []
          },
          "execution_count": 18
        }
      ]
    },
    {
      "cell_type": "markdown",
      "metadata": {
        "id": "gbEwY61oqMP5"
      },
      "source": [
        "# **Processamento com Naive Bayes**"
      ]
    },
    {
      "cell_type": "code",
      "metadata": {
        "colab": {
          "base_uri": "https://localhost:8080/"
        },
        "id": "3eiU515QqgEC",
        "outputId": "1f2aab8e-dc7a-4f55-cc60-fd8eb9fc4a2e"
      },
      "source": [
        "X  = haberman.iloc[:,0:3]\n",
        "y = haberman.iloc[:,3]\n",
        "X = StandardScaler().fit_transform(X)\n",
        "X = pd.DataFrame(X)\n",
        "X_teste = X.iloc[305]\n",
        "X = X.drop(305)\n",
        "y_teste = y.iloc[305]\n",
        "y = y.drop(305)\n",
        "\n",
        "y_teste"
      ],
      "execution_count": null,
      "outputs": [
        {
          "output_type": "execute_result",
          "data": {
            "text/plain": [
              "2"
            ]
          },
          "metadata": {
            "tags": []
          },
          "execution_count": 19
        }
      ]
    },
    {
      "cell_type": "code",
      "metadata": {
        "colab": {
          "base_uri": "https://localhost:8080/"
        },
        "id": "jdbB-YP_zUAE",
        "outputId": "6443febb-53bd-44ad-b5c7-83d0e17975fa"
      },
      "source": [
        "from sklearn.naive_bayes import GaussianNB\n",
        "\n",
        "gnb = GaussianNB()\n",
        "gnb.fit(X, y)\n",
        "gnb.predict(np.array(X_teste).reshape(1,-1))"
      ],
      "execution_count": null,
      "outputs": [
        {
          "output_type": "execute_result",
          "data": {
            "text/plain": [
              "array([1])"
            ]
          },
          "metadata": {
            "tags": []
          },
          "execution_count": 20
        }
      ]
    },
    {
      "cell_type": "markdown",
      "metadata": {
        "id": "UybUzHi1xckp"
      },
      "source": [
        "# **Processando com SVN**"
      ]
    },
    {
      "cell_type": "code",
      "metadata": {
        "colab": {
          "base_uri": "https://localhost:8080/"
        },
        "id": "d0b0FXIOyowx",
        "outputId": "6b68512e-79c8-4efd-a7cf-6a2ed57930ad"
      },
      "source": [
        "from sklearn.svm import SVC\n",
        "svc = SVC(kernel='rbf')\n",
        "svc.fit(X, y)\n",
        "svc.predict(np.array(X_teste).reshape(1,-1))"
      ],
      "execution_count": null,
      "outputs": [
        {
          "output_type": "execute_result",
          "data": {
            "text/plain": [
              "array([1])"
            ]
          },
          "metadata": {
            "tags": []
          },
          "execution_count": 21
        }
      ]
    },
    {
      "cell_type": "code",
      "metadata": {
        "colab": {
          "base_uri": "https://localhost:8080/"
        },
        "id": "LbXaUaWW3ns7",
        "outputId": "79ddfa0d-e02d-4569-879d-f2f032fa25c7"
      },
      "source": [
        "svc = SVC(kernel='linear')\n",
        "svc.fit(X, y)\n",
        "svc.predict(np.array(X_teste).reshape(1,-1))"
      ],
      "execution_count": null,
      "outputs": [
        {
          "output_type": "execute_result",
          "data": {
            "text/plain": [
              "array([1])"
            ]
          },
          "metadata": {
            "tags": []
          },
          "execution_count": 22
        }
      ]
    },
    {
      "cell_type": "code",
      "metadata": {
        "colab": {
          "base_uri": "https://localhost:8080/"
        },
        "id": "9e5zn2N-3sXC",
        "outputId": "55b84830-7c8a-43b4-9c84-ace3b600662a"
      },
      "source": [
        "svc = SVC(kernel='poly')\n",
        "svc.fit(X, y)\n",
        "svc.predict(np.array(X_teste).reshape(1,-1))"
      ],
      "execution_count": null,
      "outputs": [
        {
          "output_type": "execute_result",
          "data": {
            "text/plain": [
              "array([1])"
            ]
          },
          "metadata": {
            "tags": []
          },
          "execution_count": 23
        }
      ]
    },
    {
      "cell_type": "code",
      "metadata": {
        "colab": {
          "base_uri": "https://localhost:8080/"
        },
        "id": "6yRBLPdq3vJy",
        "outputId": "4026b903-d901-49d6-fdfc-cf41e581b4ff"
      },
      "source": [
        "svc = SVC(kernel='sigmoid')\n",
        "svc.fit(X, y)\n",
        "svc.predict(np.array(X_teste).reshape(1,-1))"
      ],
      "execution_count": null,
      "outputs": [
        {
          "output_type": "execute_result",
          "data": {
            "text/plain": [
              "array([1])"
            ]
          },
          "metadata": {
            "tags": []
          },
          "execution_count": 24
        }
      ]
    },
    {
      "cell_type": "markdown",
      "metadata": {
        "id": "wNkiJpWo5EXz"
      },
      "source": [
        "# **Processando com arvore de decisão**"
      ]
    },
    {
      "cell_type": "code",
      "metadata": {
        "colab": {
          "base_uri": "https://localhost:8080/"
        },
        "id": "gauoZ5me5KUh",
        "outputId": "cd528621-3086-4636-eb20-ce555a63344a"
      },
      "source": [
        "from sklearn.tree import DecisionTreeClassifier\n",
        "arvore = DecisionTreeClassifier(criterion=\"entropy\")\n",
        "arvore.fit(X, y)\n",
        "arvore.predict(np.array(X_teste).reshape(1,-1))"
      ],
      "execution_count": null,
      "outputs": [
        {
          "output_type": "execute_result",
          "data": {
            "text/plain": [
              "array([1])"
            ]
          },
          "metadata": {
            "tags": []
          },
          "execution_count": 25
        }
      ]
    },
    {
      "cell_type": "code",
      "metadata": {
        "colab": {
          "base_uri": "https://localhost:8080/"
        },
        "id": "91fWD_-65trq",
        "outputId": "3b99dac2-aaaf-4717-af5e-b0c2c9cceb10"
      },
      "source": [
        "from sklearn.tree import export_text\n",
        "tree_rules = export_text(arvore, feature_names=list(X.columns))\n",
        "print(tree_rules)"
      ],
      "execution_count": null,
      "outputs": [
        {
          "output_type": "stream",
          "text": [
            "|--- 2 <= 0.07\n",
            "|   |--- 0 <= -1.11\n",
            "|   |   |--- 2 <= -0.49\n",
            "|   |   |   |--- 0 <= -1.66\n",
            "|   |   |   |   |--- 1 <= -1.03\n",
            "|   |   |   |   |   |--- class: 2\n",
            "|   |   |   |   |--- 1 >  -1.03\n",
            "|   |   |   |   |   |--- class: 1\n",
            "|   |   |   |--- 0 >  -1.66\n",
            "|   |   |   |   |--- 1 <= 0.82\n",
            "|   |   |   |   |   |--- class: 1\n",
            "|   |   |   |   |--- 1 >  0.82\n",
            "|   |   |   |   |   |--- 0 <= -1.29\n",
            "|   |   |   |   |   |   |--- class: 1\n",
            "|   |   |   |   |   |--- 0 >  -1.29\n",
            "|   |   |   |   |   |   |--- 1 <= 1.12\n",
            "|   |   |   |   |   |   |   |--- class: 2\n",
            "|   |   |   |   |   |   |--- 1 >  1.12\n",
            "|   |   |   |   |   |   |   |--- class: 1\n",
            "|   |   |--- 2 >  -0.49\n",
            "|   |   |   |--- class: 1\n",
            "|   |--- 0 >  -1.11\n",
            "|   |   |--- 2 <= -0.49\n",
            "|   |   |   |--- 0 <= -0.18\n",
            "|   |   |   |   |--- 1 <= -0.42\n",
            "|   |   |   |   |   |--- 0 <= -0.92\n",
            "|   |   |   |   |   |   |--- 0 <= -1.02\n",
            "|   |   |   |   |   |   |   |--- class: 1\n",
            "|   |   |   |   |   |   |--- 0 >  -1.02\n",
            "|   |   |   |   |   |   |   |--- 1 <= -1.34\n",
            "|   |   |   |   |   |   |   |   |--- class: 1\n",
            "|   |   |   |   |   |   |   |--- 1 >  -1.34\n",
            "|   |   |   |   |   |   |   |   |--- class: 2\n",
            "|   |   |   |   |   |--- 0 >  -0.92\n",
            "|   |   |   |   |   |   |--- class: 1\n",
            "|   |   |   |   |--- 1 >  -0.42\n",
            "|   |   |   |   |   |--- 1 <= 0.51\n",
            "|   |   |   |   |   |   |--- 0 <= -0.78\n",
            "|   |   |   |   |   |   |   |--- 0 <= -0.97\n",
            "|   |   |   |   |   |   |   |   |--- class: 1\n",
            "|   |   |   |   |   |   |   |--- 0 >  -0.97\n",
            "|   |   |   |   |   |   |   |   |--- class: 2\n",
            "|   |   |   |   |   |   |--- 0 >  -0.78\n",
            "|   |   |   |   |   |   |   |--- 0 <= -0.55\n",
            "|   |   |   |   |   |   |   |   |--- class: 1\n",
            "|   |   |   |   |   |   |   |--- 0 >  -0.55\n",
            "|   |   |   |   |   |   |   |   |--- 0 <= -0.46\n",
            "|   |   |   |   |   |   |   |   |   |--- class: 2\n",
            "|   |   |   |   |   |   |   |   |--- 0 >  -0.46\n",
            "|   |   |   |   |   |   |   |   |   |--- 0 <= -0.37\n",
            "|   |   |   |   |   |   |   |   |   |   |--- class: 1\n",
            "|   |   |   |   |   |   |   |   |   |--- 0 >  -0.37\n",
            "|   |   |   |   |   |   |   |   |   |   |--- 1 <= -0.11\n",
            "|   |   |   |   |   |   |   |   |   |   |   |--- class: 1\n",
            "|   |   |   |   |   |   |   |   |   |   |--- 1 >  -0.11\n",
            "|   |   |   |   |   |   |   |   |   |   |   |--- truncated branch of depth 2\n",
            "|   |   |   |   |   |--- 1 >  0.51\n",
            "|   |   |   |   |   |   |--- 0 <= -0.46\n",
            "|   |   |   |   |   |   |   |--- 1 <= 1.43\n",
            "|   |   |   |   |   |   |   |   |--- 0 <= -0.78\n",
            "|   |   |   |   |   |   |   |   |   |--- 1 <= 0.97\n",
            "|   |   |   |   |   |   |   |   |   |   |--- class: 1\n",
            "|   |   |   |   |   |   |   |   |   |--- 1 >  0.97\n",
            "|   |   |   |   |   |   |   |   |   |   |--- class: 2\n",
            "|   |   |   |   |   |   |   |   |--- 0 >  -0.78\n",
            "|   |   |   |   |   |   |   |   |   |--- 1 <= 1.12\n",
            "|   |   |   |   |   |   |   |   |   |   |--- 1 <= 0.82\n",
            "|   |   |   |   |   |   |   |   |   |   |   |--- class: 2\n",
            "|   |   |   |   |   |   |   |   |   |   |--- 1 >  0.82\n",
            "|   |   |   |   |   |   |   |   |   |   |   |--- truncated branch of depth 2\n",
            "|   |   |   |   |   |   |   |   |   |--- 1 >  1.12\n",
            "|   |   |   |   |   |   |   |   |   |   |--- class: 1\n",
            "|   |   |   |   |   |   |   |--- 1 >  1.43\n",
            "|   |   |   |   |   |   |   |   |--- class: 1\n",
            "|   |   |   |   |   |   |--- 0 >  -0.46\n",
            "|   |   |   |   |   |   |   |--- class: 1\n",
            "|   |   |   |--- 0 >  -0.18\n",
            "|   |   |   |   |--- 1 <= -1.34\n",
            "|   |   |   |   |   |--- 0 <= 0.70\n",
            "|   |   |   |   |   |   |--- class: 1\n",
            "|   |   |   |   |   |--- 0 >  0.70\n",
            "|   |   |   |   |   |   |--- 0 <= 1.72\n",
            "|   |   |   |   |   |   |   |--- 0 <= 1.44\n",
            "|   |   |   |   |   |   |   |   |--- 0 <= 1.12\n",
            "|   |   |   |   |   |   |   |   |   |--- 0 <= 0.98\n",
            "|   |   |   |   |   |   |   |   |   |   |--- class: 1\n",
            "|   |   |   |   |   |   |   |   |   |--- 0 >  0.98\n",
            "|   |   |   |   |   |   |   |   |   |   |--- class: 1\n",
            "|   |   |   |   |   |   |   |   |--- 0 >  1.12\n",
            "|   |   |   |   |   |   |   |   |   |--- 0 <= 1.21\n",
            "|   |   |   |   |   |   |   |   |   |   |--- class: 1\n",
            "|   |   |   |   |   |   |   |   |   |--- 0 >  1.21\n",
            "|   |   |   |   |   |   |   |   |   |   |--- class: 1\n",
            "|   |   |   |   |   |   |   |--- 0 >  1.44\n",
            "|   |   |   |   |   |   |   |   |--- class: 2\n",
            "|   |   |   |   |   |   |--- 0 >  1.72\n",
            "|   |   |   |   |   |   |   |--- class: 1\n",
            "|   |   |   |   |--- 1 >  -1.34\n",
            "|   |   |   |   |   |--- 0 <= 0.65\n",
            "|   |   |   |   |   |   |--- class: 1\n",
            "|   |   |   |   |   |--- 0 >  0.65\n",
            "|   |   |   |   |   |   |--- 1 <= 0.82\n",
            "|   |   |   |   |   |   |   |--- 1 <= 0.51\n",
            "|   |   |   |   |   |   |   |   |--- 0 <= 1.72\n",
            "|   |   |   |   |   |   |   |   |   |--- class: 1\n",
            "|   |   |   |   |   |   |   |   |--- 0 >  1.72\n",
            "|   |   |   |   |   |   |   |   |   |--- 0 <= 1.86\n",
            "|   |   |   |   |   |   |   |   |   |   |--- 1 <= 0.20\n",
            "|   |   |   |   |   |   |   |   |   |   |   |--- class: 2\n",
            "|   |   |   |   |   |   |   |   |   |   |--- 1 >  0.20\n",
            "|   |   |   |   |   |   |   |   |   |   |   |--- class: 1\n",
            "|   |   |   |   |   |   |   |   |   |--- 0 >  1.86\n",
            "|   |   |   |   |   |   |   |   |   |   |--- class: 1\n",
            "|   |   |   |   |   |   |   |--- 1 >  0.51\n",
            "|   |   |   |   |   |   |   |   |--- 0 <= 1.07\n",
            "|   |   |   |   |   |   |   |   |   |--- class: 2\n",
            "|   |   |   |   |   |   |   |   |--- 0 >  1.07\n",
            "|   |   |   |   |   |   |   |   |   |--- class: 1\n",
            "|   |   |   |   |   |   |--- 1 >  0.82\n",
            "|   |   |   |   |   |   |   |--- class: 1\n",
            "|   |   |--- 2 >  -0.49\n",
            "|   |   |   |--- 1 <= 1.74\n",
            "|   |   |   |   |--- 0 <= -0.18\n",
            "|   |   |   |   |   |--- 0 <= -0.55\n",
            "|   |   |   |   |   |   |--- 1 <= -1.03\n",
            "|   |   |   |   |   |   |   |--- 2 <= -0.21\n",
            "|   |   |   |   |   |   |   |   |--- 0 <= -0.92\n",
            "|   |   |   |   |   |   |   |   |   |--- class: 1\n",
            "|   |   |   |   |   |   |   |   |--- 0 >  -0.92\n",
            "|   |   |   |   |   |   |   |   |   |--- class: 2\n",
            "|   |   |   |   |   |   |   |--- 2 >  -0.21\n",
            "|   |   |   |   |   |   |   |   |--- class: 1\n",
            "|   |   |   |   |   |   |--- 1 >  -1.03\n",
            "|   |   |   |   |   |   |   |--- 1 <= 1.12\n",
            "|   |   |   |   |   |   |   |   |--- class: 1\n",
            "|   |   |   |   |   |   |   |--- 1 >  1.12\n",
            "|   |   |   |   |   |   |   |   |--- class: 1\n",
            "|   |   |   |   |   |--- 0 >  -0.55\n",
            "|   |   |   |   |   |   |--- class: 1\n",
            "|   |   |   |   |--- 0 >  -0.18\n",
            "|   |   |   |   |   |--- 0 <= 0.75\n",
            "|   |   |   |   |   |   |--- 0 <= 0.47\n",
            "|   |   |   |   |   |   |   |--- 2 <= -0.21\n",
            "|   |   |   |   |   |   |   |   |--- 0 <= 0.37\n",
            "|   |   |   |   |   |   |   |   |   |--- 0 <= 0.10\n",
            "|   |   |   |   |   |   |   |   |   |   |--- 0 <= -0.09\n",
            "|   |   |   |   |   |   |   |   |   |   |   |--- class: 1\n",
            "|   |   |   |   |   |   |   |   |   |   |--- 0 >  -0.09\n",
            "|   |   |   |   |   |   |   |   |   |   |   |--- truncated branch of depth 4\n",
            "|   |   |   |   |   |   |   |   |   |--- 0 >  0.10\n",
            "|   |   |   |   |   |   |   |   |   |   |--- class: 1\n",
            "|   |   |   |   |   |   |   |   |--- 0 >  0.37\n",
            "|   |   |   |   |   |   |   |   |   |--- class: 2\n",
            "|   |   |   |   |   |   |   |--- 2 >  -0.21\n",
            "|   |   |   |   |   |   |   |   |--- 1 <= -1.03\n",
            "|   |   |   |   |   |   |   |   |   |--- class: 2\n",
            "|   |   |   |   |   |   |   |   |--- 1 >  -1.03\n",
            "|   |   |   |   |   |   |   |   |   |--- 1 <= -0.57\n",
            "|   |   |   |   |   |   |   |   |   |   |--- class: 1\n",
            "|   |   |   |   |   |   |   |   |   |--- 1 >  -0.57\n",
            "|   |   |   |   |   |   |   |   |   |   |--- 2 <= -0.07\n",
            "|   |   |   |   |   |   |   |   |   |   |   |--- class: 2\n",
            "|   |   |   |   |   |   |   |   |   |   |--- 2 >  -0.07\n",
            "|   |   |   |   |   |   |   |   |   |   |   |--- truncated branch of depth 2\n",
            "|   |   |   |   |   |   |--- 0 >  0.47\n",
            "|   |   |   |   |   |   |   |--- class: 1\n",
            "|   |   |   |   |   |--- 0 >  0.75\n",
            "|   |   |   |   |   |   |--- 0 <= 1.07\n",
            "|   |   |   |   |   |   |   |--- class: 2\n",
            "|   |   |   |   |   |   |--- 0 >  1.07\n",
            "|   |   |   |   |   |   |   |--- 1 <= 0.97\n",
            "|   |   |   |   |   |   |   |   |--- 2 <= -0.07\n",
            "|   |   |   |   |   |   |   |   |   |--- 1 <= -0.88\n",
            "|   |   |   |   |   |   |   |   |   |   |--- class: 1\n",
            "|   |   |   |   |   |   |   |   |   |--- 1 >  -0.88\n",
            "|   |   |   |   |   |   |   |   |   |   |--- 0 <= 2.04\n",
            "|   |   |   |   |   |   |   |   |   |   |   |--- class: 2\n",
            "|   |   |   |   |   |   |   |   |   |   |--- 0 >  2.04\n",
            "|   |   |   |   |   |   |   |   |   |   |   |--- truncated branch of depth 2\n",
            "|   |   |   |   |   |   |   |   |--- 2 >  -0.07\n",
            "|   |   |   |   |   |   |   |   |   |--- class: 2\n",
            "|   |   |   |   |   |   |   |--- 1 >  0.97\n",
            "|   |   |   |   |   |   |   |   |--- class: 1\n",
            "|   |   |   |--- 1 >  1.74\n",
            "|   |   |   |   |--- 0 <= 0.10\n",
            "|   |   |   |   |   |--- class: 2\n",
            "|   |   |   |   |--- 0 >  0.10\n",
            "|   |   |   |   |   |--- class: 1\n",
            "|--- 2 >  0.07\n",
            "|   |--- 0 <= -0.92\n",
            "|   |   |--- 2 <= 2.30\n",
            "|   |   |   |--- 0 <= -1.66\n",
            "|   |   |   |   |--- 2 <= 0.76\n",
            "|   |   |   |   |   |--- 2 <= 0.55\n",
            "|   |   |   |   |   |   |--- class: 1\n",
            "|   |   |   |   |   |--- 2 >  0.55\n",
            "|   |   |   |   |   |   |--- class: 2\n",
            "|   |   |   |   |--- 2 >  0.76\n",
            "|   |   |   |   |   |--- class: 1\n",
            "|   |   |   |--- 0 >  -1.66\n",
            "|   |   |   |   |--- class: 1\n",
            "|   |   |--- 2 >  2.30\n",
            "|   |   |   |--- 1 <= -1.19\n",
            "|   |   |   |   |--- class: 1\n",
            "|   |   |   |--- 1 >  -1.19\n",
            "|   |   |   |   |--- class: 2\n",
            "|   |--- 0 >  -0.92\n",
            "|   |   |--- 1 <= -1.34\n",
            "|   |   |   |--- class: 2\n",
            "|   |   |--- 1 >  -1.34\n",
            "|   |   |   |--- 0 <= 1.58\n",
            "|   |   |   |   |--- 0 <= 1.12\n",
            "|   |   |   |   |   |--- 0 <= 0.93\n",
            "|   |   |   |   |   |   |--- 1 <= 1.74\n",
            "|   |   |   |   |   |   |   |--- 1 <= 1.43\n",
            "|   |   |   |   |   |   |   |   |--- 1 <= 0.82\n",
            "|   |   |   |   |   |   |   |   |   |--- 2 <= 0.62\n",
            "|   |   |   |   |   |   |   |   |   |   |--- 2 <= 0.34\n",
            "|   |   |   |   |   |   |   |   |   |   |   |--- truncated branch of depth 4\n",
            "|   |   |   |   |   |   |   |   |   |   |--- 2 >  0.34\n",
            "|   |   |   |   |   |   |   |   |   |   |   |--- class: 1\n",
            "|   |   |   |   |   |   |   |   |   |--- 2 >  0.62\n",
            "|   |   |   |   |   |   |   |   |   |   |--- 0 <= -0.65\n",
            "|   |   |   |   |   |   |   |   |   |   |   |--- truncated branch of depth 2\n",
            "|   |   |   |   |   |   |   |   |   |   |--- 0 >  -0.65\n",
            "|   |   |   |   |   |   |   |   |   |   |   |--- truncated branch of depth 6\n",
            "|   |   |   |   |   |   |   |   |--- 1 >  0.82\n",
            "|   |   |   |   |   |   |   |   |   |--- 2 <= 0.76\n",
            "|   |   |   |   |   |   |   |   |   |   |--- class: 2\n",
            "|   |   |   |   |   |   |   |   |   |--- 2 >  0.76\n",
            "|   |   |   |   |   |   |   |   |   |   |--- class: 1\n",
            "|   |   |   |   |   |   |   |--- 1 >  1.43\n",
            "|   |   |   |   |   |   |   |   |--- class: 2\n",
            "|   |   |   |   |   |   |--- 1 >  1.74\n",
            "|   |   |   |   |   |   |   |--- class: 1\n",
            "|   |   |   |   |   |--- 0 >  0.93\n",
            "|   |   |   |   |   |   |--- class: 1\n",
            "|   |   |   |   |--- 0 >  1.12\n",
            "|   |   |   |   |   |--- class: 2\n",
            "|   |   |   |--- 0 >  1.58\n",
            "|   |   |   |   |--- class: 1\n",
            "\n"
          ],
          "name": "stdout"
        }
      ]
    },
    {
      "cell_type": "markdown",
      "metadata": {
        "id": "zY3BZc5Q6U9a"
      },
      "source": [
        "# **Processando com redes neurais**"
      ]
    },
    {
      "cell_type": "code",
      "metadata": {
        "colab": {
          "base_uri": "https://localhost:8080/"
        },
        "id": "fyTOuaum6YuK",
        "outputId": "fc82a495-b432-49a9-f797-812312855b60"
      },
      "source": [
        "from sklearn.neural_network import MLPClassifier\n",
        "mlp = MLPClassifier(activation=\"tanh\")\n",
        "mlp.fit(X, y)\n",
        "mlp.predict(np.array(X_teste).reshape(1,-1))"
      ],
      "execution_count": null,
      "outputs": [
        {
          "output_type": "execute_result",
          "data": {
            "text/plain": [
              "array([1])"
            ]
          },
          "metadata": {
            "tags": []
          },
          "execution_count": 27
        }
      ]
    },
    {
      "cell_type": "code",
      "metadata": {
        "colab": {
          "base_uri": "https://localhost:8080/"
        },
        "id": "BKMp8VW56lCK",
        "outputId": "446f1009-56d5-4110-c4d1-5a66095c7a25"
      },
      "source": [
        "mlp = MLPClassifier(activation=\"logistic\")\n",
        "mlp.fit(X, y)\n",
        "mlp.predict(np.array(X_teste).reshape(1,-1))"
      ],
      "execution_count": null,
      "outputs": [
        {
          "output_type": "stream",
          "text": [
            "/usr/local/lib/python3.7/dist-packages/sklearn/neural_network/_multilayer_perceptron.py:571: ConvergenceWarning: Stochastic Optimizer: Maximum iterations (200) reached and the optimization hasn't converged yet.\n",
            "  % self.max_iter, ConvergenceWarning)\n"
          ],
          "name": "stderr"
        },
        {
          "output_type": "execute_result",
          "data": {
            "text/plain": [
              "array([1])"
            ]
          },
          "metadata": {
            "tags": []
          },
          "execution_count": 28
        }
      ]
    },
    {
      "cell_type": "code",
      "metadata": {
        "colab": {
          "base_uri": "https://localhost:8080/"
        },
        "id": "zfgGnmk96o1D",
        "outputId": "4051516e-fbe7-4f4b-8b6f-ddb9d0ab45ef"
      },
      "source": [
        "mlp = MLPClassifier(activation=\"relu\")\n",
        "mlp.fit(X, y)\n",
        "mlp.predict(np.array(X_teste).reshape(1,-1))"
      ],
      "execution_count": null,
      "outputs": [
        {
          "output_type": "stream",
          "text": [
            "/usr/local/lib/python3.7/dist-packages/sklearn/neural_network/_multilayer_perceptron.py:571: ConvergenceWarning: Stochastic Optimizer: Maximum iterations (200) reached and the optimization hasn't converged yet.\n",
            "  % self.max_iter, ConvergenceWarning)\n"
          ],
          "name": "stderr"
        },
        {
          "output_type": "execute_result",
          "data": {
            "text/plain": [
              "array([1])"
            ]
          },
          "metadata": {
            "tags": []
          },
          "execution_count": 29
        }
      ]
    },
    {
      "cell_type": "code",
      "metadata": {
        "colab": {
          "base_uri": "https://localhost:8080/"
        },
        "id": "W1gAvov06rob",
        "outputId": "2e7d332e-1e22-443c-de4b-5ddc1774f990"
      },
      "source": [
        "mlp = MLPClassifier(activation=\"identity\", hidden_layer_sizes=(10,))\n",
        "mlp.fit(X, y)\n",
        "mlp.predict(np.array(X_teste).reshape(1,-1))"
      ],
      "execution_count": null,
      "outputs": [
        {
          "output_type": "execute_result",
          "data": {
            "text/plain": [
              "array([1])"
            ]
          },
          "metadata": {
            "tags": []
          },
          "execution_count": 30
        }
      ]
    },
    {
      "cell_type": "markdown",
      "metadata": {
        "id": "i-RvCvB77P-L"
      },
      "source": [
        "# **Avaliando com Holdout**"
      ]
    },
    {
      "cell_type": "code",
      "metadata": {
        "colab": {
          "base_uri": "https://localhost:8080/",
          "height": 419
        },
        "id": "x-dhlB6Y7TcD",
        "outputId": "cea23d0c-9286-4bb2-9f5d-f85f1918e183"
      },
      "source": [
        "from sklearn.model_selection import train_test_split\n",
        "X_treino, X_teste, y_treino, y_teste = train_test_split(X, y, test_size=0.3, random_state=42)\n",
        "X_treino"
      ],
      "execution_count": null,
      "outputs": [
        {
          "output_type": "execute_result",
          "data": {
            "text/html": [
              "<div>\n",
              "<style scoped>\n",
              "    .dataframe tbody tr th:only-of-type {\n",
              "        vertical-align: middle;\n",
              "    }\n",
              "\n",
              "    .dataframe tbody tr th {\n",
              "        vertical-align: top;\n",
              "    }\n",
              "\n",
              "    .dataframe thead th {\n",
              "        text-align: right;\n",
              "    }\n",
              "</style>\n",
              "<table border=\"1\" class=\"dataframe\">\n",
              "  <thead>\n",
              "    <tr style=\"text-align: right;\">\n",
              "      <th></th>\n",
              "      <th>0</th>\n",
              "      <th>1</th>\n",
              "      <th>2</th>\n",
              "    </tr>\n",
              "  </thead>\n",
              "  <tbody>\n",
              "    <tr>\n",
              "      <th>72</th>\n",
              "      <td>-0.876850</td>\n",
              "      <td>0.970090</td>\n",
              "      <td>-0.003642</td>\n",
              "    </tr>\n",
              "    <tr>\n",
              "      <th>15</th>\n",
              "      <td>-1.618567</td>\n",
              "      <td>0.045331</td>\n",
              "      <td>-0.560909</td>\n",
              "    </tr>\n",
              "    <tr>\n",
              "      <th>10</th>\n",
              "      <td>-1.711282</td>\n",
              "      <td>-0.879427</td>\n",
              "      <td>-0.421592</td>\n",
              "    </tr>\n",
              "    <tr>\n",
              "      <th>164</th>\n",
              "      <td>0.050296</td>\n",
              "      <td>-0.879427</td>\n",
              "      <td>-0.282275</td>\n",
              "    </tr>\n",
              "    <tr>\n",
              "      <th>224</th>\n",
              "      <td>0.699299</td>\n",
              "      <td>0.661837</td>\n",
              "      <td>-0.560909</td>\n",
              "    </tr>\n",
              "    <tr>\n",
              "      <th>...</th>\n",
              "      <td>...</td>\n",
              "      <td>...</td>\n",
              "      <td>...</td>\n",
              "    </tr>\n",
              "    <tr>\n",
              "      <th>188</th>\n",
              "      <td>0.235725</td>\n",
              "      <td>1.894848</td>\n",
              "      <td>2.504056</td>\n",
              "    </tr>\n",
              "    <tr>\n",
              "      <th>71</th>\n",
              "      <td>-0.876850</td>\n",
              "      <td>0.661837</td>\n",
              "      <td>-0.560909</td>\n",
              "    </tr>\n",
              "    <tr>\n",
              "      <th>106</th>\n",
              "      <td>-0.505992</td>\n",
              "      <td>0.970090</td>\n",
              "      <td>1.110890</td>\n",
              "    </tr>\n",
              "    <tr>\n",
              "      <th>270</th>\n",
              "      <td>1.255586</td>\n",
              "      <td>-1.495933</td>\n",
              "      <td>-0.560909</td>\n",
              "    </tr>\n",
              "    <tr>\n",
              "      <th>102</th>\n",
              "      <td>-0.505992</td>\n",
              "      <td>1.278342</td>\n",
              "      <td>-0.560909</td>\n",
              "    </tr>\n",
              "  </tbody>\n",
              "</table>\n",
              "<p>213 rows × 3 columns</p>\n",
              "</div>"
            ],
            "text/plain": [
              "            0         1         2\n",
              "72  -0.876850  0.970090 -0.003642\n",
              "15  -1.618567  0.045331 -0.560909\n",
              "10  -1.711282 -0.879427 -0.421592\n",
              "164  0.050296 -0.879427 -0.282275\n",
              "224  0.699299  0.661837 -0.560909\n",
              "..        ...       ...       ...\n",
              "188  0.235725  1.894848  2.504056\n",
              "71  -0.876850  0.661837 -0.560909\n",
              "106 -0.505992  0.970090  1.110890\n",
              "270  1.255586 -1.495933 -0.560909\n",
              "102 -0.505992  1.278342 -0.560909\n",
              "\n",
              "[213 rows x 3 columns]"
            ]
          },
          "metadata": {
            "tags": []
          },
          "execution_count": 31
        }
      ]
    },
    {
      "cell_type": "code",
      "metadata": {
        "colab": {
          "base_uri": "https://localhost:8080/"
        },
        "id": "OWyQPc0G9LPD",
        "outputId": "9a18ea11-ae13-4eaf-f441-d3f2373d8517"
      },
      "source": [
        "mlp = MLPClassifier(activation=\"relu\", hidden_layer_sizes=(10,))\n",
        "mlp.fit(X_treino, y_treino)\n",
        "mlp.predict(X_teste)"
      ],
      "execution_count": null,
      "outputs": [
        {
          "output_type": "stream",
          "text": [
            "/usr/local/lib/python3.7/dist-packages/sklearn/neural_network/_multilayer_perceptron.py:571: ConvergenceWarning: Stochastic Optimizer: Maximum iterations (200) reached and the optimization hasn't converged yet.\n",
            "  % self.max_iter, ConvergenceWarning)\n"
          ],
          "name": "stderr"
        },
        {
          "output_type": "execute_result",
          "data": {
            "text/plain": [
              "array([1, 1, 1, 1, 1, 2, 1, 1, 1, 1, 1, 1, 1, 1, 1, 1, 1, 1, 1, 1, 1, 1,\n",
              "       1, 1, 1, 1, 1, 1, 1, 1, 1, 1, 1, 1, 1, 1, 1, 1, 1, 1, 2, 1, 1, 1,\n",
              "       1, 1, 1, 1, 1, 1, 1, 1, 1, 1, 1, 1, 1, 1, 1, 1, 1, 1, 1, 1, 2, 1,\n",
              "       2, 1, 1, 1, 1, 1, 1, 1, 1, 1, 1, 1, 1, 1, 1, 1, 1, 1, 1, 1, 1, 1,\n",
              "       1, 1, 1, 1])"
            ]
          },
          "metadata": {
            "tags": []
          },
          "execution_count": 32
        }
      ]
    },
    {
      "cell_type": "markdown",
      "metadata": {
        "id": "ldtYWuMc-AHb"
      },
      "source": [
        "# **Processando com Kfold**"
      ]
    },
    {
      "cell_type": "code",
      "metadata": {
        "colab": {
          "base_uri": "https://localhost:8080/"
        },
        "id": "2PqsP5A69_xi",
        "outputId": "d5bdf44b-9f8d-439b-9f99-fb29917f17eb"
      },
      "source": [
        "from sklearn.model_selection import KFold\n",
        "resultados = []\n",
        "kf = KFold(n_splits=10, shuffle=True)\n",
        "for index_treino, index_teste in kf.split(X):\n",
        "    X_treino, X_teste = X.iloc[index_treino], X.iloc[index_teste]\n",
        "    y_treino, y_teste = y.iloc[index_treino], y.iloc[index_teste]\n",
        "    mlp.fit(X_treino, y_treino)\n",
        "    resultados.append(mlp.predict(X_teste))\n",
        "resultados"
      ],
      "execution_count": null,
      "outputs": [
        {
          "output_type": "stream",
          "text": [
            "/usr/local/lib/python3.7/dist-packages/sklearn/neural_network/_multilayer_perceptron.py:571: ConvergenceWarning: Stochastic Optimizer: Maximum iterations (200) reached and the optimization hasn't converged yet.\n",
            "  % self.max_iter, ConvergenceWarning)\n",
            "/usr/local/lib/python3.7/dist-packages/sklearn/neural_network/_multilayer_perceptron.py:571: ConvergenceWarning: Stochastic Optimizer: Maximum iterations (200) reached and the optimization hasn't converged yet.\n",
            "  % self.max_iter, ConvergenceWarning)\n",
            "/usr/local/lib/python3.7/dist-packages/sklearn/neural_network/_multilayer_perceptron.py:571: ConvergenceWarning: Stochastic Optimizer: Maximum iterations (200) reached and the optimization hasn't converged yet.\n",
            "  % self.max_iter, ConvergenceWarning)\n",
            "/usr/local/lib/python3.7/dist-packages/sklearn/neural_network/_multilayer_perceptron.py:571: ConvergenceWarning: Stochastic Optimizer: Maximum iterations (200) reached and the optimization hasn't converged yet.\n",
            "  % self.max_iter, ConvergenceWarning)\n",
            "/usr/local/lib/python3.7/dist-packages/sklearn/neural_network/_multilayer_perceptron.py:571: ConvergenceWarning: Stochastic Optimizer: Maximum iterations (200) reached and the optimization hasn't converged yet.\n",
            "  % self.max_iter, ConvergenceWarning)\n",
            "/usr/local/lib/python3.7/dist-packages/sklearn/neural_network/_multilayer_perceptron.py:571: ConvergenceWarning: Stochastic Optimizer: Maximum iterations (200) reached and the optimization hasn't converged yet.\n",
            "  % self.max_iter, ConvergenceWarning)\n",
            "/usr/local/lib/python3.7/dist-packages/sklearn/neural_network/_multilayer_perceptron.py:571: ConvergenceWarning: Stochastic Optimizer: Maximum iterations (200) reached and the optimization hasn't converged yet.\n",
            "  % self.max_iter, ConvergenceWarning)\n",
            "/usr/local/lib/python3.7/dist-packages/sklearn/neural_network/_multilayer_perceptron.py:571: ConvergenceWarning: Stochastic Optimizer: Maximum iterations (200) reached and the optimization hasn't converged yet.\n",
            "  % self.max_iter, ConvergenceWarning)\n",
            "/usr/local/lib/python3.7/dist-packages/sklearn/neural_network/_multilayer_perceptron.py:571: ConvergenceWarning: Stochastic Optimizer: Maximum iterations (200) reached and the optimization hasn't converged yet.\n",
            "  % self.max_iter, ConvergenceWarning)\n"
          ],
          "name": "stderr"
        },
        {
          "output_type": "execute_result",
          "data": {
            "text/plain": [
              "[array([1, 1, 1, 1, 1, 1, 1, 1, 1, 1, 1, 1, 1, 1, 1, 1, 1, 1, 1, 1, 1, 1,\n",
              "        1, 1, 2, 1, 2, 1, 1, 1, 1]),\n",
              " array([1, 1, 1, 1, 1, 1, 1, 1, 1, 1, 1, 1, 1, 1, 1, 1, 1, 1, 1, 1, 1, 1,\n",
              "        1, 1, 1, 1, 1, 1, 1, 1, 1]),\n",
              " array([2, 1, 1, 1, 1, 1, 1, 1, 1, 1, 1, 1, 1, 1, 1, 1, 1, 1, 1, 2, 1, 1,\n",
              "        2, 1, 1, 1, 1, 1, 1, 1, 1]),\n",
              " array([1, 1, 1, 1, 1, 1, 1, 1, 1, 1, 1, 1, 1, 1, 1, 1, 1, 1, 1, 1, 1, 1,\n",
              "        1, 1, 1, 1, 1, 1, 1, 1, 1]),\n",
              " array([1, 1, 1, 1, 1, 1, 1, 1, 1, 1, 1, 1, 1, 1, 1, 1, 1, 1, 1, 1, 1, 1,\n",
              "        1, 1, 1, 1, 1, 1, 1, 1, 1]),\n",
              " array([1, 1, 1, 1, 1, 1, 1, 1, 1, 1, 1, 1, 1, 1, 1, 1, 1, 1, 1, 1, 1, 1,\n",
              "        1, 1, 1, 2, 1, 1, 1, 1]),\n",
              " array([1, 1, 1, 1, 1, 1, 1, 1, 1, 1, 1, 1, 1, 1, 1, 1, 1, 1, 1, 1, 1, 1,\n",
              "        1, 1, 1, 1, 1, 1, 1, 1]),\n",
              " array([1, 1, 1, 1, 1, 1, 1, 1, 1, 1, 1, 1, 1, 1, 1, 1, 1, 1, 1, 1, 1, 1,\n",
              "        1, 2, 1, 1, 1, 1, 1, 1]),\n",
              " array([1, 1, 1, 1, 1, 1, 1, 1, 1, 2, 1, 1, 1, 1, 1, 1, 1, 1, 1, 1, 1, 1,\n",
              "        2, 1, 2, 1, 1, 1, 2, 1]),\n",
              " array([1, 1, 1, 1, 1, 1, 1, 1, 1, 1, 2, 1, 1, 1, 1, 1, 2, 1, 1, 1, 1, 1,\n",
              "        1, 1, 1, 1, 1, 1, 1, 1])]"
            ]
          },
          "metadata": {
            "tags": []
          },
          "execution_count": 33
        }
      ]
    },
    {
      "cell_type": "markdown",
      "metadata": {
        "id": "EYe1TBsl-uTD"
      },
      "source": [
        "# **Metricas**"
      ]
    },
    {
      "cell_type": "code",
      "metadata": {
        "colab": {
          "base_uri": "https://localhost:8080/"
        },
        "id": "YsZ1meJl-wN7",
        "outputId": "a1247916-f2b5-4c8b-d267-31a135e3a64d"
      },
      "source": [
        "mlp = MLPClassifier(activation=\"relu\", hidden_layer_sizes=(10,))\n",
        "mlp.fit(X_treino, y_treino)\n",
        "mlp.score(X_teste, y_teste)"
      ],
      "execution_count": null,
      "outputs": [
        {
          "output_type": "stream",
          "text": [
            "/usr/local/lib/python3.7/dist-packages/sklearn/neural_network/_multilayer_perceptron.py:571: ConvergenceWarning: Stochastic Optimizer: Maximum iterations (200) reached and the optimization hasn't converged yet.\n",
            "  % self.max_iter, ConvergenceWarning)\n"
          ],
          "name": "stderr"
        },
        {
          "output_type": "execute_result",
          "data": {
            "text/plain": [
              "0.5666666666666667"
            ]
          },
          "metadata": {
            "tags": []
          },
          "execution_count": 34
        }
      ]
    },
    {
      "cell_type": "code",
      "metadata": {
        "colab": {
          "base_uri": "https://localhost:8080/"
        },
        "id": "WjN9q0tN-1gj",
        "outputId": "0bc43434-ab23-495b-dc07-d6b23d95f23f"
      },
      "source": [
        "from sklearn.metrics import precision_score, recall_score, f1_score\n",
        "y_pred = mlp.predict(X_teste)\n",
        "\n",
        "precision_score(y_teste, y_pred, average='macro')"
      ],
      "execution_count": null,
      "outputs": [
        {
          "output_type": "execute_result",
          "data": {
            "text/plain": [
              "0.7758620689655172"
            ]
          },
          "metadata": {
            "tags": []
          },
          "execution_count": 35
        }
      ]
    },
    {
      "cell_type": "code",
      "metadata": {
        "colab": {
          "base_uri": "https://localhost:8080/"
        },
        "id": "dH_Vr35r_BRK",
        "outputId": "53b44811-0044-4382-9d78-d96de44cbe97"
      },
      "source": [
        "recall_score(y_teste, y_pred, average='macro')"
      ],
      "execution_count": null,
      "outputs": [
        {
          "output_type": "execute_result",
          "data": {
            "text/plain": [
              "0.5357142857142857"
            ]
          },
          "metadata": {
            "tags": []
          },
          "execution_count": 36
        }
      ]
    },
    {
      "cell_type": "code",
      "metadata": {
        "colab": {
          "base_uri": "https://localhost:8080/"
        },
        "id": "69Eq9uIa_Dnz",
        "outputId": "43a5b967-427e-41c0-d3f1-92665b51fd99"
      },
      "source": [
        "f1_score(y_teste, y_pred, average='macro')"
      ],
      "execution_count": null,
      "outputs": [
        {
          "output_type": "execute_result",
          "data": {
            "text/plain": [
              "0.4222222222222222"
            ]
          },
          "metadata": {
            "tags": []
          },
          "execution_count": 37
        }
      ]
    },
    {
      "cell_type": "markdown",
      "metadata": {
        "id": "n1lOxZmu_ULi"
      },
      "source": [
        "# **Pratica do projeto**"
      ]
    },
    {
      "cell_type": "markdown",
      "metadata": {
        "id": "sKMvGd7So5G0"
      },
      "source": [
        "**KNN**"
      ]
    },
    {
      "cell_type": "code",
      "metadata": {
        "colab": {
          "base_uri": "https://localhost:8080/"
        },
        "id": "BcMsI9PR_XQL",
        "outputId": "7749b3a9-1789-4d60-91d2-1b9beb8d9266"
      },
      "source": [
        "X_treino, X_teste, y_treino, y_teste = train_test_split(X, y, test_size=0.3, random_state=42)\n",
        "\n",
        "valores_k = [1, 2, 3, 4, 5, 6, 7, 8, 9, 10, 11, 12, 13, 14, 15]\n",
        "resultados_knn = []\n",
        "\n",
        "for k in valores_k:\n",
        "    resultados_k = []\n",
        "    knn = KNeighborsClassifier(n_neighbors=k)\n",
        "    kf = KFold(n_splits=10, shuffle=True)\n",
        "    for index_train, index_valid in kf.split(X_treino):\n",
        "        X_train, X_validacao = X_treino.iloc[index_train], X_treino.iloc[index_valid]\n",
        "        y_train, y_validacao = y_treino.iloc[index_train], y_treino.iloc[index_valid]\n",
        "        knn.fit(X_train, y_train)\n",
        "        resultados_k.append(knn.score(X_validacao, y_validacao))\n",
        "    resultados_knn.append(sum(resultados_k)/len(resultados_k))\n",
        "resultados_knn"
      ],
      "execution_count": null,
      "outputs": [
        {
          "output_type": "execute_result",
          "data": {
            "text/plain": [
              "[0.6943722943722943,\n",
              " 0.7467532467532468,\n",
              " 0.7136363636363636,\n",
              " 0.7606060606060605,\n",
              " 0.7551948051948052,\n",
              " 0.7612554112554114,\n",
              " 0.7508658008658009,\n",
              " 0.7651515151515151,\n",
              " 0.7662337662337662,\n",
              " 0.7599567099567099,\n",
              " 0.7612554112554113,\n",
              " 0.7649350649350648,\n",
              " 0.7796536796536796,\n",
              " 0.7551948051948052,\n",
              " 0.7794372294372295]"
            ]
          },
          "metadata": {
            "tags": []
          },
          "execution_count": 38
        }
      ]
    },
    {
      "cell_type": "code",
      "metadata": {
        "colab": {
          "base_uri": "https://localhost:8080/"
        },
        "id": "XG4uLWNs_h80",
        "outputId": "960de812-2b70-4d80-a4e2-afe9cda4c5c6"
      },
      "source": [
        "knn = KNeighborsClassifier(n_neighbors=8)\n",
        "knn.fit(X_treino, y_treino)\n",
        "knn.score(X_teste, y_teste)"
      ],
      "execution_count": null,
      "outputs": [
        {
          "output_type": "execute_result",
          "data": {
            "text/plain": [
              "0.7065217391304348"
            ]
          },
          "metadata": {
            "tags": []
          },
          "execution_count": 39
        }
      ]
    },
    {
      "cell_type": "code",
      "metadata": {
        "colab": {
          "base_uri": "https://localhost:8080/"
        },
        "id": "jYPq-rmh_km8",
        "outputId": "9b642abf-f38b-4933-be65-af394c12a223"
      },
      "source": [
        "y_pred = knn.predict(X_teste)\n",
        "\n",
        "precision_score(y_teste, y_pred, average='macro')"
      ],
      "execution_count": null,
      "outputs": [
        {
          "output_type": "execute_result",
          "data": {
            "text/plain": [
              "0.6597560975609755"
            ]
          },
          "metadata": {
            "tags": []
          },
          "execution_count": 40
        }
      ]
    },
    {
      "cell_type": "code",
      "metadata": {
        "colab": {
          "base_uri": "https://localhost:8080/"
        },
        "id": "_FciqTGj_odz",
        "outputId": "4aba2f79-3deb-426d-a606-7100f85a5f85"
      },
      "source": [
        "recall_score(y_teste, y_pred, average='macro')"
      ],
      "execution_count": null,
      "outputs": [
        {
          "output_type": "execute_result",
          "data": {
            "text/plain": [
              "0.5717022441160372"
            ]
          },
          "metadata": {
            "tags": []
          },
          "execution_count": 41
        }
      ]
    },
    {
      "cell_type": "code",
      "metadata": {
        "colab": {
          "base_uri": "https://localhost:8080/"
        },
        "id": "SB9dq_9G_qdN",
        "outputId": "c2171a3b-dca1-4a50-a348-4d5ca62ba1db"
      },
      "source": [
        "f1_score(y_teste, y_pred, average='macro')"
      ],
      "execution_count": null,
      "outputs": [
        {
          "output_type": "execute_result",
          "data": {
            "text/plain": [
              "0.5607427055702918"
            ]
          },
          "metadata": {
            "tags": []
          },
          "execution_count": 42
        }
      ]
    },
    {
      "cell_type": "markdown",
      "metadata": {
        "id": "EK2FmVqto8cL"
      },
      "source": [
        "**SVM**"
      ]
    },
    {
      "cell_type": "code",
      "metadata": {
        "colab": {
          "base_uri": "https://localhost:8080/"
        },
        "id": "D8kaKJfj_s37",
        "outputId": "e346651b-3ea9-48cd-cfe0-c7cfc85c9b73"
      },
      "source": [
        "valores_kernel = [\"linear\", \"poly\", \"rbf\", \"sigmoid\"]\n",
        "resultados_svm = []\n",
        "\n",
        "for kernel in valores_kernel:\n",
        "    resultados_kernel = []\n",
        "    svc = SVC(kernel=kernel)\n",
        "    kf = KFold(n_splits=10, shuffle=True)\n",
        "    for index_train, index_valid in kf.split(X_treino):\n",
        "        X_train, X_validacao = X_treino.iloc[index_train], X_treino.iloc[index_valid]\n",
        "        y_train, y_validacao = y_treino.iloc[index_train], y_treino.iloc[index_valid]\n",
        "        svc.fit(X_train, y_train)\n",
        "        resultados_kernel.append(svc.score(X_validacao, y_validacao))\n",
        "    resultados_svm.append(sum(resultados_kernel)/len(resultados_kernel))\n",
        "resultados_svm"
      ],
      "execution_count": null,
      "outputs": [
        {
          "output_type": "execute_result",
          "data": {
            "text/plain": [
              "[0.7463203463203463,\n",
              " 0.7610389610389608,\n",
              " 0.7692640692640692,\n",
              " 0.7932900432900434]"
            ]
          },
          "metadata": {
            "tags": []
          },
          "execution_count": 43
        }
      ]
    },
    {
      "cell_type": "code",
      "metadata": {
        "colab": {
          "base_uri": "https://localhost:8080/"
        },
        "id": "uwRO_K27_yOj",
        "outputId": "b782a197-584f-4419-ccd6-1c47ae268bbf"
      },
      "source": [
        "svc = SVC(kernel=\"rbf\")\n",
        "svc.fit(X_treino, y_treino)\n",
        "svc.score(X_teste, y_teste)"
      ],
      "execution_count": null,
      "outputs": [
        {
          "output_type": "execute_result",
          "data": {
            "text/plain": [
              "0.717391304347826"
            ]
          },
          "metadata": {
            "tags": []
          },
          "execution_count": 44
        }
      ]
    },
    {
      "cell_type": "code",
      "metadata": {
        "colab": {
          "base_uri": "https://localhost:8080/"
        },
        "id": "iOPnRGi5cMg5",
        "outputId": "68a0433c-9aa8-41b1-85b3-1df043837d44"
      },
      "source": [
        "y_pred = svc.predict(X_teste)\n",
        "\n",
        "precision_score(y_teste, y_pred, average='macro')"
      ],
      "execution_count": null,
      "outputs": [
        {
          "output_type": "execute_result",
          "data": {
            "text/plain": [
              "0.6823793490460157"
            ]
          },
          "metadata": {
            "tags": []
          },
          "execution_count": 45
        }
      ]
    },
    {
      "cell_type": "code",
      "metadata": {
        "colab": {
          "base_uri": "https://localhost:8080/"
        },
        "id": "8Z2Muxr1cdMY",
        "outputId": "c583ebd4-ef56-47b5-f60b-eaf9170c4103"
      },
      "source": [
        "recall_score(y_teste, y_pred, average='macro')"
      ],
      "execution_count": null,
      "outputs": [
        {
          "output_type": "execute_result",
          "data": {
            "text/plain": [
              "0.5889436234263821"
            ]
          },
          "metadata": {
            "tags": []
          },
          "execution_count": 46
        }
      ]
    },
    {
      "cell_type": "code",
      "metadata": {
        "colab": {
          "base_uri": "https://localhost:8080/"
        },
        "id": "VVsOttSHcio5",
        "outputId": "fbc9f230-4433-4bfc-fb28-3932cf5b39be"
      },
      "source": [
        "f1_score(y_teste, y_pred, average='macro')"
      ],
      "execution_count": null,
      "outputs": [
        {
          "output_type": "execute_result",
          "data": {
            "text/plain": [
              "0.5847222222222223"
            ]
          },
          "metadata": {
            "tags": []
          },
          "execution_count": 47
        }
      ]
    },
    {
      "cell_type": "markdown",
      "metadata": {
        "id": "gmB36U_oqyKr"
      },
      "source": [
        "**MLP**"
      ]
    },
    {
      "cell_type": "code",
      "metadata": {
        "colab": {
          "base_uri": "https://localhost:8080/"
        },
        "id": "dRHIxszoqz-t",
        "outputId": "6114e5cc-c8e3-477c-c4c9-196982ce13c9"
      },
      "source": [
        "valores_ativacao = [\"identity\", \"logistic\", \"tanh\", \"relu\"]\n",
        "resultados_mlp = []\n",
        "\n",
        "for ativacao in valores_ativacao:\n",
        "    resultados_ativacao = []\n",
        "    mlp = MLPClassifier(activation=ativacao)\n",
        "    kf = KFold(n_splits=10, shuffle=True)\n",
        "    for index_train, index_valid in kf.split(X_treino):\n",
        "        X_train, X_validacao = X_treino.iloc[index_train], X_treino.iloc[index_valid]\n",
        "        y_train, y_validacao = y_treino.iloc[index_train], y_treino.iloc[index_valid]\n",
        "        mlp.fit(X_train, y_train)\n",
        "        resultados_ativacao.append(svc.score(X_validacao, y_validacao))\n",
        "    resultados_mlp.append(sum(resultados_ativacao)/len(resultados_ativacao))\n",
        "resultados_mlp"
      ],
      "execution_count": null,
      "outputs": [
        {
          "output_type": "stream",
          "text": [
            "/usr/local/lib/python3.7/dist-packages/sklearn/neural_network/_multilayer_perceptron.py:571: ConvergenceWarning: Stochastic Optimizer: Maximum iterations (200) reached and the optimization hasn't converged yet.\n",
            "  % self.max_iter, ConvergenceWarning)\n",
            "/usr/local/lib/python3.7/dist-packages/sklearn/neural_network/_multilayer_perceptron.py:571: ConvergenceWarning: Stochastic Optimizer: Maximum iterations (200) reached and the optimization hasn't converged yet.\n",
            "  % self.max_iter, ConvergenceWarning)\n",
            "/usr/local/lib/python3.7/dist-packages/sklearn/neural_network/_multilayer_perceptron.py:571: ConvergenceWarning: Stochastic Optimizer: Maximum iterations (200) reached and the optimization hasn't converged yet.\n",
            "  % self.max_iter, ConvergenceWarning)\n",
            "/usr/local/lib/python3.7/dist-packages/sklearn/neural_network/_multilayer_perceptron.py:571: ConvergenceWarning: Stochastic Optimizer: Maximum iterations (200) reached and the optimization hasn't converged yet.\n",
            "  % self.max_iter, ConvergenceWarning)\n",
            "/usr/local/lib/python3.7/dist-packages/sklearn/neural_network/_multilayer_perceptron.py:571: ConvergenceWarning: Stochastic Optimizer: Maximum iterations (200) reached and the optimization hasn't converged yet.\n",
            "  % self.max_iter, ConvergenceWarning)\n",
            "/usr/local/lib/python3.7/dist-packages/sklearn/neural_network/_multilayer_perceptron.py:571: ConvergenceWarning: Stochastic Optimizer: Maximum iterations (200) reached and the optimization hasn't converged yet.\n",
            "  % self.max_iter, ConvergenceWarning)\n",
            "/usr/local/lib/python3.7/dist-packages/sklearn/neural_network/_multilayer_perceptron.py:571: ConvergenceWarning: Stochastic Optimizer: Maximum iterations (200) reached and the optimization hasn't converged yet.\n",
            "  % self.max_iter, ConvergenceWarning)\n",
            "/usr/local/lib/python3.7/dist-packages/sklearn/neural_network/_multilayer_perceptron.py:571: ConvergenceWarning: Stochastic Optimizer: Maximum iterations (200) reached and the optimization hasn't converged yet.\n",
            "  % self.max_iter, ConvergenceWarning)\n",
            "/usr/local/lib/python3.7/dist-packages/sklearn/neural_network/_multilayer_perceptron.py:571: ConvergenceWarning: Stochastic Optimizer: Maximum iterations (200) reached and the optimization hasn't converged yet.\n",
            "  % self.max_iter, ConvergenceWarning)\n",
            "/usr/local/lib/python3.7/dist-packages/sklearn/neural_network/_multilayer_perceptron.py:571: ConvergenceWarning: Stochastic Optimizer: Maximum iterations (200) reached and the optimization hasn't converged yet.\n",
            "  % self.max_iter, ConvergenceWarning)\n",
            "/usr/local/lib/python3.7/dist-packages/sklearn/neural_network/_multilayer_perceptron.py:571: ConvergenceWarning: Stochastic Optimizer: Maximum iterations (200) reached and the optimization hasn't converged yet.\n",
            "  % self.max_iter, ConvergenceWarning)\n",
            "/usr/local/lib/python3.7/dist-packages/sklearn/neural_network/_multilayer_perceptron.py:571: ConvergenceWarning: Stochastic Optimizer: Maximum iterations (200) reached and the optimization hasn't converged yet.\n",
            "  % self.max_iter, ConvergenceWarning)\n",
            "/usr/local/lib/python3.7/dist-packages/sklearn/neural_network/_multilayer_perceptron.py:571: ConvergenceWarning: Stochastic Optimizer: Maximum iterations (200) reached and the optimization hasn't converged yet.\n",
            "  % self.max_iter, ConvergenceWarning)\n",
            "/usr/local/lib/python3.7/dist-packages/sklearn/neural_network/_multilayer_perceptron.py:571: ConvergenceWarning: Stochastic Optimizer: Maximum iterations (200) reached and the optimization hasn't converged yet.\n",
            "  % self.max_iter, ConvergenceWarning)\n",
            "/usr/local/lib/python3.7/dist-packages/sklearn/neural_network/_multilayer_perceptron.py:571: ConvergenceWarning: Stochastic Optimizer: Maximum iterations (200) reached and the optimization hasn't converged yet.\n",
            "  % self.max_iter, ConvergenceWarning)\n",
            "/usr/local/lib/python3.7/dist-packages/sklearn/neural_network/_multilayer_perceptron.py:571: ConvergenceWarning: Stochastic Optimizer: Maximum iterations (200) reached and the optimization hasn't converged yet.\n",
            "  % self.max_iter, ConvergenceWarning)\n",
            "/usr/local/lib/python3.7/dist-packages/sklearn/neural_network/_multilayer_perceptron.py:571: ConvergenceWarning: Stochastic Optimizer: Maximum iterations (200) reached and the optimization hasn't converged yet.\n",
            "  % self.max_iter, ConvergenceWarning)\n"
          ],
          "name": "stderr"
        },
        {
          "output_type": "execute_result",
          "data": {
            "text/plain": [
              "[0.8129870129870129,\n",
              " 0.8127705627705627,\n",
              " 0.8123376623376624,\n",
              " 0.8127705627705628]"
            ]
          },
          "metadata": {
            "tags": []
          },
          "execution_count": 48
        }
      ]
    },
    {
      "cell_type": "code",
      "metadata": {
        "id": "791b6662",
        "colab": {
          "base_uri": "https://localhost:8080/"
        },
        "outputId": "15117f86-65f0-4fab-84c3-b360a7bc81b8"
      },
      "source": [
        "#como os valores foram iguais/empataram escolhir um deles.para obter a curacia de..\n",
        "mlp = MLPClassifier(activation=\"logistic\")\n",
        "mlp.fit(X_treino, y_treino)\n",
        "mlp.score(X_teste, y_teste)\n"
      ],
      "execution_count": null,
      "outputs": [
        {
          "output_type": "execute_result",
          "data": {
            "text/plain": [
              "0.6956521739130435"
            ]
          },
          "metadata": {
            "tags": []
          },
          "execution_count": 49
        }
      ]
    },
    {
      "cell_type": "code",
      "metadata": {
        "colab": {
          "base_uri": "https://localhost:8080/"
        },
        "id": "D5SXLPF2rvAM",
        "outputId": "bbd8445a-030a-4d3f-c342-66a496e01f77"
      },
      "source": [
        "y_pred = mlp.predict(X_teste)\n",
        "\n",
        "precision_score(y_teste, y_pred, average='macro')"
      ],
      "execution_count": null,
      "outputs": [
        {
          "output_type": "execute_result",
          "data": {
            "text/plain": [
              "0.6816479400749064"
            ]
          },
          "metadata": {
            "tags": []
          },
          "execution_count": 50
        }
      ]
    },
    {
      "cell_type": "code",
      "metadata": {
        "colab": {
          "base_uri": "https://localhost:8080/"
        },
        "id": "Vs7VdEQzrzhz",
        "outputId": "c70d95d8-7ead-4f28-b480-eed23b569103"
      },
      "source": [
        "recall_score(y_teste, y_pred, average='macro')"
      ],
      "execution_count": null,
      "outputs": [
        {
          "output_type": "execute_result",
          "data": {
            "text/plain": [
              "0.5265462506841817"
            ]
          },
          "metadata": {
            "tags": []
          },
          "execution_count": 51
        }
      ]
    },
    {
      "cell_type": "code",
      "metadata": {
        "colab": {
          "base_uri": "https://localhost:8080/"
        },
        "id": "HvyDkXXnr3G8",
        "outputId": "dda5bc92-0921-4a87-9ec4-4023f046367d"
      },
      "source": [
        "f1_score(y_teste, y_pred, average='macro')"
      ],
      "execution_count": null,
      "outputs": [
        {
          "output_type": "execute_result",
          "data": {
            "text/plain": [
              "0.47039473684210525"
            ]
          },
          "metadata": {
            "tags": []
          },
          "execution_count": 52
        }
      ]
    },
    {
      "cell_type": "markdown",
      "metadata": {
        "id": "SvaiUMaQr8v0"
      },
      "source": [
        "**navebays**"
      ]
    },
    {
      "cell_type": "code",
      "metadata": {
        "colab": {
          "base_uri": "https://localhost:8080/"
        },
        "id": "M4EJE09or3F7",
        "outputId": "b8a47f16-95e0-46e7-d6ef-a56aa1b1c857"
      },
      "source": [
        "gnb = GaussianNB()\n",
        "gnb.fit(X_treino, y_treino)\n",
        "gnb.score(X_teste, y_teste)"
      ],
      "execution_count": null,
      "outputs": [
        {
          "output_type": "execute_result",
          "data": {
            "text/plain": [
              "0.6956521739130435"
            ]
          },
          "metadata": {
            "tags": []
          },
          "execution_count": 53
        }
      ]
    },
    {
      "cell_type": "code",
      "metadata": {
        "colab": {
          "base_uri": "https://localhost:8080/"
        },
        "id": "cis6ed7TsDQ1",
        "outputId": "1729410c-3fd0-450e-eb82-9b6eddf15bcd"
      },
      "source": [
        "y_pred = gnb.predict(X_teste)\n",
        "\n",
        "precision_score(y_teste, y_pred, average='macro')"
      ],
      "execution_count": null,
      "outputs": [
        {
          "output_type": "execute_result",
          "data": {
            "text/plain": [
              "0.6307519640852974"
            ]
          },
          "metadata": {
            "tags": []
          },
          "execution_count": 54
        }
      ]
    },
    {
      "cell_type": "code",
      "metadata": {
        "colab": {
          "base_uri": "https://localhost:8080/"
        },
        "id": "D-CMuViqsDPk",
        "outputId": "6b0b77b5-f07c-4e60-8462-662df2db45b8"
      },
      "source": [
        "recall_score(y_teste, y_pred, average='macro')"
      ],
      "execution_count": null,
      "outputs": [
        {
          "output_type": "execute_result",
          "data": {
            "text/plain": [
              "0.5637657361795293"
            ]
          },
          "metadata": {
            "tags": []
          },
          "execution_count": 55
        }
      ]
    },
    {
      "cell_type": "code",
      "metadata": {
        "colab": {
          "base_uri": "https://localhost:8080/"
        },
        "id": "6B7AllgBsHKj",
        "outputId": "af721d62-63f0-4c10-b220-80dab62e861f"
      },
      "source": [
        "f1_score(y_teste, y_pred, average='macro')"
      ],
      "execution_count": null,
      "outputs": [
        {
          "output_type": "execute_result",
          "data": {
            "text/plain": [
              "0.5527777777777778"
            ]
          },
          "metadata": {
            "tags": []
          },
          "execution_count": 56
        }
      ]
    },
    {
      "cell_type": "markdown",
      "metadata": {
        "id": "NI9jCelPvpfd"
      },
      "source": [
        "**Arvore**"
      ]
    },
    {
      "cell_type": "code",
      "metadata": {
        "id": "cf482d23",
        "colab": {
          "base_uri": "https://localhost:8080/"
        },
        "outputId": "61404296-9c6f-4dca-d209-ad4c32e75c75"
      },
      "source": [
        "arvore = DecisionTreeClassifier(criterion=\"entropy\")\n",
        "arvore.fit(X_treino, y_treino)\n",
        "arvore.score(X_teste, y_teste)"
      ],
      "execution_count": null,
      "outputs": [
        {
          "output_type": "execute_result",
          "data": {
            "text/plain": [
              "0.6630434782608695"
            ]
          },
          "metadata": {
            "tags": []
          },
          "execution_count": 57
        }
      ]
    },
    {
      "cell_type": "code",
      "metadata": {
        "id": "e78540c5",
        "colab": {
          "base_uri": "https://localhost:8080/"
        },
        "outputId": "4e5ff419-b79a-4760-ed7b-48b430d601af"
      },
      "source": [
        "#precisão\n",
        "y_pred = arvore.predict(X_teste)\n",
        "\n",
        "precision_score(y_teste, y_pred, average='macro')"
      ],
      "execution_count": null,
      "outputs": [
        {
          "output_type": "execute_result",
          "data": {
            "text/plain": [
              "0.5327380952380952"
            ]
          },
          "metadata": {
            "tags": []
          },
          "execution_count": 58
        }
      ]
    },
    {
      "cell_type": "code",
      "metadata": {
        "id": "b4eeafcb",
        "colab": {
          "base_uri": "https://localhost:8080/"
        },
        "outputId": "4860c02e-6a5d-4bd7-fcc8-c3ab08927cb8"
      },
      "source": [
        "#recall\n",
        "recall_score(y_teste, y_pred, average='macro')"
      ],
      "execution_count": null,
      "outputs": [
        {
          "output_type": "execute_result",
          "data": {
            "text/plain": [
              "0.5120415982484948"
            ]
          },
          "metadata": {
            "tags": []
          },
          "execution_count": 59
        }
      ]
    },
    {
      "cell_type": "code",
      "metadata": {
        "id": "f520f835",
        "colab": {
          "base_uri": "https://localhost:8080/"
        },
        "outputId": "6f199aac-7357-4a52-a45b-1a38a7c68339"
      },
      "source": [
        "#f1-score\n",
        "f1_score(y_teste, y_pred, average='macro')"
      ],
      "execution_count": null,
      "outputs": [
        {
          "output_type": "execute_result",
          "data": {
            "text/plain": [
              "0.4756389042103327"
            ]
          },
          "metadata": {
            "tags": []
          },
          "execution_count": 60
        }
      ]
    }
  ]
}